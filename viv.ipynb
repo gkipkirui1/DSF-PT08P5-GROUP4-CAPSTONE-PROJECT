{
 "cells": [
  {
   "cell_type": "markdown",
   "metadata": {},
   "source": [
    "### Topic Suggestion \n",
    "1. Fraud Detection in Financial Transactions: A Machine Learning Approach\n",
    "2. Identifying Fraudulent Transactions: Predictive Modeling\n",
    "3. Building an Intelligent Fraud Detection System\n",
    "4. Data-Driven Approach for Transaction Anomaly Detection"
   ]
  },
  {
   "cell_type": "markdown",
   "metadata": {},
   "source": [
    "## Project Preview\n",
    "---\n",
    "\n",
    "According to INTERPOL's (2024) assessment, regions such as West and Southern Africa have seen an increase in romance baiting frauds, while Asia has become a focal point for telecommunication frauds where perpetrators impersonate law enforcement or bank officials to extract financial information from victims.Among financial institutions, commercial banks and health insurers have been notably affected by fraud. Additionally, identity fraud has emerged as a predominant threat, accounting for 45% of all adverse contributions reported by banks and financial service providers in 2023, with projections suggesting it could reach 50% by the end of the year,(Retain Banker International, 2024). Interpol (2024) states that causes of fraud in commercial banks and financial institutions are multifaceted. The increased use of technology has enabled organized crime groups to conduct sophisticated fraud campaigns at relatively low costs. Moreover, PYMNTS (2024) indicates the rise in scam-related frauds, particularly those exploiting consumer trust through social engineering, has led to a 56% increase in such incidents in 2024, surpassing traditional digital payment crimes. Regarding transaction methods, scams have become the leading form of fraud, surpassing digital payment fraud. The share of scam-related fraud increased by 56% in 2024, with financial losses from scams rising by 121%. These scams now account for 23% of all fraudulent transactions, with relationship and product scams responsible for most losses,(PYMNTS,2024). \n",
    "\n",
    "In Kenya, financial fraud has become an escalating concern, with recent incidents highlighting the vulnerability of the nation's financial institutions,(Kenay Wall Street,2024). A notable case involves Kiwipay Kenya Limited, where approximately Ksh2.3 billion ($19.48 million) was frozen due to suspicions of debit card fraud linked to an international syndicate. The CBK (2025) has identified several factors contributing to the rise of fraud within the country's financial sector. These include the increased adoption of information and communication technology (ICT), which, while enhancing operational efficiency, has also opened new avenues for cybercriminals. Additionally, a general lack of awareness regarding financial security among consumers has made them more susceptible to schemes such as social engineering and identity theft. Emerging cyber threats further exacerbate these challenges, necessitating robust cybersecurity measures across financial institutions. Among the various transaction methods, digital payment platforms have been significantly targeted by fraudsters. The CBK has observed that mobile and internet banking channels are particularly vulnerable, with fraudsters exploiting these platforms to conduct unauthorized transactions. This trend underscores the need for enhanced security protocols and increased consumer education to mitigate the risks associated with digital financial services."
   ]
  },
  {
   "cell_type": "markdown",
   "metadata": {},
   "source": [
    "## **Problem Statement**\n",
    "---\n",
    "The Central Bank of Kenya (CBK) has highlighted key risk factors, including the rapid adoption of digital financial services, low consumer awareness of financial security, and emerging cyber threats that continue to evolve. Furthermore, scam-related frauds, identity theft, and social engineering tactics have intensified, leading to substantial financial losses and undermining public trust in the financial sector. In response to these challenges, we aim to develop a robust fraud detection and prevention model that leverages advanced technologies such as machine learning, artificial intelligence, and real-time transaction monitoring. This model will enhance the ability of financial institutions to detect fraudulent activities proactively, mitigate risks, and strengthen cybersecurity measures. \n",
    "\n",
    "## **Objectives**\n",
    "---\n",
    "\n"
   ]
  },
  {
   "cell_type": "markdown",
   "metadata": {},
   "source": [
    "## **Data Source and description**\n",
    "\n",
    "The data was sourced from https://www.kaggle.com/datasets/marusagar/bank-transaction-fraud-detection\n",
    "\n",
    "The dataset used for model building contained 200000 observations of 24 variables.\n",
    "\n",
    "Here are the information of the columns:\n",
    "\n",
    "* Customer_ID: A particular identifier for every customer within the bank's system.\n",
    "\n",
    "* Customer_Name: The name of the consumer making the transaction.\n",
    "\n",
    "* Gender: The gender of the consumer (e.G., Male, Female, Other).\n",
    "\n",
    "* Age: The age of the consumer at the time of the transaction.\n",
    "\n",
    "* State: The nation in which the patron resides.\n",
    "\n",
    "* City: The metropolis wherein the client is living.\n",
    "\n",
    "* Bank_Branch: The specific financial institution branch wherein the consumer holds their account.\n",
    "\n",
    "* Account_Type: The kind of account held with the aid of the customer (e.G., Savings, Checking).\n",
    "\n",
    "* Transaction_ID: A particular identifier for each transaction.\n",
    "\n",
    "* Transaction_Date: The date on which the transaction passed off.\n",
    "\n",
    "* Transaction_Time: The specific time the transaction became initiated.\n",
    "\n",
    "* Transaction_Amount: The financial value of the transaction.\n",
    "\n",
    "* Merchant_ID: A particular identifier for the merchant worried within the transaction.\n",
    "\n",
    "* Transaction_Type: The nature of the transaction (e.G., Withdrawal, Deposit, Transfer).\n",
    "\n",
    "* Merchant_Category: The class of the merchant (e.G., Retail, Online, Travel).\n",
    "\n",
    "* Account_Balance: The balance of the customer's account after the transaction.\n",
    "\n",
    "* Transaction_Device: The tool utilized by the consumer to perform the transaction (e.G., Mobile, Desktop).\n",
    "\n",
    "* Transaction_Location: The geographical vicinity (e.G., latitude, longitude) of the transaction.\n",
    "\n",
    "* Device_Type: The kind of device used for the transaction (e.G., Smartphone, Laptop).\n",
    "\n",
    "* Is_Fraud: A binary indicator (1 or zero) indicating whether or not the transaction is fraudulent or now not.\n",
    "\n",
    "* Transaction_Currency: The currency used for the transaction (e.G., USD, EUR).\n",
    "\n",
    "* Customer_Contact: The contact variety of the client.\n",
    "\n",
    "* Transaction_Description: A brief description of the transaction (e.G., buy, switch).\n",
    "\n",
    "* Customer_Email: The e-mail cope with related to the consumer's account.**\n"
   ]
  },
  {
   "cell_type": "markdown",
   "metadata": {},
   "source": [
    "## Import the packages"
   ]
  },
  {
   "cell_type": "code",
   "execution_count": 73,
   "metadata": {},
   "outputs": [],
   "source": [
    "# import relevant libraries\n",
    "import zipfile\n",
    "import pandas as pd\n",
    "import numpy as np\n",
    "import seaborn as sns\n",
    "import matplotlib.pyplot as plt\n",
    "import zipfile\n",
    "import os\n",
    "from sklearn.preprocessing import StandardScaler, LabelEncoder\n",
    "from datetime import datetime\n",
    "from sklearn.model_selection import train_test_split\n",
    "from sklearn.ensemble import RandomForestClassifier\n",
    "from sklearn.linear_model import LogisticRegression\n",
    "from sklearn.metrics import accuracy_score, classification_report\n",
    "from sklearn.tree import DecisionTreeClassifier\n",
    "from sklearn import metrics"
   ]
  },
  {
   "cell_type": "markdown",
   "metadata": {},
   "source": [
    "## Data Loading "
   ]
  },
  {
   "cell_type": "code",
   "execution_count": 74,
   "metadata": {},
   "outputs": [
    {
     "name": "stdout",
     "output_type": "stream",
     "text": [
      "Files extracted to data\n"
     ]
    }
   ],
   "source": [
    "# Path the zip file\n",
    "zip_file_path = 'data/archive.zip'\n",
    "extracted_files_path = 'data'\n",
    "\n",
    "# Checking existence of the output directory\n",
    "os.makedirs(extracted_files_path, exist_ok=True)\n",
    "\n",
    "# Unzipping the archive file\n",
    "with zipfile.ZipFile(zip_file_path, 'r') as zip_ref:\n",
    "    zip_ref.extractall(extracted_files_path)\n",
    "\n",
    "print(f\"Files extracted to {extracted_files_path}\")"
   ]
  },
  {
   "cell_type": "code",
   "execution_count": 75,
   "metadata": {},
   "outputs": [
    {
     "data": {
      "application/vnd.microsoft.datawrangler.viewer.v0+json": {
       "columns": [
        {
         "name": "index",
         "rawType": "int64",
         "type": "integer"
        },
        {
         "name": "Customer_ID",
         "rawType": "object",
         "type": "string"
        },
        {
         "name": "Customer_Name",
         "rawType": "object",
         "type": "string"
        },
        {
         "name": "Gender",
         "rawType": "object",
         "type": "string"
        },
        {
         "name": "Age",
         "rawType": "int64",
         "type": "integer"
        },
        {
         "name": "State",
         "rawType": "object",
         "type": "string"
        },
        {
         "name": "City",
         "rawType": "object",
         "type": "string"
        },
        {
         "name": "Bank_Branch",
         "rawType": "object",
         "type": "string"
        },
        {
         "name": "Account_Type",
         "rawType": "object",
         "type": "string"
        },
        {
         "name": "Transaction_ID",
         "rawType": "object",
         "type": "string"
        },
        {
         "name": "Transaction_Date",
         "rawType": "object",
         "type": "string"
        },
        {
         "name": "Transaction_Time",
         "rawType": "object",
         "type": "string"
        },
        {
         "name": "Transaction_Amount",
         "rawType": "float64",
         "type": "float"
        },
        {
         "name": "Merchant_ID",
         "rawType": "object",
         "type": "string"
        },
        {
         "name": "Transaction_Type",
         "rawType": "object",
         "type": "string"
        },
        {
         "name": "Merchant_Category",
         "rawType": "object",
         "type": "string"
        },
        {
         "name": "Account_Balance",
         "rawType": "float64",
         "type": "float"
        },
        {
         "name": "Transaction_Device",
         "rawType": "object",
         "type": "string"
        },
        {
         "name": "Transaction_Location",
         "rawType": "object",
         "type": "string"
        },
        {
         "name": "Device_Type",
         "rawType": "object",
         "type": "string"
        },
        {
         "name": "Is_Fraud",
         "rawType": "int64",
         "type": "integer"
        },
        {
         "name": "Transaction_Currency",
         "rawType": "object",
         "type": "string"
        },
        {
         "name": "Customer_Contact",
         "rawType": "object",
         "type": "string"
        },
        {
         "name": "Transaction_Description",
         "rawType": "object",
         "type": "string"
        },
        {
         "name": "Customer_Email",
         "rawType": "object",
         "type": "string"
        }
       ],
       "conversionMethod": "pd.DataFrame",
       "ref": "11c057e0-5138-4e0c-93a0-4eda5e8da405",
       "rows": [
        [
         "0",
         "d5f6ec07-d69e-4f47-b9b4-7c58ff17c19e",
         "Osha Tella",
         "Male",
         "60",
         "Kerala",
         "Thiruvananthapuram",
         "Thiruvananthapuram Branch",
         "Savings",
         "4fa3208f-9e23-42dc-b330-844829d0c12c",
         "23-01-2025",
         "16:04:07",
         "32415.45",
         "214e03c5-5c34-40d1-a66c-f440aa2bbd02",
         "Transfer",
         "Restaurant",
         "74557.27",
         "Voice Assistant",
         "Thiruvananthapuram, Kerala",
         "POS",
         "0",
         "INR",
         "+9198579XXXXXX",
         "Bitcoin transaction",
         "oshaXXXXX@XXXXX.com"
        ],
        [
         "1",
         "7c14ad51-781a-4db9-b7bd-67439c175262",
         "Hredhaan Khosla",
         "Female",
         "51",
         "Maharashtra",
         "Nashik",
         "Nashik Branch",
         "Business",
         "c9de0c06-2c4c-40a9-97ed-3c7b8f97c79c",
         "11-01-2025",
         "17:14:53",
         "43622.6",
         "f9e3f11f-28d3-4199-b0ca-f225a155ede6",
         "Bill Payment",
         "Restaurant",
         "74622.66",
         "POS Mobile Device",
         "Nashik, Maharashtra",
         "Desktop",
         "0",
         "INR",
         "+9191074XXXXXX",
         "Grocery delivery",
         "hredhaanXXXX@XXXXXX.com"
        ],
        [
         "2",
         "3a73a0e5-d4da-45aa-85f3-528413900a35",
         "Ekani Nazareth",
         "Male",
         "20",
         "Bihar",
         "Bhagalpur",
         "Bhagalpur Branch",
         "Savings",
         "e41c55f9-c016-4ff3-872b-cae72467c75c",
         "25-01-2025",
         "03:09:52",
         "63062.56",
         "97977d83-5486-4510-af1c-8dada3e1cfa0",
         "Bill Payment",
         "Groceries",
         "66817.99",
         "ATM",
         "Bhagalpur, Bihar",
         "Desktop",
         "0",
         "INR",
         "+9197745XXXXXX",
         "Mutual fund investment",
         "ekaniXXX@XXXXXX.com"
        ],
        [
         "3",
         "7902f4ef-9050-4a79-857d-9c2ea3181940",
         "Yamini Ramachandran",
         "Female",
         "57",
         "Tamil Nadu",
         "Chennai",
         "Chennai Branch",
         "Business",
         "7f7ee11b-ff2c-45a3-802a-49bc47c02ecb",
         "19-01-2025",
         "12:27:02",
         "14000.72",
         "f45cd6b3-5092-44d0-8afb-490894605184",
         "Debit",
         "Entertainment",
         "58177.08",
         "POS Mobile App",
         "Chennai, Tamil Nadu",
         "Mobile",
         "0",
         "INR",
         "+9195889XXXXXX",
         "Food delivery",
         "yaminiXXXXX@XXXXXXX.com"
        ],
        [
         "4",
         "3a4bba70-d9a9-4c5f-8b92-1735fd8c19e9",
         "Kritika Rege",
         "Female",
         "43",
         "Punjab",
         "Amritsar",
         "Amritsar Branch",
         "Savings",
         "f8e6ac6f-81a1-4985-bf12-f60967d852ef",
         "30-01-2025",
         "18:30:46",
         "18335.16",
         "70dd77dd-3b00-4b2c-8ebc-cfb8af5f6741",
         "Transfer",
         "Entertainment",
         "16108.56",
         "Virtual Card",
         "Amritsar, Punjab",
         "Mobile",
         "0",
         "INR",
         "+9195316XXXXXX",
         "Debt repayment",
         "kritikaXXXX@XXXXXX.com"
        ]
       ],
       "shape": {
        "columns": 24,
        "rows": 5
       }
      },
      "text/html": [
       "<div>\n",
       "<style scoped>\n",
       "    .dataframe tbody tr th:only-of-type {\n",
       "        vertical-align: middle;\n",
       "    }\n",
       "\n",
       "    .dataframe tbody tr th {\n",
       "        vertical-align: top;\n",
       "    }\n",
       "\n",
       "    .dataframe thead th {\n",
       "        text-align: right;\n",
       "    }\n",
       "</style>\n",
       "<table border=\"1\" class=\"dataframe\">\n",
       "  <thead>\n",
       "    <tr style=\"text-align: right;\">\n",
       "      <th></th>\n",
       "      <th>Customer_ID</th>\n",
       "      <th>Customer_Name</th>\n",
       "      <th>Gender</th>\n",
       "      <th>Age</th>\n",
       "      <th>State</th>\n",
       "      <th>City</th>\n",
       "      <th>Bank_Branch</th>\n",
       "      <th>Account_Type</th>\n",
       "      <th>Transaction_ID</th>\n",
       "      <th>Transaction_Date</th>\n",
       "      <th>...</th>\n",
       "      <th>Merchant_Category</th>\n",
       "      <th>Account_Balance</th>\n",
       "      <th>Transaction_Device</th>\n",
       "      <th>Transaction_Location</th>\n",
       "      <th>Device_Type</th>\n",
       "      <th>Is_Fraud</th>\n",
       "      <th>Transaction_Currency</th>\n",
       "      <th>Customer_Contact</th>\n",
       "      <th>Transaction_Description</th>\n",
       "      <th>Customer_Email</th>\n",
       "    </tr>\n",
       "  </thead>\n",
       "  <tbody>\n",
       "    <tr>\n",
       "      <th>0</th>\n",
       "      <td>d5f6ec07-d69e-4f47-b9b4-7c58ff17c19e</td>\n",
       "      <td>Osha Tella</td>\n",
       "      <td>Male</td>\n",
       "      <td>60</td>\n",
       "      <td>Kerala</td>\n",
       "      <td>Thiruvananthapuram</td>\n",
       "      <td>Thiruvananthapuram Branch</td>\n",
       "      <td>Savings</td>\n",
       "      <td>4fa3208f-9e23-42dc-b330-844829d0c12c</td>\n",
       "      <td>23-01-2025</td>\n",
       "      <td>...</td>\n",
       "      <td>Restaurant</td>\n",
       "      <td>74557.27</td>\n",
       "      <td>Voice Assistant</td>\n",
       "      <td>Thiruvananthapuram, Kerala</td>\n",
       "      <td>POS</td>\n",
       "      <td>0</td>\n",
       "      <td>INR</td>\n",
       "      <td>+9198579XXXXXX</td>\n",
       "      <td>Bitcoin transaction</td>\n",
       "      <td>oshaXXXXX@XXXXX.com</td>\n",
       "    </tr>\n",
       "    <tr>\n",
       "      <th>1</th>\n",
       "      <td>7c14ad51-781a-4db9-b7bd-67439c175262</td>\n",
       "      <td>Hredhaan Khosla</td>\n",
       "      <td>Female</td>\n",
       "      <td>51</td>\n",
       "      <td>Maharashtra</td>\n",
       "      <td>Nashik</td>\n",
       "      <td>Nashik Branch</td>\n",
       "      <td>Business</td>\n",
       "      <td>c9de0c06-2c4c-40a9-97ed-3c7b8f97c79c</td>\n",
       "      <td>11-01-2025</td>\n",
       "      <td>...</td>\n",
       "      <td>Restaurant</td>\n",
       "      <td>74622.66</td>\n",
       "      <td>POS Mobile Device</td>\n",
       "      <td>Nashik, Maharashtra</td>\n",
       "      <td>Desktop</td>\n",
       "      <td>0</td>\n",
       "      <td>INR</td>\n",
       "      <td>+9191074XXXXXX</td>\n",
       "      <td>Grocery delivery</td>\n",
       "      <td>hredhaanXXXX@XXXXXX.com</td>\n",
       "    </tr>\n",
       "    <tr>\n",
       "      <th>2</th>\n",
       "      <td>3a73a0e5-d4da-45aa-85f3-528413900a35</td>\n",
       "      <td>Ekani Nazareth</td>\n",
       "      <td>Male</td>\n",
       "      <td>20</td>\n",
       "      <td>Bihar</td>\n",
       "      <td>Bhagalpur</td>\n",
       "      <td>Bhagalpur Branch</td>\n",
       "      <td>Savings</td>\n",
       "      <td>e41c55f9-c016-4ff3-872b-cae72467c75c</td>\n",
       "      <td>25-01-2025</td>\n",
       "      <td>...</td>\n",
       "      <td>Groceries</td>\n",
       "      <td>66817.99</td>\n",
       "      <td>ATM</td>\n",
       "      <td>Bhagalpur, Bihar</td>\n",
       "      <td>Desktop</td>\n",
       "      <td>0</td>\n",
       "      <td>INR</td>\n",
       "      <td>+9197745XXXXXX</td>\n",
       "      <td>Mutual fund investment</td>\n",
       "      <td>ekaniXXX@XXXXXX.com</td>\n",
       "    </tr>\n",
       "    <tr>\n",
       "      <th>3</th>\n",
       "      <td>7902f4ef-9050-4a79-857d-9c2ea3181940</td>\n",
       "      <td>Yamini Ramachandran</td>\n",
       "      <td>Female</td>\n",
       "      <td>57</td>\n",
       "      <td>Tamil Nadu</td>\n",
       "      <td>Chennai</td>\n",
       "      <td>Chennai Branch</td>\n",
       "      <td>Business</td>\n",
       "      <td>7f7ee11b-ff2c-45a3-802a-49bc47c02ecb</td>\n",
       "      <td>19-01-2025</td>\n",
       "      <td>...</td>\n",
       "      <td>Entertainment</td>\n",
       "      <td>58177.08</td>\n",
       "      <td>POS Mobile App</td>\n",
       "      <td>Chennai, Tamil Nadu</td>\n",
       "      <td>Mobile</td>\n",
       "      <td>0</td>\n",
       "      <td>INR</td>\n",
       "      <td>+9195889XXXXXX</td>\n",
       "      <td>Food delivery</td>\n",
       "      <td>yaminiXXXXX@XXXXXXX.com</td>\n",
       "    </tr>\n",
       "    <tr>\n",
       "      <th>4</th>\n",
       "      <td>3a4bba70-d9a9-4c5f-8b92-1735fd8c19e9</td>\n",
       "      <td>Kritika Rege</td>\n",
       "      <td>Female</td>\n",
       "      <td>43</td>\n",
       "      <td>Punjab</td>\n",
       "      <td>Amritsar</td>\n",
       "      <td>Amritsar Branch</td>\n",
       "      <td>Savings</td>\n",
       "      <td>f8e6ac6f-81a1-4985-bf12-f60967d852ef</td>\n",
       "      <td>30-01-2025</td>\n",
       "      <td>...</td>\n",
       "      <td>Entertainment</td>\n",
       "      <td>16108.56</td>\n",
       "      <td>Virtual Card</td>\n",
       "      <td>Amritsar, Punjab</td>\n",
       "      <td>Mobile</td>\n",
       "      <td>0</td>\n",
       "      <td>INR</td>\n",
       "      <td>+9195316XXXXXX</td>\n",
       "      <td>Debt repayment</td>\n",
       "      <td>kritikaXXXX@XXXXXX.com</td>\n",
       "    </tr>\n",
       "  </tbody>\n",
       "</table>\n",
       "<p>5 rows × 24 columns</p>\n",
       "</div>"
      ],
      "text/plain": [
       "                            Customer_ID        Customer_Name  Gender  Age  \\\n",
       "0  d5f6ec07-d69e-4f47-b9b4-7c58ff17c19e           Osha Tella    Male   60   \n",
       "1  7c14ad51-781a-4db9-b7bd-67439c175262      Hredhaan Khosla  Female   51   \n",
       "2  3a73a0e5-d4da-45aa-85f3-528413900a35       Ekani Nazareth    Male   20   \n",
       "3  7902f4ef-9050-4a79-857d-9c2ea3181940  Yamini Ramachandran  Female   57   \n",
       "4  3a4bba70-d9a9-4c5f-8b92-1735fd8c19e9         Kritika Rege  Female   43   \n",
       "\n",
       "         State                City                Bank_Branch Account_Type  \\\n",
       "0       Kerala  Thiruvananthapuram  Thiruvananthapuram Branch      Savings   \n",
       "1  Maharashtra              Nashik              Nashik Branch     Business   \n",
       "2        Bihar           Bhagalpur           Bhagalpur Branch      Savings   \n",
       "3   Tamil Nadu             Chennai             Chennai Branch     Business   \n",
       "4       Punjab            Amritsar            Amritsar Branch      Savings   \n",
       "\n",
       "                         Transaction_ID Transaction_Date  ...  \\\n",
       "0  4fa3208f-9e23-42dc-b330-844829d0c12c       23-01-2025  ...   \n",
       "1  c9de0c06-2c4c-40a9-97ed-3c7b8f97c79c       11-01-2025  ...   \n",
       "2  e41c55f9-c016-4ff3-872b-cae72467c75c       25-01-2025  ...   \n",
       "3  7f7ee11b-ff2c-45a3-802a-49bc47c02ecb       19-01-2025  ...   \n",
       "4  f8e6ac6f-81a1-4985-bf12-f60967d852ef       30-01-2025  ...   \n",
       "\n",
       "  Merchant_Category  Account_Balance Transaction_Device  \\\n",
       "0        Restaurant         74557.27    Voice Assistant   \n",
       "1        Restaurant         74622.66  POS Mobile Device   \n",
       "2         Groceries         66817.99                ATM   \n",
       "3     Entertainment         58177.08     POS Mobile App   \n",
       "4     Entertainment         16108.56       Virtual Card   \n",
       "\n",
       "         Transaction_Location Device_Type  Is_Fraud Transaction_Currency  \\\n",
       "0  Thiruvananthapuram, Kerala         POS         0                  INR   \n",
       "1         Nashik, Maharashtra     Desktop         0                  INR   \n",
       "2            Bhagalpur, Bihar     Desktop         0                  INR   \n",
       "3         Chennai, Tamil Nadu      Mobile         0                  INR   \n",
       "4            Amritsar, Punjab      Mobile         0                  INR   \n",
       "\n",
       "  Customer_Contact Transaction_Description           Customer_Email  \n",
       "0   +9198579XXXXXX     Bitcoin transaction      oshaXXXXX@XXXXX.com  \n",
       "1   +9191074XXXXXX        Grocery delivery  hredhaanXXXX@XXXXXX.com  \n",
       "2   +9197745XXXXXX  Mutual fund investment      ekaniXXX@XXXXXX.com  \n",
       "3   +9195889XXXXXX           Food delivery  yaminiXXXXX@XXXXXXX.com  \n",
       "4   +9195316XXXXXX          Debt repayment   kritikaXXXX@XXXXXX.com  \n",
       "\n",
       "[5 rows x 24 columns]"
      ]
     },
     "execution_count": 75,
     "metadata": {},
     "output_type": "execute_result"
    }
   ],
   "source": [
    "\n",
    "# Loading dataset to into dataframes\n",
    "df= pd.read_csv('data/Bank_Transaction_Fraud_Detection.csv')\n",
    "\n",
    "# Display the first five rows of the dataframe\n",
    "df.head()"
   ]
  },
  {
   "cell_type": "markdown",
   "metadata": {},
   "source": [
    "## Data Familiarization"
   ]
  },
  {
   "cell_type": "code",
   "execution_count": 76,
   "metadata": {},
   "outputs": [
    {
     "name": "stdout",
     "output_type": "stream",
     "text": [
      "The dataset has 200000 rows and 24 columns\n"
     ]
    }
   ],
   "source": [
    "# Checking the shape of the dataframe\n",
    "print(f\"The dataset has {df.shape[0]} rows and {df.shape[1]} columns\")"
   ]
  },
  {
   "cell_type": "code",
   "execution_count": 77,
   "metadata": {},
   "outputs": [
    {
     "data": {
      "text/plain": [
       "Index(['Customer_ID', 'Customer_Name', 'Gender', 'Age', 'State', 'City',\n",
       "       'Bank_Branch', 'Account_Type', 'Transaction_ID', 'Transaction_Date',\n",
       "       'Transaction_Time', 'Transaction_Amount', 'Merchant_ID',\n",
       "       'Transaction_Type', 'Merchant_Category', 'Account_Balance',\n",
       "       'Transaction_Device', 'Transaction_Location', 'Device_Type', 'Is_Fraud',\n",
       "       'Transaction_Currency', 'Customer_Contact', 'Transaction_Description',\n",
       "       'Customer_Email'],\n",
       "      dtype='object')"
      ]
     },
     "execution_count": 77,
     "metadata": {},
     "output_type": "execute_result"
    }
   ],
   "source": [
    "# Checking for the column names\n",
    "df.columns"
   ]
  },
  {
   "cell_type": "code",
   "execution_count": 78,
   "metadata": {},
   "outputs": [
    {
     "name": "stdout",
     "output_type": "stream",
     "text": [
      "<class 'pandas.core.frame.DataFrame'>\n",
      "RangeIndex: 200000 entries, 0 to 199999\n",
      "Data columns (total 24 columns):\n",
      " #   Column                   Non-Null Count   Dtype  \n",
      "---  ------                   --------------   -----  \n",
      " 0   Customer_ID              200000 non-null  object \n",
      " 1   Customer_Name            200000 non-null  object \n",
      " 2   Gender                   200000 non-null  object \n",
      " 3   Age                      200000 non-null  int64  \n",
      " 4   State                    200000 non-null  object \n",
      " 5   City                     200000 non-null  object \n",
      " 6   Bank_Branch              200000 non-null  object \n",
      " 7   Account_Type             200000 non-null  object \n",
      " 8   Transaction_ID           200000 non-null  object \n",
      " 9   Transaction_Date         200000 non-null  object \n",
      " 10  Transaction_Time         200000 non-null  object \n",
      " 11  Transaction_Amount       200000 non-null  float64\n",
      " 12  Merchant_ID              200000 non-null  object \n",
      " 13  Transaction_Type         200000 non-null  object \n",
      " 14  Merchant_Category        200000 non-null  object \n",
      " 15  Account_Balance          200000 non-null  float64\n",
      " 16  Transaction_Device       200000 non-null  object \n",
      " 17  Transaction_Location     200000 non-null  object \n",
      " 18  Device_Type              200000 non-null  object \n",
      " 19  Is_Fraud                 200000 non-null  int64  \n",
      " 20  Transaction_Currency     200000 non-null  object \n",
      " 21  Customer_Contact         200000 non-null  object \n",
      " 22  Transaction_Description  200000 non-null  object \n",
      " 23  Customer_Email           200000 non-null  object \n",
      "dtypes: float64(2), int64(2), object(20)\n",
      "memory usage: 36.6+ MB\n"
     ]
    }
   ],
   "source": [
    "# Extracting information about the dataset\n",
    "df.info()"
   ]
  },
  {
   "cell_type": "code",
   "execution_count": 79,
   "metadata": {},
   "outputs": [
    {
     "data": {
      "text/plain": [
       "Customer_ID                200000\n",
       "Customer_Name              142699\n",
       "Gender                          2\n",
       "Age                            53\n",
       "State                          34\n",
       "City                          145\n",
       "Bank_Branch                   145\n",
       "Account_Type                    3\n",
       "Transaction_ID             200000\n",
       "Transaction_Date               31\n",
       "Transaction_Time            77856\n",
       "Transaction_Amount         197978\n",
       "Merchant_ID                200000\n",
       "Transaction_Type                5\n",
       "Merchant_Category               6\n",
       "Account_Balance            197954\n",
       "Transaction_Device             20\n",
       "Transaction_Location          148\n",
       "Device_Type                     4\n",
       "Is_Fraud                        2\n",
       "Transaction_Currency            1\n",
       "Customer_Contact             9000\n",
       "Transaction_Description       172\n",
       "Customer_Email               4779\n",
       "dtype: int64"
      ]
     },
     "execution_count": 79,
     "metadata": {},
     "output_type": "execute_result"
    }
   ],
   "source": [
    "# Checking for unique values per column\n",
    "df.nunique()"
   ]
  },
  {
   "cell_type": "markdown",
   "metadata": {},
   "source": [
    "## Data Cleaning "
   ]
  },
  {
   "cell_type": "code",
   "execution_count": null,
   "metadata": {},
   "outputs": [
    {
     "data": {
      "application/vnd.microsoft.datawrangler.viewer.v0+json": {
       "columns": [
        {
         "name": "index",
         "rawType": "int64",
         "type": "integer"
        },
        {
         "name": "Gender",
         "rawType": "object",
         "type": "string"
        },
        {
         "name": "Age",
         "rawType": "int64",
         "type": "integer"
        },
        {
         "name": "State",
         "rawType": "object",
         "type": "string"
        },
        {
         "name": "Account_Type",
         "rawType": "object",
         "type": "string"
        },
        {
         "name": "Transaction_Date",
         "rawType": "object",
         "type": "string"
        },
        {
         "name": "Transaction_Time",
         "rawType": "object",
         "type": "string"
        },
        {
         "name": "Transaction_Amount",
         "rawType": "float64",
         "type": "float"
        },
        {
         "name": "Transaction_Type",
         "rawType": "object",
         "type": "string"
        },
        {
         "name": "Merchant_Category",
         "rawType": "object",
         "type": "string"
        },
        {
         "name": "Account_Balance",
         "rawType": "float64",
         "type": "float"
        },
        {
         "name": "Transaction_Device",
         "rawType": "object",
         "type": "string"
        },
        {
         "name": "Device_Type",
         "rawType": "object",
         "type": "string"
        },
        {
         "name": "Is_Fraud",
         "rawType": "int64",
         "type": "integer"
        },
        {
         "name": "Transaction_Description",
         "rawType": "object",
         "type": "string"
        },
        {
         "name": "Customer_Email",
         "rawType": "object",
         "type": "string"
        }
       ],
       "conversionMethod": "pd.DataFrame",
       "ref": "069cf83f-8efa-40fe-8ac3-bb703364cd4f",
       "rows": [
        [
         "0",
         "Male",
         "60",
         "Kerala",
         "Savings",
         "23-01-2025",
         "16:04:07",
         "32415.45",
         "Transfer",
         "Restaurant",
         "74557.27",
         "Voice Assistant",
         "POS",
         "0",
         "Bitcoin transaction",
         "oshaXXXXX@XXXXX.com"
        ],
        [
         "1",
         "Female",
         "51",
         "Maharashtra",
         "Business",
         "11-01-2025",
         "17:14:53",
         "43622.6",
         "Bill Payment",
         "Restaurant",
         "74622.66",
         "POS Mobile Device",
         "Desktop",
         "0",
         "Grocery delivery",
         "hredhaanXXXX@XXXXXX.com"
        ],
        [
         "2",
         "Male",
         "20",
         "Bihar",
         "Savings",
         "25-01-2025",
         "03:09:52",
         "63062.56",
         "Bill Payment",
         "Groceries",
         "66817.99",
         "ATM",
         "Desktop",
         "0",
         "Mutual fund investment",
         "ekaniXXX@XXXXXX.com"
        ],
        [
         "3",
         "Female",
         "57",
         "Tamil Nadu",
         "Business",
         "19-01-2025",
         "12:27:02",
         "14000.72",
         "Debit",
         "Entertainment",
         "58177.08",
         "POS Mobile App",
         "Mobile",
         "0",
         "Food delivery",
         "yaminiXXXXX@XXXXXXX.com"
        ],
        [
         "4",
         "Female",
         "43",
         "Punjab",
         "Savings",
         "30-01-2025",
         "18:30:46",
         "18335.16",
         "Transfer",
         "Entertainment",
         "16108.56",
         "Virtual Card",
         "Mobile",
         "0",
         "Debt repayment",
         "kritikaXXXX@XXXXXX.com"
        ]
       ],
       "shape": {
        "columns": 15,
        "rows": 5
       }
      },
      "text/html": [
       "<div>\n",
       "<style scoped>\n",
       "    .dataframe tbody tr th:only-of-type {\n",
       "        vertical-align: middle;\n",
       "    }\n",
       "\n",
       "    .dataframe tbody tr th {\n",
       "        vertical-align: top;\n",
       "    }\n",
       "\n",
       "    .dataframe thead th {\n",
       "        text-align: right;\n",
       "    }\n",
       "</style>\n",
       "<table border=\"1\" class=\"dataframe\">\n",
       "  <thead>\n",
       "    <tr style=\"text-align: right;\">\n",
       "      <th></th>\n",
       "      <th>Gender</th>\n",
       "      <th>Age</th>\n",
       "      <th>State</th>\n",
       "      <th>Account_Type</th>\n",
       "      <th>Transaction_Date</th>\n",
       "      <th>Transaction_Time</th>\n",
       "      <th>Transaction_Amount</th>\n",
       "      <th>Transaction_Type</th>\n",
       "      <th>Merchant_Category</th>\n",
       "      <th>Account_Balance</th>\n",
       "      <th>Transaction_Device</th>\n",
       "      <th>Device_Type</th>\n",
       "      <th>Is_Fraud</th>\n",
       "      <th>Transaction_Description</th>\n",
       "      <th>Customer_Email</th>\n",
       "    </tr>\n",
       "  </thead>\n",
       "  <tbody>\n",
       "    <tr>\n",
       "      <th>0</th>\n",
       "      <td>Male</td>\n",
       "      <td>60</td>\n",
       "      <td>Kerala</td>\n",
       "      <td>Savings</td>\n",
       "      <td>23-01-2025</td>\n",
       "      <td>16:04:07</td>\n",
       "      <td>32415.45</td>\n",
       "      <td>Transfer</td>\n",
       "      <td>Restaurant</td>\n",
       "      <td>74557.27</td>\n",
       "      <td>Voice Assistant</td>\n",
       "      <td>POS</td>\n",
       "      <td>0</td>\n",
       "      <td>Bitcoin transaction</td>\n",
       "      <td>oshaXXXXX@XXXXX.com</td>\n",
       "    </tr>\n",
       "    <tr>\n",
       "      <th>1</th>\n",
       "      <td>Female</td>\n",
       "      <td>51</td>\n",
       "      <td>Maharashtra</td>\n",
       "      <td>Business</td>\n",
       "      <td>11-01-2025</td>\n",
       "      <td>17:14:53</td>\n",
       "      <td>43622.60</td>\n",
       "      <td>Bill Payment</td>\n",
       "      <td>Restaurant</td>\n",
       "      <td>74622.66</td>\n",
       "      <td>POS Mobile Device</td>\n",
       "      <td>Desktop</td>\n",
       "      <td>0</td>\n",
       "      <td>Grocery delivery</td>\n",
       "      <td>hredhaanXXXX@XXXXXX.com</td>\n",
       "    </tr>\n",
       "    <tr>\n",
       "      <th>2</th>\n",
       "      <td>Male</td>\n",
       "      <td>20</td>\n",
       "      <td>Bihar</td>\n",
       "      <td>Savings</td>\n",
       "      <td>25-01-2025</td>\n",
       "      <td>03:09:52</td>\n",
       "      <td>63062.56</td>\n",
       "      <td>Bill Payment</td>\n",
       "      <td>Groceries</td>\n",
       "      <td>66817.99</td>\n",
       "      <td>ATM</td>\n",
       "      <td>Desktop</td>\n",
       "      <td>0</td>\n",
       "      <td>Mutual fund investment</td>\n",
       "      <td>ekaniXXX@XXXXXX.com</td>\n",
       "    </tr>\n",
       "    <tr>\n",
       "      <th>3</th>\n",
       "      <td>Female</td>\n",
       "      <td>57</td>\n",
       "      <td>Tamil Nadu</td>\n",
       "      <td>Business</td>\n",
       "      <td>19-01-2025</td>\n",
       "      <td>12:27:02</td>\n",
       "      <td>14000.72</td>\n",
       "      <td>Debit</td>\n",
       "      <td>Entertainment</td>\n",
       "      <td>58177.08</td>\n",
       "      <td>POS Mobile App</td>\n",
       "      <td>Mobile</td>\n",
       "      <td>0</td>\n",
       "      <td>Food delivery</td>\n",
       "      <td>yaminiXXXXX@XXXXXXX.com</td>\n",
       "    </tr>\n",
       "    <tr>\n",
       "      <th>4</th>\n",
       "      <td>Female</td>\n",
       "      <td>43</td>\n",
       "      <td>Punjab</td>\n",
       "      <td>Savings</td>\n",
       "      <td>30-01-2025</td>\n",
       "      <td>18:30:46</td>\n",
       "      <td>18335.16</td>\n",
       "      <td>Transfer</td>\n",
       "      <td>Entertainment</td>\n",
       "      <td>16108.56</td>\n",
       "      <td>Virtual Card</td>\n",
       "      <td>Mobile</td>\n",
       "      <td>0</td>\n",
       "      <td>Debt repayment</td>\n",
       "      <td>kritikaXXXX@XXXXXX.com</td>\n",
       "    </tr>\n",
       "  </tbody>\n",
       "</table>\n",
       "</div>"
      ],
      "text/plain": [
       "   Gender  Age        State Account_Type Transaction_Date Transaction_Time  \\\n",
       "0    Male   60       Kerala      Savings       23-01-2025         16:04:07   \n",
       "1  Female   51  Maharashtra     Business       11-01-2025         17:14:53   \n",
       "2    Male   20        Bihar      Savings       25-01-2025         03:09:52   \n",
       "3  Female   57   Tamil Nadu     Business       19-01-2025         12:27:02   \n",
       "4  Female   43       Punjab      Savings       30-01-2025         18:30:46   \n",
       "\n",
       "   Transaction_Amount Transaction_Type Merchant_Category  Account_Balance  \\\n",
       "0            32415.45         Transfer        Restaurant         74557.27   \n",
       "1            43622.60     Bill Payment        Restaurant         74622.66   \n",
       "2            63062.56     Bill Payment         Groceries         66817.99   \n",
       "3            14000.72            Debit     Entertainment         58177.08   \n",
       "4            18335.16         Transfer     Entertainment         16108.56   \n",
       "\n",
       "  Transaction_Device Device_Type  Is_Fraud Transaction_Description  \\\n",
       "0    Voice Assistant         POS         0     Bitcoin transaction   \n",
       "1  POS Mobile Device     Desktop         0        Grocery delivery   \n",
       "2                ATM     Desktop         0  Mutual fund investment   \n",
       "3     POS Mobile App      Mobile         0           Food delivery   \n",
       "4       Virtual Card      Mobile         0          Debt repayment   \n",
       "\n",
       "            Customer_Email  \n",
       "0      oshaXXXXX@XXXXX.com  \n",
       "1  hredhaanXXXX@XXXXXX.com  \n",
       "2      ekaniXXX@XXXXXX.com  \n",
       "3  yaminiXXXXX@XXXXXXX.com  \n",
       "4   kritikaXXXX@XXXXXX.com  "
      ]
     },
     "execution_count": 58,
     "metadata": {},
     "output_type": "execute_result"
    }
   ],
   "source": [
    "# df= df.drop([\"Customer_ID\", \"Customer_Name\", \"City\", \"Bank_Branch\", \"Transaction_ID\", \"Merchant_ID\", \"Transaction_Location\", \"Transaction_Currency\", \"Customer_Contact\"], axis =1)\n",
    "# df.head()"
   ]
  },
  {
   "cell_type": "code",
   "execution_count": 86,
   "metadata": {},
   "outputs": [
    {
     "name": "stdout",
     "output_type": "stream",
     "text": [
      "Duplicate Rows:\n",
      "<class 'pandas.core.frame.DataFrame'>\n",
      "Int64Index: 0 entries\n",
      "Data columns (total 24 columns):\n",
      " #   Column                   Non-Null Count  Dtype  \n",
      "---  ------                   --------------  -----  \n",
      " 0   Customer_ID              0 non-null      object \n",
      " 1   Customer_Name            0 non-null      object \n",
      " 2   Gender                   0 non-null      object \n",
      " 3   Age                      0 non-null      int64  \n",
      " 4   State                    0 non-null      object \n",
      " 5   City                     0 non-null      object \n",
      " 6   Bank_Branch              0 non-null      object \n",
      " 7   Account_Type             0 non-null      object \n",
      " 8   Transaction_ID           0 non-null      object \n",
      " 9   Transaction_Date         0 non-null      object \n",
      " 10  Transaction_Time         0 non-null      object \n",
      " 11  Transaction_Amount       0 non-null      float64\n",
      " 12  Merchant_ID              0 non-null      object \n",
      " 13  Transaction_Type         0 non-null      object \n",
      " 14  Merchant_Category        0 non-null      object \n",
      " 15  Account_Balance          0 non-null      float64\n",
      " 16  Transaction_Device       0 non-null      object \n",
      " 17  Transaction_Location     0 non-null      object \n",
      " 18  Device_Type              0 non-null      object \n",
      " 19  Is_Fraud                 0 non-null      int64  \n",
      " 20  Transaction_Currency     0 non-null      object \n",
      " 21  Customer_Contact         0 non-null      object \n",
      " 22  Transaction_Description  0 non-null      object \n",
      " 23  Customer_Email           0 non-null      object \n",
      "dtypes: float64(2), int64(2), object(20)\n",
      "memory usage: 0.0+ bytes\n"
     ]
    }
   ],
   "source": [
    "# Check for duplicate rows\n",
    "duplicates = df[df.duplicated()]\n",
    "print(\"Duplicate Rows:\")\n",
    "duplicates.info()"
   ]
  },
  {
   "cell_type": "code",
   "execution_count": 82,
   "metadata": {},
   "outputs": [
    {
     "name": "stdout",
     "output_type": "stream",
     "text": [
      "Outliers in Age: 0\n",
      "Outliers in Transaction_Amount: 0\n",
      "Outliers in Account_Balance: 0\n",
      "Outliers in Is_Fraud: 10088\n"
     ]
    }
   ],
   "source": [
    "# Select numerical columns\n",
    "numerical_cols = ['Age', 'Transaction_Amount', 'Account_Balance', 'Is_Fraud']\n",
    "\n",
    "# Detect outliers using IQR\n",
    "for col in numerical_cols:\n",
    "    Q1 = df[col].quantile(0.25)\n",
    "    Q3 = df[col].quantile(0.75)\n",
    "    IQR = Q3 - Q1\n",
    "    lower_bound = Q1 - 1.5 * IQR\n",
    "    upper_bound = Q3 + 1.5 * IQR\n",
    "    outliers = df[(df[col] < lower_bound) | (df[col] > upper_bound)]\n",
    "    print(f\"Outliers in {col}: {outliers.shape[0]}\")"
   ]
  },
  {
   "cell_type": "code",
   "execution_count": 83,
   "metadata": {},
   "outputs": [
    {
     "name": "stdout",
     "output_type": "stream",
     "text": [
      "Original dataset shape: (200000, 24)\n",
      "Cleaned dataset shape: (200000, 24)\n"
     ]
    }
   ],
   "source": [
    "# Select numerical columns\n",
    "numerical_cols = ['Age', 'Transaction_Amount', 'Account_Balance']\n",
    "\n",
    "# Function to remove outliers using IQR\n",
    "def remove_outliers_iqr(df, columns):\n",
    "    for col in columns:\n",
    "        Q1 = df[col].quantile(0.25)\n",
    "        Q3 = df[col].quantile(0.75)\n",
    "        IQR = Q3 - Q1\n",
    "        lower_bound = Q1 - 1.5 * IQR\n",
    "        upper_bound = Q3 + 1.5 * IQR\n",
    "        df = df[(df[col] >= lower_bound) & (df[col] <= upper_bound)]\n",
    "    return df\n",
    "\n",
    "# Remove outliers\n",
    "df_cleaned = remove_outliers_iqr(df, numerical_cols)\n",
    "\n",
    "# Save the cleaned dataset (optional)\n",
    "df_cleaned.to_csv(\"cleaned_dataset.csv\", index=False)\n",
    "\n",
    "# Print before and after removing outliers\n",
    "print(f\"Original dataset shape: {df.shape}\")\n",
    "print(f\"Cleaned dataset shape: {df_cleaned.shape}\")\n"
   ]
  },
  {
   "cell_type": "markdown",
   "metadata": {},
   "source": [
    "## EDA "
   ]
  },
  {
   "cell_type": "code",
   "execution_count": 84,
   "metadata": {},
   "outputs": [
    {
     "data": {
      "application/vnd.microsoft.datawrangler.viewer.v0+json": {
       "columns": [
        {
         "name": "index",
         "rawType": "object",
         "type": "string"
        },
        {
         "name": "Age",
         "rawType": "float64",
         "type": "float"
        },
        {
         "name": "Transaction_Amount",
         "rawType": "float64",
         "type": "float"
        },
        {
         "name": "Account_Balance",
         "rawType": "float64",
         "type": "float"
        },
        {
         "name": "Is_Fraud",
         "rawType": "float64",
         "type": "float"
        }
       ],
       "conversionMethod": "pd.DataFrame",
       "ref": "23c84086-3d34-481e-b689-88734a388a6d",
       "rows": [
        [
         "count",
         "200000.0",
         "200000.0",
         "200000.0",
         "200000.0"
        ],
        [
         "mean",
         "44.01511",
         "49538.01555420034",
         "52437.98878354988",
         "0.05044"
        ],
        [
         "std",
         "15.28877432696959",
         "28551.87400382295",
         "27399.507128068417",
         "0.21885165267898435"
        ],
        [
         "min",
         "18.0",
         "10.29",
         "5000.82",
         "0.0"
        ],
        [
         "25%",
         "31.0",
         "24851.344999999998",
         "28742.395",
         "0.0"
        ],
        [
         "50%",
         "44.0",
         "49502.44",
         "52372.555",
         "0.0"
        ],
        [
         "75%",
         "57.0",
         "74314.625",
         "76147.67",
         "0.0"
        ],
        [
         "max",
         "70.0",
         "98999.98",
         "99999.95",
         "1.0"
        ]
       ],
       "shape": {
        "columns": 4,
        "rows": 8
       }
      },
      "text/html": [
       "<div>\n",
       "<style scoped>\n",
       "    .dataframe tbody tr th:only-of-type {\n",
       "        vertical-align: middle;\n",
       "    }\n",
       "\n",
       "    .dataframe tbody tr th {\n",
       "        vertical-align: top;\n",
       "    }\n",
       "\n",
       "    .dataframe thead th {\n",
       "        text-align: right;\n",
       "    }\n",
       "</style>\n",
       "<table border=\"1\" class=\"dataframe\">\n",
       "  <thead>\n",
       "    <tr style=\"text-align: right;\">\n",
       "      <th></th>\n",
       "      <th>Age</th>\n",
       "      <th>Transaction_Amount</th>\n",
       "      <th>Account_Balance</th>\n",
       "      <th>Is_Fraud</th>\n",
       "    </tr>\n",
       "  </thead>\n",
       "  <tbody>\n",
       "    <tr>\n",
       "      <th>count</th>\n",
       "      <td>200000.000000</td>\n",
       "      <td>200000.000000</td>\n",
       "      <td>200000.000000</td>\n",
       "      <td>200000.000000</td>\n",
       "    </tr>\n",
       "    <tr>\n",
       "      <th>mean</th>\n",
       "      <td>44.015110</td>\n",
       "      <td>49538.015554</td>\n",
       "      <td>52437.988784</td>\n",
       "      <td>0.050440</td>\n",
       "    </tr>\n",
       "    <tr>\n",
       "      <th>std</th>\n",
       "      <td>15.288774</td>\n",
       "      <td>28551.874004</td>\n",
       "      <td>27399.507128</td>\n",
       "      <td>0.218852</td>\n",
       "    </tr>\n",
       "    <tr>\n",
       "      <th>min</th>\n",
       "      <td>18.000000</td>\n",
       "      <td>10.290000</td>\n",
       "      <td>5000.820000</td>\n",
       "      <td>0.000000</td>\n",
       "    </tr>\n",
       "    <tr>\n",
       "      <th>25%</th>\n",
       "      <td>31.000000</td>\n",
       "      <td>24851.345000</td>\n",
       "      <td>28742.395000</td>\n",
       "      <td>0.000000</td>\n",
       "    </tr>\n",
       "    <tr>\n",
       "      <th>50%</th>\n",
       "      <td>44.000000</td>\n",
       "      <td>49502.440000</td>\n",
       "      <td>52372.555000</td>\n",
       "      <td>0.000000</td>\n",
       "    </tr>\n",
       "    <tr>\n",
       "      <th>75%</th>\n",
       "      <td>57.000000</td>\n",
       "      <td>74314.625000</td>\n",
       "      <td>76147.670000</td>\n",
       "      <td>0.000000</td>\n",
       "    </tr>\n",
       "    <tr>\n",
       "      <th>max</th>\n",
       "      <td>70.000000</td>\n",
       "      <td>98999.980000</td>\n",
       "      <td>99999.950000</td>\n",
       "      <td>1.000000</td>\n",
       "    </tr>\n",
       "  </tbody>\n",
       "</table>\n",
       "</div>"
      ],
      "text/plain": [
       "                 Age  Transaction_Amount  Account_Balance       Is_Fraud\n",
       "count  200000.000000       200000.000000    200000.000000  200000.000000\n",
       "mean       44.015110        49538.015554     52437.988784       0.050440\n",
       "std        15.288774        28551.874004     27399.507128       0.218852\n",
       "min        18.000000           10.290000      5000.820000       0.000000\n",
       "25%        31.000000        24851.345000     28742.395000       0.000000\n",
       "50%        44.000000        49502.440000     52372.555000       0.000000\n",
       "75%        57.000000        74314.625000     76147.670000       0.000000\n",
       "max        70.000000        98999.980000     99999.950000       1.000000"
      ]
     },
     "execution_count": 84,
     "metadata": {},
     "output_type": "execute_result"
    }
   ],
   "source": [
    "# Get summary statistics \n",
    "df.describe()"
   ]
  },
  {
   "cell_type": "code",
   "execution_count": null,
   "metadata": {},
   "outputs": [
    {
     "data": {
      "image/png": "[encoded data removed]",
      "text/plain": [
       "<Figure size 864x720 with 4 Axes>"
      ]
     },
     "metadata": {
      "needs_background": "light"
     },
     "output_type": "display_data"
    }
   ],
   "source": [
    "# Create subplots (2 rows, 2 columns)\n",
    "fig, axes = plt.subplots(2, 2, figsize=(12, 10))  \n",
    "axes = axes.flatten() \n",
    "\n",
    "# 1. Gender vs. Is_Fraud (Countplot)\n",
    "sns.countplot(ax=axes[0], x='Gender', hue='Is_Fraud', data=df, palette=['#FF0000', '#0000FF'])\n",
    "axes[0].set_title('Fraud Distribution Based on Gender')\n",
    "\n",
    "# 2. Age vs. Is_Fraud (Line Graph)\n",
    "age_fraud_counts = df.groupby('Age')['Is_Fraud'].sum()  # Sum of fraud cases per age\n",
    "age_total_counts = df['Age'].value_counts().sort_index()  # Total transactions per age\n",
    "fraud_rate = age_fraud_counts / age_total_counts  # Fraud rate per age\n",
    "\n",
    "axes[1].plot(fraud_rate.index, fraud_rate.values, marker='o', linestyle='-', color='red', label='Fraud Rate')\n",
    "axes[1].set_title('Fraud Rate by Age')\n",
    "axes[1].set_xlabel('Age')\n",
    "axes[1].set_ylabel('Fraud Rate')\n",
    "axes[1].legend()\n",
    "\n",
    "# 3. Account Type vs. Is_Fraud (Countplot)\n",
    "sns.countplot(ax=axes[2], x='Account_Type', hue='Is_Fraud', data=df, palette=['#FF0000', '#0000FF'])\n",
    "axes[2].set_title('Fraud Trends Based on Account Type')\n",
    "\n",
    "# 4. Device Type vs. Is_Fraud (Countplot)\n",
    "sns.countplot(ax=axes[3], x='Device_Type', hue='Is_Fraud', data=df, palette=['#FF0000', '#0000FF'])\n",
    "axes[3].set_title('Fraud Occurrence Based on Device Type')\n",
    "\n",
    "# Adjust layout\n",
    "plt.tight_layout()\n",
    "plt.show()\n"
   ]
  },
  {
   "cell_type": "code",
   "execution_count": 92,
   "metadata": {},
   "outputs": [
    {
     "name": "stdout",
     "output_type": "stream",
     "text": [
      "\n",
      "### Fraud Distribution by Gender ###\n",
      " Is_Fraud      0     1\n",
      "Gender               \n",
      "Female    94541  5007\n",
      "Male      95371  5081\n"
     ]
    }
   ],
   "source": [
    "\n",
    "# 1. Gender vs. Is_Fraud Summary Table\n",
    "gender_summary = df.groupby('Gender')['Is_Fraud'].value_counts().unstack().fillna(0)\n",
    "print(\"\\n### Fraud Distribution by Gender ###\\n\", gender_summary)\n",
    "\n",
    "# # 2. Age vs. Is_Fraud Summary Table\n",
    "# age_fraud_counts = df.groupby('Age')['Is_Fraud'].sum()  # Total fraud cases per age\n",
    "# age_total_counts = df['Age'].value_counts().sort_index()  # Total transactions per age\n",
    "# fraud_rate = age_fraud_counts / age_total_counts  # Fraud rate per age\n",
    "\n",
    "# age_summary = pd.DataFrame({\n",
    "#     'Total_Transactions': age_total_counts,\n",
    "#     'Fraud_Cases': age_fraud_counts,\n",
    "#     'Fraud_Rate': fraud_rate\n",
    "# }).fillna(0).reset_index().rename(columns={'index': 'Age'})\n",
    "\n",
    "# print(\"\\n### Fraud Rate by Age ###\\n\", age_summary.head(10))  # Print first 10 rows\n",
    "\n",
    "# # 3. Account Type vs. Is_Fraud Summary Table\n",
    "# account_summary = df.groupby('Account_Type')['Is_Fraud'].value_counts().unstack().fillna(0)\n",
    "# print(\"\\n### Fraud Trends by Account Type ###\\n\", account_summary)\n",
    "\n",
    "# # 4. Device Type vs. Is_Fraud Summary Table\n",
    "# device_summary = df.groupby('Device_Type')['Is_Fraud'].value_counts().unstack().fillna(0)\n",
    "# print(\"\\n### Fraud Occurrence by Device Type ###\\n\", device_summary)\n"
   ]
  },
  {
   "cell_type": "code",
   "execution_count": 102,
   "metadata": {},
   "outputs": [
    {
     "name": "stdout",
     "output_type": "stream",
     "text": [
      "\n",
      "### Strongest Email (Most Fraudulent) ###\n",
      " Total_Transactions    43.000000\n",
      "Fraud_Cases           10.000000\n",
      "Fraud_Rate             0.232558\n",
      "Name: eiravatiXXX@XXXXX.com, dtype: float64\n",
      "\n",
      "### Weakest Email (Least Fraudulent) ###\n",
      " Total_Transactions    49.0\n",
      "Fraud_Cases            0.0\n",
      "Fraud_Rate             0.0\n",
      "Name: ekantikaXXX@XXXXXXX.com, dtype: float64\n"
     ]
    }
   ],
   "source": [
    "# Group by Customer_Email to count total transactions and fraud cases\n",
    "email_fraud_analysis = df.groupby(\"Customer_Email\")[\"Is_Fraud\"].agg([\"count\", \"sum\"])\n",
    "email_fraud_analysis.rename(columns={\"count\": \"Total_Transactions\", \"sum\": \"Fraud_Cases\"}, inplace=True)\n",
    "\n",
    "# Calculate fraud rate for each email\n",
    "email_fraud_analysis[\"Fraud_Rate\"] = email_fraud_analysis[\"Fraud_Cases\"] / email_fraud_analysis[\"Total_Transactions\"]\n",
    "\n",
    "# Sort by fraud rate\n",
    "email_fraud_analysis_sorted = email_fraud_analysis.sort_values(by=\"Fraud_Rate\", ascending=False)\n",
    "\n",
    "# Get strongest (most fraudulent) and weakest (least fraudulent) emails\n",
    "strongest_email = email_fraud_analysis_sorted.iloc[0]\n",
    "weakest_email = email_fraud_analysis_sorted.iloc[-1]\n",
    "\n",
    "# Display results\n",
    "print(\"\\n### Strongest Email (Most Fraudulent) ###\\n\", strongest_email)\n",
    "print(\"\\n### Weakest Email (Least Fraudulent) ###\\n\", weakest_email)"
   ]
  },
  {
   "cell_type": "code",
   "execution_count": 105,
   "metadata": {},
   "outputs": [
    {
     "name": "stdout",
     "output_type": "stream",
     "text": [
      "\n",
      "### Top 10 Strongest Emails (Most Fraudulent) ###\n",
      "                          Total_Transactions  Fraud_Cases  Fraud_Rate\n",
      "Customer_Email                                                      \n",
      "eiravatiXXX@XXXXX.com                    43           10    0.232558\n",
      "jeremiahXXX@XXXXX.com                    36            8    0.222222\n",
      "jagratiXXXX@XXXXX.com                    34            7    0.205882\n",
      "mayaXXXXX@XXXXXXX.com                    39            8    0.205128\n",
      "hariniXXX@XXXXXX.com                     40            8    0.200000\n",
      "keyaXXX@XXXXX.com                        45            9    0.200000\n",
      "manyaXXX@XXXXXX.com                      30            6    0.200000\n",
      "ekalingaXXX@XXXXXXX.com                  37            7    0.189189\n",
      "nirjaXXXX@XXXXXXX.com                    37            7    0.189189\n",
      "ridhiXXX@XXXXXX.com                      43            8    0.186047\n",
      "\n",
      "### Top 10 Weakest Emails (Least Fraudulent) ###\n",
      "                          Total_Transactions  Fraud_Cases  Fraud_Rate\n",
      "Customer_Email                                                      \n",
      "urviXXXX@XXXXXX.com                      47            0         0.0\n",
      "urviXXXXX@XXXXXX.com                     44            0         0.0\n",
      "nidhiXXXX@XXXXXXX.com                    36            0         0.0\n",
      "diyaXXX@XXXXX.com                        41            0         0.0\n",
      "janakiXXXXX@XXXXXXX.com                  35            0         0.0\n",
      "diyaXXX@XXXXXX.com                       39            0         0.0\n",
      "rachitXXXX@XXXXXX.com                    48            0         0.0\n",
      "vamakshiXXX@XXXXX.com                    36            0         0.0\n",
      "leenaXXXX@XXXXX.com                      33            0         0.0\n",
      "ekantikaXXX@XXXXXXX.com                  49            0         0.0\n"
     ]
    }
   ],
   "source": [
    "# Save the analysis results to a CSV for reference\n",
    "email_fraud_analysis_sorted.to_csv(\"email_fraud_analysis.csv\", index=True)\n",
    "\n",
    "\n",
    "# Filter emails with at least 5 transactions (to avoid misleading results from very few transactions)\n",
    "email_fraud_analysis_filtered = email_fraud_analysis[email_fraud_analysis[\"Total_Transactions\"] >= 5]\n",
    "\n",
    "# Get top 10 strongest (most fraudulent) and weakest (least fraudulent) emails\n",
    "top_strongest_emails = email_fraud_analysis_sorted.head(10)\n",
    "top_weakest_emails = email_fraud_analysis_sorted.tail(10)\n",
    "\n",
    "# Display results\n",
    "print(\"\\n### Top 10 Strongest Emails (Most Fraudulent) ###\\n\", top_strongest_emails)\n",
    "print(\"\\n### Top 10 Weakest Emails (Least Fraudulent) ###\\n\", top_weakest_emails)\n"
   ]
  },
  {
   "cell_type": "code",
   "execution_count": 85,
   "metadata": {},
   "outputs": [
    {
     "data": {
      "image/png": "[encoded data removed]",
      "text/plain": [
       "<Figure size 720x576 with 2 Axes>"
      ]
     },
     "metadata": {
      "needs_background": "light"
     },
     "output_type": "display_data"
    }
   ],
   "source": [
    "#Correlation for the numeric columns\n",
    "corr_matrix = df_cleaned[numerical_cols].corr()\n",
    "\n",
    "plt.figure(figsize=(10, 8))\n",
    "sns.heatmap(corr_matrix, annot=True, cmap='RdBu')\n",
    "plt.title('Correlation Matrix')\n",
    "plt.show()"
   ]
  },
  {
   "cell_type": "markdown",
   "metadata": {},
   "source": [
    "### Data Preprosessing "
   ]
  },
  {
   "cell_type": "markdown",
   "metadata": {},
   "source": [
    "#### One hot encoding "
   ]
  },
  {
   "cell_type": "code",
   "execution_count": 65,
   "metadata": {},
   "outputs": [
    {
     "data": {
      "application/vnd.microsoft.datawrangler.viewer.v0+json": {
       "columns": [
        {
         "name": "index",
         "rawType": "int64",
         "type": "integer"
        },
        {
         "name": "Gender",
         "rawType": "int32",
         "type": "integer"
        },
        {
         "name": "Age",
         "rawType": "int64",
         "type": "integer"
        },
        {
         "name": "State",
         "rawType": "object",
         "type": "string"
        },
        {
         "name": "Account_Type",
         "rawType": "int32",
         "type": "integer"
        },
        {
         "name": "Transaction_Date",
         "rawType": "object",
         "type": "string"
        },
        {
         "name": "Transaction_Time",
         "rawType": "object",
         "type": "string"
        },
        {
         "name": "Transaction_Amount",
         "rawType": "float64",
         "type": "float"
        },
        {
         "name": "Transaction_Type",
         "rawType": "int32",
         "type": "integer"
        },
        {
         "name": "Merchant_Category",
         "rawType": "int32",
         "type": "integer"
        },
        {
         "name": "Account_Balance",
         "rawType": "float64",
         "type": "float"
        },
        {
         "name": "Transaction_Device",
         "rawType": "int32",
         "type": "integer"
        },
        {
         "name": "Device_Type",
         "rawType": "int32",
         "type": "integer"
        },
        {
         "name": "Is_Fraud",
         "rawType": "int64",
         "type": "integer"
        },
        {
         "name": "Transaction_Description",
         "rawType": "object",
         "type": "string"
        },
        {
         "name": "Customer_Email",
         "rawType": "object",
         "type": "string"
        }
       ],
       "conversionMethod": "pd.DataFrame",
       "ref": "cea3cbdd-111a-4b48-9e81-50234e6553bc",
       "rows": [
        [
         "0",
         "1",
         "60",
         "Kerala",
         "2",
         "23-01-2025",
         "16:04:07",
         "32415.45",
         "3",
         "5",
         "74557.27",
         "17",
         "3",
         "0",
         "Bitcoin transaction",
         "oshaXXXXX@XXXXX.com"
        ],
        [
         "1",
         "0",
         "51",
         "Maharashtra",
         "0",
         "11-01-2025",
         "17:14:53",
         "43622.6",
         "0",
         "5",
         "74622.66",
         "9",
         "1",
         "0",
         "Grocery delivery",
         "hredhaanXXXX@XXXXXX.com"
        ],
        [
         "2",
         "1",
         "20",
         "Bihar",
         "2",
         "25-01-2025",
         "03:09:52",
         "63062.56",
         "0",
         "3",
         "66817.99",
         "0",
         "1",
         "0",
         "Mutual fund investment",
         "ekaniXXX@XXXXXX.com"
        ],
        [
         "3",
         "0",
         "57",
         "Tamil Nadu",
         "0",
         "19-01-2025",
         "12:27:02",
         "14000.72",
         "2",
         "2",
         "58177.08",
         "8",
         "2",
         "0",
         "Food delivery",
         "yaminiXXXXX@XXXXXXX.com"
        ],
        [
         "4",
         "0",
         "43",
         "Punjab",
         "2",
         "30-01-2025",
         "18:30:46",
         "18335.16",
         "3",
         "2",
         "16108.56",
         "16",
         "2",
         "0",
         "Debt repayment",
         "kritikaXXXX@XXXXXX.com"
        ]
       ],
       "shape": {
        "columns": 15,
        "rows": 5
       }
      },
      "text/html": [
       "<div>\n",
       "<style scoped>\n",
       "    .dataframe tbody tr th:only-of-type {\n",
       "        vertical-align: middle;\n",
       "    }\n",
       "\n",
       "    .dataframe tbody tr th {\n",
       "        vertical-align: top;\n",
       "    }\n",
       "\n",
       "    .dataframe thead th {\n",
       "        text-align: right;\n",
       "    }\n",
       "</style>\n",
       "<table border=\"1\" class=\"dataframe\">\n",
       "  <thead>\n",
       "    <tr style=\"text-align: right;\">\n",
       "      <th></th>\n",
       "      <th>Gender</th>\n",
       "      <th>Age</th>\n",
       "      <th>State</th>\n",
       "      <th>Account_Type</th>\n",
       "      <th>Transaction_Date</th>\n",
       "      <th>Transaction_Time</th>\n",
       "      <th>Transaction_Amount</th>\n",
       "      <th>Transaction_Type</th>\n",
       "      <th>Merchant_Category</th>\n",
       "      <th>Account_Balance</th>\n",
       "      <th>Transaction_Device</th>\n",
       "      <th>Device_Type</th>\n",
       "      <th>Is_Fraud</th>\n",
       "      <th>Transaction_Description</th>\n",
       "      <th>Customer_Email</th>\n",
       "    </tr>\n",
       "  </thead>\n",
       "  <tbody>\n",
       "    <tr>\n",
       "      <th>0</th>\n",
       "      <td>1</td>\n",
       "      <td>60</td>\n",
       "      <td>Kerala</td>\n",
       "      <td>2</td>\n",
       "      <td>23-01-2025</td>\n",
       "      <td>16:04:07</td>\n",
       "      <td>32415.45</td>\n",
       "      <td>3</td>\n",
       "      <td>5</td>\n",
       "      <td>74557.27</td>\n",
       "      <td>17</td>\n",
       "      <td>3</td>\n",
       "      <td>0</td>\n",
       "      <td>Bitcoin transaction</td>\n",
       "      <td>oshaXXXXX@XXXXX.com</td>\n",
       "    </tr>\n",
       "    <tr>\n",
       "      <th>1</th>\n",
       "      <td>0</td>\n",
       "      <td>51</td>\n",
       "      <td>Maharashtra</td>\n",
       "      <td>0</td>\n",
       "      <td>11-01-2025</td>\n",
       "      <td>17:14:53</td>\n",
       "      <td>43622.60</td>\n",
       "      <td>0</td>\n",
       "      <td>5</td>\n",
       "      <td>74622.66</td>\n",
       "      <td>9</td>\n",
       "      <td>1</td>\n",
       "      <td>0</td>\n",
       "      <td>Grocery delivery</td>\n",
       "      <td>hredhaanXXXX@XXXXXX.com</td>\n",
       "    </tr>\n",
       "    <tr>\n",
       "      <th>2</th>\n",
       "      <td>1</td>\n",
       "      <td>20</td>\n",
       "      <td>Bihar</td>\n",
       "      <td>2</td>\n",
       "      <td>25-01-2025</td>\n",
       "      <td>03:09:52</td>\n",
       "      <td>63062.56</td>\n",
       "      <td>0</td>\n",
       "      <td>3</td>\n",
       "      <td>66817.99</td>\n",
       "      <td>0</td>\n",
       "      <td>1</td>\n",
       "      <td>0</td>\n",
       "      <td>Mutual fund investment</td>\n",
       "      <td>ekaniXXX@XXXXXX.com</td>\n",
       "    </tr>\n",
       "    <tr>\n",
       "      <th>3</th>\n",
       "      <td>0</td>\n",
       "      <td>57</td>\n",
       "      <td>Tamil Nadu</td>\n",
       "      <td>0</td>\n",
       "      <td>19-01-2025</td>\n",
       "      <td>12:27:02</td>\n",
       "      <td>14000.72</td>\n",
       "      <td>2</td>\n",
       "      <td>2</td>\n",
       "      <td>58177.08</td>\n",
       "      <td>8</td>\n",
       "      <td>2</td>\n",
       "      <td>0</td>\n",
       "      <td>Food delivery</td>\n",
       "      <td>yaminiXXXXX@XXXXXXX.com</td>\n",
       "    </tr>\n",
       "    <tr>\n",
       "      <th>4</th>\n",
       "      <td>0</td>\n",
       "      <td>43</td>\n",
       "      <td>Punjab</td>\n",
       "      <td>2</td>\n",
       "      <td>30-01-2025</td>\n",
       "      <td>18:30:46</td>\n",
       "      <td>18335.16</td>\n",
       "      <td>3</td>\n",
       "      <td>2</td>\n",
       "      <td>16108.56</td>\n",
       "      <td>16</td>\n",
       "      <td>2</td>\n",
       "      <td>0</td>\n",
       "      <td>Debt repayment</td>\n",
       "      <td>kritikaXXXX@XXXXXX.com</td>\n",
       "    </tr>\n",
       "  </tbody>\n",
       "</table>\n",
       "</div>"
      ],
      "text/plain": [
       "   Gender  Age        State  Account_Type Transaction_Date Transaction_Time  \\\n",
       "0       1   60       Kerala             2       23-01-2025         16:04:07   \n",
       "1       0   51  Maharashtra             0       11-01-2025         17:14:53   \n",
       "2       1   20        Bihar             2       25-01-2025         03:09:52   \n",
       "3       0   57   Tamil Nadu             0       19-01-2025         12:27:02   \n",
       "4       0   43       Punjab             2       30-01-2025         18:30:46   \n",
       "\n",
       "   Transaction_Amount  Transaction_Type  Merchant_Category  Account_Balance  \\\n",
       "0            32415.45                 3                  5         74557.27   \n",
       "1            43622.60                 0                  5         74622.66   \n",
       "2            63062.56                 0                  3         66817.99   \n",
       "3            14000.72                 2                  2         58177.08   \n",
       "4            18335.16                 3                  2         16108.56   \n",
       "\n",
       "   Transaction_Device  Device_Type  Is_Fraud Transaction_Description  \\\n",
       "0                  17            3         0     Bitcoin transaction   \n",
       "1                   9            1         0        Grocery delivery   \n",
       "2                   0            1         0  Mutual fund investment   \n",
       "3                   8            2         0           Food delivery   \n",
       "4                  16            2         0          Debt repayment   \n",
       "\n",
       "            Customer_Email  \n",
       "0      oshaXXXXX@XXXXX.com  \n",
       "1  hredhaanXXXX@XXXXXX.com  \n",
       "2      ekaniXXX@XXXXXX.com  \n",
       "3  yaminiXXXXX@XXXXXXX.com  \n",
       "4   kritikaXXXX@XXXXXX.com  "
      ]
     },
     "execution_count": 65,
     "metadata": {},
     "output_type": "execute_result"
    }
   ],
   "source": [
    "# ENCODE CATEGORICAL VARIABLES\n",
    "categorical_cols = ['Gender', 'Account_Type', 'Transaction_Type', 'Merchant_Category', 'Transaction_Device', 'Device_Type']\n",
    "\n",
    "label_encoders = {}\n",
    "for col in categorical_cols:\n",
    "    le = LabelEncoder()\n",
    "    df[col] = le.fit_transform(df[col])\n",
    "    label_encoders[col] = le  # Store encoder for later use\n",
    "\n",
    "df.head()"
   ]
  },
  {
   "cell_type": "markdown",
   "metadata": {},
   "source": [
    "#### CONVERT DATA TYPES"
   ]
  },
  {
   "cell_type": "code",
   "execution_count": 66,
   "metadata": {},
   "outputs": [
    {
     "name": "stderr",
     "output_type": "stream",
     "text": [
      "c:\\Users\\user\\anaconda3\\envs\\learn-env\\lib\\site-packages\\pandas\\core\\tools\\datetimes.py:1047: UserWarning: Parsing '23-01-2025' in DD/MM/YYYY format. Provide format or specify infer_datetime_format=True for consistent parsing.\n",
      "  cache_array = _maybe_cache(arg, format, cache, convert_listlike)\n",
      "c:\\Users\\user\\anaconda3\\envs\\learn-env\\lib\\site-packages\\pandas\\core\\tools\\datetimes.py:1047: UserWarning: Parsing '25-01-2025' in DD/MM/YYYY format. Provide format or specify infer_datetime_format=True for consistent parsing.\n",
      "  cache_array = _maybe_cache(arg, format, cache, convert_listlike)\n",
      "c:\\Users\\user\\anaconda3\\envs\\learn-env\\lib\\site-packages\\pandas\\core\\tools\\datetimes.py:1047: UserWarning: Parsing '19-01-2025' in DD/MM/YYYY format. Provide format or specify infer_datetime_format=True for consistent parsing.\n",
      "  cache_array = _maybe_cache(arg, format, cache, convert_listlike)\n",
      "c:\\Users\\user\\anaconda3\\envs\\learn-env\\lib\\site-packages\\pandas\\core\\tools\\datetimes.py:1047: UserWarning: Parsing '30-01-2025' in DD/MM/YYYY format. Provide format or specify infer_datetime_format=True for consistent parsing.\n",
      "  cache_array = _maybe_cache(arg, format, cache, convert_listlike)\n",
      "c:\\Users\\user\\anaconda3\\envs\\learn-env\\lib\\site-packages\\pandas\\core\\tools\\datetimes.py:1047: UserWarning: Parsing '16-01-2025' in DD/MM/YYYY format. Provide format or specify infer_datetime_format=True for consistent parsing.\n",
      "  cache_array = _maybe_cache(arg, format, cache, convert_listlike)\n",
      "c:\\Users\\user\\anaconda3\\envs\\learn-env\\lib\\site-packages\\pandas\\core\\tools\\datetimes.py:1047: UserWarning: Parsing '14-01-2025' in DD/MM/YYYY format. Provide format or specify infer_datetime_format=True for consistent parsing.\n",
      "  cache_array = _maybe_cache(arg, format, cache, convert_listlike)\n",
      "c:\\Users\\user\\anaconda3\\envs\\learn-env\\lib\\site-packages\\pandas\\core\\tools\\datetimes.py:1047: UserWarning: Parsing '27-01-2025' in DD/MM/YYYY format. Provide format or specify infer_datetime_format=True for consistent parsing.\n",
      "  cache_array = _maybe_cache(arg, format, cache, convert_listlike)\n",
      "c:\\Users\\user\\anaconda3\\envs\\learn-env\\lib\\site-packages\\pandas\\core\\tools\\datetimes.py:1047: UserWarning: Parsing '29-01-2025' in DD/MM/YYYY format. Provide format or specify infer_datetime_format=True for consistent parsing.\n",
      "  cache_array = _maybe_cache(arg, format, cache, convert_listlike)\n",
      "c:\\Users\\user\\anaconda3\\envs\\learn-env\\lib\\site-packages\\pandas\\core\\tools\\datetimes.py:1047: UserWarning: Parsing '22-01-2025' in DD/MM/YYYY format. Provide format or specify infer_datetime_format=True for consistent parsing.\n",
      "  cache_array = _maybe_cache(arg, format, cache, convert_listlike)\n",
      "c:\\Users\\user\\anaconda3\\envs\\learn-env\\lib\\site-packages\\pandas\\core\\tools\\datetimes.py:1047: UserWarning: Parsing '24-01-2025' in DD/MM/YYYY format. Provide format or specify infer_datetime_format=True for consistent parsing.\n",
      "  cache_array = _maybe_cache(arg, format, cache, convert_listlike)\n",
      "c:\\Users\\user\\anaconda3\\envs\\learn-env\\lib\\site-packages\\pandas\\core\\tools\\datetimes.py:1047: UserWarning: Parsing '13-01-2025' in DD/MM/YYYY format. Provide format or specify infer_datetime_format=True for consistent parsing.\n",
      "  cache_array = _maybe_cache(arg, format, cache, convert_listlike)\n",
      "c:\\Users\\user\\anaconda3\\envs\\learn-env\\lib\\site-packages\\pandas\\core\\tools\\datetimes.py:1047: UserWarning: Parsing '17-01-2025' in DD/MM/YYYY format. Provide format or specify infer_datetime_format=True for consistent parsing.\n",
      "  cache_array = _maybe_cache(arg, format, cache, convert_listlike)\n",
      "c:\\Users\\user\\anaconda3\\envs\\learn-env\\lib\\site-packages\\pandas\\core\\tools\\datetimes.py:1047: UserWarning: Parsing '28-01-2025' in DD/MM/YYYY format. Provide format or specify infer_datetime_format=True for consistent parsing.\n",
      "  cache_array = _maybe_cache(arg, format, cache, convert_listlike)\n",
      "c:\\Users\\user\\anaconda3\\envs\\learn-env\\lib\\site-packages\\pandas\\core\\tools\\datetimes.py:1047: UserWarning: Parsing '20-01-2025' in DD/MM/YYYY format. Provide format or specify infer_datetime_format=True for consistent parsing.\n",
      "  cache_array = _maybe_cache(arg, format, cache, convert_listlike)\n",
      "c:\\Users\\user\\anaconda3\\envs\\learn-env\\lib\\site-packages\\pandas\\core\\tools\\datetimes.py:1047: UserWarning: Parsing '15-01-2025' in DD/MM/YYYY format. Provide format or specify infer_datetime_format=True for consistent parsing.\n",
      "  cache_array = _maybe_cache(arg, format, cache, convert_listlike)\n",
      "c:\\Users\\user\\anaconda3\\envs\\learn-env\\lib\\site-packages\\pandas\\core\\tools\\datetimes.py:1047: UserWarning: Parsing '18-01-2025' in DD/MM/YYYY format. Provide format or specify infer_datetime_format=True for consistent parsing.\n",
      "  cache_array = _maybe_cache(arg, format, cache, convert_listlike)\n",
      "c:\\Users\\user\\anaconda3\\envs\\learn-env\\lib\\site-packages\\pandas\\core\\tools\\datetimes.py:1047: UserWarning: Parsing '26-01-2025' in DD/MM/YYYY format. Provide format or specify infer_datetime_format=True for consistent parsing.\n",
      "  cache_array = _maybe_cache(arg, format, cache, convert_listlike)\n",
      "c:\\Users\\user\\anaconda3\\envs\\learn-env\\lib\\site-packages\\pandas\\core\\tools\\datetimes.py:1047: UserWarning: Parsing '21-01-2025' in DD/MM/YYYY format. Provide format or specify infer_datetime_format=True for consistent parsing.\n",
      "  cache_array = _maybe_cache(arg, format, cache, convert_listlike)\n",
      "c:\\Users\\user\\anaconda3\\envs\\learn-env\\lib\\site-packages\\pandas\\core\\tools\\datetimes.py:1047: UserWarning: Parsing '31-01-2025' in DD/MM/YYYY format. Provide format or specify infer_datetime_format=True for consistent parsing.\n",
      "  cache_array = _maybe_cache(arg, format, cache, convert_listlike)\n"
     ]
    },
    {
     "data": {
      "application/vnd.microsoft.datawrangler.viewer.v0+json": {
       "columns": [
        {
         "name": "index",
         "rawType": "int64",
         "type": "integer"
        },
        {
         "name": "Gender",
         "rawType": "int32",
         "type": "integer"
        },
        {
         "name": "Age",
         "rawType": "int64",
         "type": "integer"
        },
        {
         "name": "State",
         "rawType": "object",
         "type": "string"
        },
        {
         "name": "Account_Type",
         "rawType": "int32",
         "type": "integer"
        },
        {
         "name": "Transaction_Date",
         "rawType": "datetime64[ns]",
         "type": "datetime"
        },
        {
         "name": "Transaction_Time",
         "rawType": "object",
         "type": "string"
        },
        {
         "name": "Transaction_Amount",
         "rawType": "float64",
         "type": "float"
        },
        {
         "name": "Transaction_Type",
         "rawType": "int32",
         "type": "integer"
        },
        {
         "name": "Merchant_Category",
         "rawType": "int32",
         "type": "integer"
        },
        {
         "name": "Account_Balance",
         "rawType": "float64",
         "type": "float"
        },
        {
         "name": "Transaction_Device",
         "rawType": "int32",
         "type": "integer"
        },
        {
         "name": "Device_Type",
         "rawType": "int32",
         "type": "integer"
        },
        {
         "name": "Is_Fraud",
         "rawType": "int64",
         "type": "integer"
        },
        {
         "name": "Transaction_Description",
         "rawType": "object",
         "type": "string"
        },
        {
         "name": "Customer_Email",
         "rawType": "object",
         "type": "string"
        }
       ],
       "conversionMethod": "pd.DataFrame",
       "ref": "0e568364-b72b-4f32-9fff-fb239af1a10d",
       "rows": [
        [
         "0",
         "1",
         "60",
         "Kerala",
         "2",
         "2025-01-23 00:00:00",
         "16:04:07",
         "32415.45",
         "3",
         "5",
         "74557.27",
         "17",
         "3",
         "0",
         "Bitcoin transaction",
         "oshaXXXXX@XXXXX.com"
        ],
        [
         "1",
         "0",
         "51",
         "Maharashtra",
         "0",
         "2025-11-01 00:00:00",
         "17:14:53",
         "43622.6",
         "0",
         "5",
         "74622.66",
         "9",
         "1",
         "0",
         "Grocery delivery",
         "hredhaanXXXX@XXXXXX.com"
        ],
        [
         "2",
         "1",
         "20",
         "Bihar",
         "2",
         "2025-01-25 00:00:00",
         "03:09:52",
         "63062.56",
         "0",
         "3",
         "66817.99",
         "0",
         "1",
         "0",
         "Mutual fund investment",
         "ekaniXXX@XXXXXX.com"
        ],
        [
         "3",
         "0",
         "57",
         "Tamil Nadu",
         "0",
         "2025-01-19 00:00:00",
         "12:27:02",
         "14000.72",
         "2",
         "2",
         "58177.08",
         "8",
         "2",
         "0",
         "Food delivery",
         "yaminiXXXXX@XXXXXXX.com"
        ],
        [
         "4",
         "0",
         "43",
         "Punjab",
         "2",
         "2025-01-30 00:00:00",
         "18:30:46",
         "18335.16",
         "3",
         "2",
         "16108.56",
         "16",
         "2",
         "0",
         "Debt repayment",
         "kritikaXXXX@XXXXXX.com"
        ]
       ],
       "shape": {
        "columns": 15,
        "rows": 5
       }
      },
      "text/html": [
       "<div>\n",
       "<style scoped>\n",
       "    .dataframe tbody tr th:only-of-type {\n",
       "        vertical-align: middle;\n",
       "    }\n",
       "\n",
       "    .dataframe tbody tr th {\n",
       "        vertical-align: top;\n",
       "    }\n",
       "\n",
       "    .dataframe thead th {\n",
       "        text-align: right;\n",
       "    }\n",
       "</style>\n",
       "<table border=\"1\" class=\"dataframe\">\n",
       "  <thead>\n",
       "    <tr style=\"text-align: right;\">\n",
       "      <th></th>\n",
       "      <th>Gender</th>\n",
       "      <th>Age</th>\n",
       "      <th>State</th>\n",
       "      <th>Account_Type</th>\n",
       "      <th>Transaction_Date</th>\n",
       "      <th>Transaction_Time</th>\n",
       "      <th>Transaction_Amount</th>\n",
       "      <th>Transaction_Type</th>\n",
       "      <th>Merchant_Category</th>\n",
       "      <th>Account_Balance</th>\n",
       "      <th>Transaction_Device</th>\n",
       "      <th>Device_Type</th>\n",
       "      <th>Is_Fraud</th>\n",
       "      <th>Transaction_Description</th>\n",
       "      <th>Customer_Email</th>\n",
       "    </tr>\n",
       "  </thead>\n",
       "  <tbody>\n",
       "    <tr>\n",
       "      <th>0</th>\n",
       "      <td>1</td>\n",
       "      <td>60</td>\n",
       "      <td>Kerala</td>\n",
       "      <td>2</td>\n",
       "      <td>2025-01-23</td>\n",
       "      <td>16:04:07</td>\n",
       "      <td>32415.45</td>\n",
       "      <td>3</td>\n",
       "      <td>5</td>\n",
       "      <td>74557.27</td>\n",
       "      <td>17</td>\n",
       "      <td>3</td>\n",
       "      <td>0</td>\n",
       "      <td>Bitcoin transaction</td>\n",
       "      <td>oshaXXXXX@XXXXX.com</td>\n",
       "    </tr>\n",
       "    <tr>\n",
       "      <th>1</th>\n",
       "      <td>0</td>\n",
       "      <td>51</td>\n",
       "      <td>Maharashtra</td>\n",
       "      <td>0</td>\n",
       "      <td>2025-11-01</td>\n",
       "      <td>17:14:53</td>\n",
       "      <td>43622.60</td>\n",
       "      <td>0</td>\n",
       "      <td>5</td>\n",
       "      <td>74622.66</td>\n",
       "      <td>9</td>\n",
       "      <td>1</td>\n",
       "      <td>0</td>\n",
       "      <td>Grocery delivery</td>\n",
       "      <td>hredhaanXXXX@XXXXXX.com</td>\n",
       "    </tr>\n",
       "    <tr>\n",
       "      <th>2</th>\n",
       "      <td>1</td>\n",
       "      <td>20</td>\n",
       "      <td>Bihar</td>\n",
       "      <td>2</td>\n",
       "      <td>2025-01-25</td>\n",
       "      <td>03:09:52</td>\n",
       "      <td>63062.56</td>\n",
       "      <td>0</td>\n",
       "      <td>3</td>\n",
       "      <td>66817.99</td>\n",
       "      <td>0</td>\n",
       "      <td>1</td>\n",
       "      <td>0</td>\n",
       "      <td>Mutual fund investment</td>\n",
       "      <td>ekaniXXX@XXXXXX.com</td>\n",
       "    </tr>\n",
       "    <tr>\n",
       "      <th>3</th>\n",
       "      <td>0</td>\n",
       "      <td>57</td>\n",
       "      <td>Tamil Nadu</td>\n",
       "      <td>0</td>\n",
       "      <td>2025-01-19</td>\n",
       "      <td>12:27:02</td>\n",
       "      <td>14000.72</td>\n",
       "      <td>2</td>\n",
       "      <td>2</td>\n",
       "      <td>58177.08</td>\n",
       "      <td>8</td>\n",
       "      <td>2</td>\n",
       "      <td>0</td>\n",
       "      <td>Food delivery</td>\n",
       "      <td>yaminiXXXXX@XXXXXXX.com</td>\n",
       "    </tr>\n",
       "    <tr>\n",
       "      <th>4</th>\n",
       "      <td>0</td>\n",
       "      <td>43</td>\n",
       "      <td>Punjab</td>\n",
       "      <td>2</td>\n",
       "      <td>2025-01-30</td>\n",
       "      <td>18:30:46</td>\n",
       "      <td>18335.16</td>\n",
       "      <td>3</td>\n",
       "      <td>2</td>\n",
       "      <td>16108.56</td>\n",
       "      <td>16</td>\n",
       "      <td>2</td>\n",
       "      <td>0</td>\n",
       "      <td>Debt repayment</td>\n",
       "      <td>kritikaXXXX@XXXXXX.com</td>\n",
       "    </tr>\n",
       "  </tbody>\n",
       "</table>\n",
       "</div>"
      ],
      "text/plain": [
       "   Gender  Age        State  Account_Type Transaction_Date Transaction_Time  \\\n",
       "0       1   60       Kerala             2       2025-01-23         16:04:07   \n",
       "1       0   51  Maharashtra             0       2025-11-01         17:14:53   \n",
       "2       1   20        Bihar             2       2025-01-25         03:09:52   \n",
       "3       0   57   Tamil Nadu             0       2025-01-19         12:27:02   \n",
       "4       0   43       Punjab             2       2025-01-30         18:30:46   \n",
       "\n",
       "   Transaction_Amount  Transaction_Type  Merchant_Category  Account_Balance  \\\n",
       "0            32415.45                 3                  5         74557.27   \n",
       "1            43622.60                 0                  5         74622.66   \n",
       "2            63062.56                 0                  3         66817.99   \n",
       "3            14000.72                 2                  2         58177.08   \n",
       "4            18335.16                 3                  2         16108.56   \n",
       "\n",
       "   Transaction_Device  Device_Type  Is_Fraud Transaction_Description  \\\n",
       "0                  17            3         0     Bitcoin transaction   \n",
       "1                   9            1         0        Grocery delivery   \n",
       "2                   0            1         0  Mutual fund investment   \n",
       "3                   8            2         0           Food delivery   \n",
       "4                  16            2         0          Debt repayment   \n",
       "\n",
       "            Customer_Email  \n",
       "0      oshaXXXXX@XXXXX.com  \n",
       "1  hredhaanXXXX@XXXXXX.com  \n",
       "2      ekaniXXX@XXXXXX.com  \n",
       "3  yaminiXXXXX@XXXXXXX.com  \n",
       "4   kritikaXXXX@XXXXXX.com  "
      ]
     },
     "execution_count": 66,
     "metadata": {},
     "output_type": "execute_result"
    }
   ],
   "source": [
    "df['Transaction_Date'] = pd.to_datetime(df['Transaction_Date'])\n",
    "df['Transaction_Time'] = pd.to_datetime(df['Transaction_Time'], format='%H:%M:%S').dt.time\n",
    "\n",
    "df.head()"
   ]
  },
  {
   "cell_type": "markdown",
   "metadata": {},
   "source": [
    "#### Scaling"
   ]
  },
  {
   "cell_type": "code",
   "execution_count": null,
   "metadata": {},
   "outputs": [
    {
     "data": {
      "application/vnd.microsoft.datawrangler.viewer.v0+json": {
       "columns": [
        {
         "name": "index",
         "rawType": "int64",
         "type": "integer"
        },
        {
         "name": "Gender",
         "rawType": "int64",
         "type": "integer"
        },
        {
         "name": "Age",
         "rawType": "float64",
         "type": "float"
        },
        {
         "name": "State",
         "rawType": "object",
         "type": "string"
        },
        {
         "name": "Account_Type",
         "rawType": "int64",
         "type": "integer"
        },
        {
         "name": "Transaction_Date",
         "rawType": "datetime64[ns]",
         "type": "datetime"
        },
        {
         "name": "Transaction_Time",
         "rawType": "object",
         "type": "string"
        },
        {
         "name": "Transaction_Amount",
         "rawType": "float64",
         "type": "float"
        },
        {
         "name": "Transaction_Type",
         "rawType": "int64",
         "type": "integer"
        },
        {
         "name": "Merchant_Category",
         "rawType": "int64",
         "type": "integer"
        },
        {
         "name": "Account_Balance",
         "rawType": "float64",
         "type": "float"
        },
        {
         "name": "Transaction_Device",
         "rawType": "int64",
         "type": "integer"
        },
        {
         "name": "Device_Type",
         "rawType": "int64",
         "type": "integer"
        },
        {
         "name": "Is_Fraud",
         "rawType": "int64",
         "type": "integer"
        },
        {
         "name": "Transaction_Description",
         "rawType": "object",
         "type": "string"
        },
        {
         "name": "Customer_Email",
         "rawType": "object",
         "type": "string"
        }
       ],
       "conversionMethod": "pd.DataFrame",
       "ref": "e3973bf7-624b-46aa-a8b5-1b44c0ab933a",
       "rows": [
        [
         "0",
         "1",
         "1.045533776646655",
         "Kerala",
         "2",
         "2025-01-23 00:00:00",
         "16:04:07",
         "-0.5997017344109106",
         "3",
         "5",
         "0.807289576833336",
         "17",
         "3",
         "0",
         "Bitcoin transaction",
         "oshaXXXXX@XXXXX.com"
        ],
        [
         "1",
         "0",
         "0.4568651033045241",
         "Maharashtra",
         "0",
         "2025-11-01 00:00:00",
         "17:14:53",
         "-0.2071818593064084",
         "0",
         "5",
         "0.8096761220792038",
         "9",
         "1",
         "0",
         "Grocery delivery",
         "hredhaanXXXX@XXXXXX.com"
        ],
        [
         "2",
         "1",
         "-1.5707714382072602",
         "Bihar",
         "2",
         "2025-01-25 00:00:00",
         "03:09:52",
         "0.4736844333046944",
         "0",
         "3",
         "0.5248283153187344",
         "0",
         "1",
         "0",
         "Mutual fund investment",
         "ekaniXXX@XXXXXX.com"
        ],
        [
         "3",
         "0",
         "0.8493108855326114",
         "Tamil Nadu",
         "0",
         "2025-01-19 00:00:00",
         "12:27:02",
         "-1.2446603117194264",
         "2",
         "2",
         "0.20946017522894086",
         "8",
         "2",
         "0",
         "Food delivery",
         "yaminiXXXXX@XXXXXXX.com"
        ],
        [
         "4",
         "0",
         "-0.06639593966625894",
         "Punjab",
         "2",
         "2025-01-30 00:00:00",
         "18:30:46",
         "-1.092850632412202",
         "3",
         "2",
         "-1.32591872684622",
         "16",
         "2",
         "0",
         "Debt repayment",
         "kritikaXXXX@XXXXXX.com"
        ]
       ],
       "shape": {
        "columns": 15,
        "rows": 5
       }
      },
      "text/html": [
       "<div>\n",
       "<style scoped>\n",
       "    .dataframe tbody tr th:only-of-type {\n",
       "        vertical-align: middle;\n",
       "    }\n",
       "\n",
       "    .dataframe tbody tr th {\n",
       "        vertical-align: top;\n",
       "    }\n",
       "\n",
       "    .dataframe thead th {\n",
       "        text-align: right;\n",
       "    }\n",
       "</style>\n",
       "<table border=\"1\" class=\"dataframe\">\n",
       "  <thead>\n",
       "    <tr style=\"text-align: right;\">\n",
       "      <th></th>\n",
       "      <th>Gender</th>\n",
       "      <th>Age</th>\n",
       "      <th>State</th>\n",
       "      <th>Account_Type</th>\n",
       "      <th>Transaction_Date</th>\n",
       "      <th>Transaction_Time</th>\n",
       "      <th>Transaction_Amount</th>\n",
       "      <th>Transaction_Type</th>\n",
       "      <th>Merchant_Category</th>\n",
       "      <th>Account_Balance</th>\n",
       "      <th>Transaction_Device</th>\n",
       "      <th>Device_Type</th>\n",
       "      <th>Is_Fraud</th>\n",
       "      <th>Transaction_Description</th>\n",
       "      <th>Customer_Email</th>\n",
       "    </tr>\n",
       "  </thead>\n",
       "  <tbody>\n",
       "    <tr>\n",
       "      <th>0</th>\n",
       "      <td>1</td>\n",
       "      <td>1.045534</td>\n",
       "      <td>Kerala</td>\n",
       "      <td>2</td>\n",
       "      <td>2025-01-23</td>\n",
       "      <td>16:04:07</td>\n",
       "      <td>-0.599702</td>\n",
       "      <td>3</td>\n",
       "      <td>5</td>\n",
       "      <td>0.807290</td>\n",
       "      <td>17</td>\n",
       "      <td>3</td>\n",
       "      <td>0</td>\n",
       "      <td>Bitcoin transaction</td>\n",
       "      <td>oshaXXXXX@XXXXX.com</td>\n",
       "    </tr>\n",
       "    <tr>\n",
       "      <th>1</th>\n",
       "      <td>0</td>\n",
       "      <td>0.456865</td>\n",
       "      <td>Maharashtra</td>\n",
       "      <td>0</td>\n",
       "      <td>2025-11-01</td>\n",
       "      <td>17:14:53</td>\n",
       "      <td>-0.207182</td>\n",
       "      <td>0</td>\n",
       "      <td>5</td>\n",
       "      <td>0.809676</td>\n",
       "      <td>9</td>\n",
       "      <td>1</td>\n",
       "      <td>0</td>\n",
       "      <td>Grocery delivery</td>\n",
       "      <td>hredhaanXXXX@XXXXXX.com</td>\n",
       "    </tr>\n",
       "    <tr>\n",
       "      <th>2</th>\n",
       "      <td>1</td>\n",
       "      <td>-1.570771</td>\n",
       "      <td>Bihar</td>\n",
       "      <td>2</td>\n",
       "      <td>2025-01-25</td>\n",
       "      <td>03:09:52</td>\n",
       "      <td>0.473684</td>\n",
       "      <td>0</td>\n",
       "      <td>3</td>\n",
       "      <td>0.524828</td>\n",
       "      <td>0</td>\n",
       "      <td>1</td>\n",
       "      <td>0</td>\n",
       "      <td>Mutual fund investment</td>\n",
       "      <td>ekaniXXX@XXXXXX.com</td>\n",
       "    </tr>\n",
       "    <tr>\n",
       "      <th>3</th>\n",
       "      <td>0</td>\n",
       "      <td>0.849311</td>\n",
       "      <td>Tamil Nadu</td>\n",
       "      <td>0</td>\n",
       "      <td>2025-01-19</td>\n",
       "      <td>12:27:02</td>\n",
       "      <td>-1.244660</td>\n",
       "      <td>2</td>\n",
       "      <td>2</td>\n",
       "      <td>0.209460</td>\n",
       "      <td>8</td>\n",
       "      <td>2</td>\n",
       "      <td>0</td>\n",
       "      <td>Food delivery</td>\n",
       "      <td>yaminiXXXXX@XXXXXXX.com</td>\n",
       "    </tr>\n",
       "    <tr>\n",
       "      <th>4</th>\n",
       "      <td>0</td>\n",
       "      <td>-0.066396</td>\n",
       "      <td>Punjab</td>\n",
       "      <td>2</td>\n",
       "      <td>2025-01-30</td>\n",
       "      <td>18:30:46</td>\n",
       "      <td>-1.092851</td>\n",
       "      <td>3</td>\n",
       "      <td>2</td>\n",
       "      <td>-1.325919</td>\n",
       "      <td>16</td>\n",
       "      <td>2</td>\n",
       "      <td>0</td>\n",
       "      <td>Debt repayment</td>\n",
       "      <td>kritikaXXXX@XXXXXX.com</td>\n",
       "    </tr>\n",
       "  </tbody>\n",
       "</table>\n",
       "</div>"
      ],
      "text/plain": [
       "   Gender       Age        State  Account_Type Transaction_Date  \\\n",
       "0       1  1.045534       Kerala             2       2025-01-23   \n",
       "1       0  0.456865  Maharashtra             0       2025-11-01   \n",
       "2       1 -1.570771        Bihar             2       2025-01-25   \n",
       "3       0  0.849311   Tamil Nadu             0       2025-01-19   \n",
       "4       0 -0.066396       Punjab             2       2025-01-30   \n",
       "\n",
       "  Transaction_Time  Transaction_Amount  Transaction_Type  Merchant_Category  \\\n",
       "0         16:04:07           -0.599702                 3                  5   \n",
       "1         17:14:53           -0.207182                 0                  5   \n",
       "2         03:09:52            0.473684                 0                  3   \n",
       "3         12:27:02           -1.244660                 2                  2   \n",
       "4         18:30:46           -1.092851                 3                  2   \n",
       "\n",
       "   Account_Balance  Transaction_Device  Device_Type  Is_Fraud  \\\n",
       "0         0.807290                  17            3         0   \n",
       "1         0.809676                   9            1         0   \n",
       "2         0.524828                   0            1         0   \n",
       "3         0.209460                   8            2         0   \n",
       "4        -1.325919                  16            2         0   \n",
       "\n",
       "  Transaction_Description           Customer_Email  \n",
       "0     Bitcoin transaction      oshaXXXXX@XXXXX.com  \n",
       "1        Grocery delivery  hredhaanXXXX@XXXXXX.com  \n",
       "2  Mutual fund investment      ekaniXXX@XXXXXX.com  \n",
       "3           Food delivery  yaminiXXXXX@XXXXXXX.com  \n",
       "4          Debt repayment   kritikaXXXX@XXXXXX.com  "
      ]
     },
     "execution_count": 22,
     "metadata": {},
     "output_type": "execute_result"
    }
   ],
   "source": [
    "# ## NORMALIZE NUMERICAL FEATURES (Scaling)\n",
    "# scaler = StandardScaler()\n",
    "# df[numerical_cols] = scaler.fit_transform(df[numerical_cols])\n",
    "# df.head()"
   ]
  },
  {
   "cell_type": "markdown",
   "metadata": {},
   "source": [
    "#### TRaining the Model "
   ]
  },
  {
   "cell_type": "code",
   "execution_count": 67,
   "metadata": {},
   "outputs": [],
   "source": [
    "### 1. DEFINE FEATURES (X) & TARGET (y)\n",
    "X = df.drop(columns=['Is_Fraud','State','Transaction_Date','Transaction_Time','Transaction_Description','Customer_Email'])  # Features\n",
    "y = df['Is_Fraud']  # Target variable (Fraud or Not)\n",
    "\n",
    "### 2. TRAIN-TEST SPLIT (80% Train, 20% Test)\n",
    "X_train, X_test, y_train, y_test = train_test_split(X, y, test_size=0.2, random_state=42, stratify=y)"
   ]
  },
  {
   "cell_type": "markdown",
   "metadata": {},
   "source": [
    "### Modelling "
   ]
  },
  {
   "cell_type": "code",
   "execution_count": 68,
   "metadata": {},
   "outputs": [
    {
     "name": "stdout",
     "output_type": "stream",
     "text": [
      "Logistic Regression Performance:\n",
      "              precision    recall  f1-score   support\n",
      "\n",
      "           0       0.95      1.00      0.97     37982\n",
      "           1       0.00      0.00      0.00      2018\n",
      "\n",
      "    accuracy                           0.95     40000\n",
      "   macro avg       0.47      0.50      0.49     40000\n",
      "weighted avg       0.90      0.95      0.92     40000\n",
      "\n"
     ]
    },
    {
     "name": "stderr",
     "output_type": "stream",
     "text": [
      "c:\\Users\\user\\anaconda3\\envs\\learn-env\\lib\\site-packages\\sklearn\\metrics\\_classification.py:1221: UndefinedMetricWarning: Precision and F-score are ill-defined and being set to 0.0 in labels with no predicted samples. Use `zero_division` parameter to control this behavior.\n",
      "  _warn_prf(average, modifier, msg_start, len(result))\n"
     ]
    }
   ],
   "source": [
    "# TRAIN BASELINE MODEL (LOGISTIC REGRESSION)\n",
    "log_reg = LogisticRegression(max_iter=1000)\n",
    "log_reg.fit(X_train, y_train)\n",
    "y_pred_log = log_reg.predict(X_test)\n",
    "print(\"Logistic Regression Performance:\")\n",
    "print(classification_report(y_test, y_pred_log))"
   ]
  },
  {
   "cell_type": "code",
   "execution_count": 69,
   "metadata": {},
   "outputs": [
    {
     "name": "stdout",
     "output_type": "stream",
     "text": [
      "Decision tree score = 89.17\n",
      " \n",
      "              precision    recall  f1-score   support\n",
      "\n",
      "           0       0.95      0.94      0.94     37982\n",
      "           1       0.05      0.06      0.06      2018\n",
      "\n",
      "    accuracy                           0.89     40000\n",
      "   macro avg       0.50      0.50      0.50     40000\n",
      "weighted avg       0.90      0.89      0.90     40000\n",
      "\n"
     ]
    }
   ],
   "source": [
    "# Decision tree \n",
    "model2 = DecisionTreeClassifier()\n",
    "model2.fit(X_train, y_train)\n",
    "\n",
    "# model prediction\n",
    "y_pred_train2 = model2.predict(X_train)\n",
    "y_pred_test2 = model2.predict(X_test)\n",
    "\n",
    "print('Decision tree score =',round(metrics.accuracy_score(y_test, y_pred_test2)*100,2))\n",
    "print(\" \")\n",
    "print(classification_report(y_test, y_pred_test2))"
   ]
  },
  {
   "cell_type": "code",
   "execution_count": 70,
   "metadata": {},
   "outputs": [
    {
     "name": "stdout",
     "output_type": "stream",
     "text": [
      "Random forest score = 94.95\n",
      " \n",
      "              precision    recall  f1-score   support\n",
      "\n",
      "           0       0.95      1.00      0.97     37982\n",
      "           1       0.00      0.00      0.00      2018\n",
      "\n",
      "    accuracy                           0.95     40000\n",
      "   macro avg       0.47      0.50      0.49     40000\n",
      "weighted avg       0.90      0.95      0.92     40000\n",
      "\n"
     ]
    }
   ],
   "source": [
    "# Random Forest \n",
    "model3 = RandomForestClassifier(n_estimators=100)\n",
    "model3.fit(X_train, y_train)\n",
    "\n",
    "# model prediction\n",
    "y_pred_train3 = model3.predict(X_train)\n",
    "y_pred_test3 = model3.predict(X_test)\n",
    "\n",
    "# model evaluation\n",
    "print('Random forest score =',round(metrics.accuracy_score(y_test, y_pred_test3)*100,2))\n",
    "print(\" \")\n",
    "print(classification_report(y_test, y_pred_test3))"
   ]
  },
  {
   "cell_type": "code",
   "execution_count": 71,
   "metadata": {},
   "outputs": [
    {
     "name": "stdout",
     "output_type": "stream",
     "text": [
      "Logistic Regression Accuracy: 0.94955\n",
      "Random Forest Accuracy: 0.94950\n",
      "Decision tree score: 0.89172\n"
     ]
    }
   ],
   "source": [
    "### FINAL ACCURACY CHECK\n",
    "print(f\"Logistic Regression Accuracy: {accuracy_score(y_test, y_pred_log):.5f}\")\n",
    "print(f\"Random Forest Accuracy: {accuracy_score(y_test, y_pred_rf):.5f}\")\n",
    "print(f\"Decision tree score: {accuracy_score(y_test, y_pred_test2):.5f}\")\n"
   ]
  },
  {
   "cell_type": "code",
   "execution_count": null,
   "metadata": {},
   "outputs": [],
   "source": [
    "### FINAL ACCURACY CHECK\n",
    "print(f\"Logistic Regression Accuracy: {accuracy_score(y_test, y_pred_log):.5f}\")\n",
    "print(f\"Random Forest Accuracy: {accuracy_score(y_test, y_pred_rf):.5f}\")\n",
    "print(f\"Decision tree score: {accuracy_score(y_test, y_pred_test2):.5f}\")"
   ]
  }
 ],
 "metadata": {
  "kernelspec": {
   "display_name": "Python (learn-env)",
   "language": "python",
   "name": "learn-env"
  },
  "language_info": {
   "codemirror_mode": {
    "name": "ipython",
    "version": 3
   },
   "file_extension": ".py",
   "mimetype": "text/x-python",
   "name": "python",
   "nbconvert_exporter": "python",
   "pygments_lexer": "ipython3",
   "version": "3.8.5"
  }
 },
 "nbformat": 4,
 "nbformat_minor": 2
}
