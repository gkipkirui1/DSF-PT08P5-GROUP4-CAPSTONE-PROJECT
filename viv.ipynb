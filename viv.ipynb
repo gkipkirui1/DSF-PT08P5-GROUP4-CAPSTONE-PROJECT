{
  "cells": [
    {
      "cell_type": "markdown",
      "metadata": {
        "id": "ik4u9uuOuwFM"
      },
      "source": [
        "### Topic Suggestion\n",
        "1. Fraud Detection in Financial Transactions: A Machine Learning Approach\n",
        "2. Identifying Fraudulent Transactions: Predictive Modeling\n",
        "3. Building an Intelligent Fraud Detection System\n",
        "4. Data-Driven Approach for Transaction Anomaly Detection"
      ]
    },
    {
      "cell_type": "markdown",
      "metadata": {
        "id": "-bv5P-HOuwFT"
      },
      "source": [
        "## Project Preview\n",
        "---\n",
        "\n",
        "According to INTERPOL's (2024) assessment, regions such as West and Southern Africa have seen an increase in romance baiting frauds, while Asia has become a focal point for telecommunication frauds where perpetrators impersonate law enforcement or bank officials to extract financial information from victims.Among financial institutions, commercial banks and health insurers have been notably affected by fraud. Additionally, identity fraud has emerged as a predominant threat, accounting for 45% of all adverse contributions reported by banks and financial service providers in 2023, with projections suggesting it could reach 50% by the end of the year,(Retain Banker International, 2024). Interpol (2024) states that causes of fraud in commercial banks and financial institutions are multifaceted. The increased use of technology has enabled organized crime groups to conduct sophisticated fraud campaigns at relatively low costs. Moreover, PYMNTS (2024) indicates the rise in scam-related frauds, particularly those exploiting consumer trust through social engineering, has led to a 56% increase in such incidents in 2024, surpassing traditional digital payment crimes. Regarding transaction methods, scams have become the leading form of fraud, surpassing digital payment fraud. The share of scam-related fraud increased by 56% in 2024, with financial losses from scams rising by 121%. These scams now account for 23% of all fraudulent transactions, with relationship and product scams responsible for most losses,(PYMNTS,2024).\n",
        "\n",
        "In Kenya, financial fraud has become an escalating concern, with recent incidents highlighting the vulnerability of the nation's financial institutions,(Kenay Wall Street,2024). A notable case involves Kiwipay Kenya Limited, where approximately Ksh2.3 billion ($19.48 million) was frozen due to suspicions of debit card fraud linked to an international syndicate. The CBK (2025) has identified several factors contributing to the rise of fraud within the country's financial sector. These include the increased adoption of information and communication technology (ICT), which, while enhancing operational efficiency, has also opened new avenues for cybercriminals. Additionally, a general lack of awareness regarding financial security among consumers has made them more susceptible to schemes such as social engineering and identity theft. Emerging cyber threats further exacerbate these challenges, necessitating robust cybersecurity measures across financial institutions. Among the various transaction methods, digital payment platforms have been significantly targeted by fraudsters. The CBK has observed that mobile and internet banking channels are particularly vulnerable, with fraudsters exploiting these platforms to conduct unauthorized transactions. This trend underscores the need for enhanced security protocols and increased consumer education to mitigate the risks associated with digital financial services."
      ]
    },
    {
      "cell_type": "markdown",
      "metadata": {
        "id": "B7uzoVVwuwFV"
      },
      "source": [
        "## **Problem Statement**\n",
        "---\n",
        "The Central Bank of Kenya (CBK) has highlighted key risk factors, including the rapid adoption of digital financial services, low consumer awareness of financial security, and emerging cyber threats that continue to evolve. Furthermore, scam-related frauds, identity theft, and social engineering tactics have intensified, leading to substantial financial losses and undermining public trust in the financial sector. In response to these challenges, we aim to develop a robust fraud detection and prevention model that leverages advanced technologies such as machine learning, artificial intelligence, and real-time transaction monitoring. This model will enhance the ability of financial institutions to detect fraudulent activities proactively, mitigate risks, and strengthen cybersecurity measures.\n",
        "\n",
        "## **Objectives**\n",
        "---\n",
        "\n"
      ]
    },
    {
      "cell_type": "markdown",
      "metadata": {
        "id": "A7vVo95LuwFY"
      },
      "source": [
        "## **Data Source and description**\n",
        "\n",
        "The data was sourced from https://www.kaggle.com/datasets/marusagar/bank-transaction-fraud-detection\n",
        "\n",
        "The dataset used for model building contained 200000 observations of 24 variables.\n",
        "\n",
        "Here are the information of the columns:\n",
        "\n",
        "* Customer_ID: A particular identifier for every customer within the bank's system.\n",
        "\n",
        "* Customer_Name: The name of the consumer making the transaction.\n",
        "\n",
        "* Gender: The gender of the consumer (e.G., Male, Female, Other).\n",
        "\n",
        "* Age: The age of the consumer at the time of the transaction.\n",
        "\n",
        "* State: The nation in which the patron resides.\n",
        "\n",
        "* City: The metropolis wherein the client is living.\n",
        "\n",
        "* Bank_Branch: The specific financial institution branch wherein the consumer holds their account.\n",
        "\n",
        "* Account_Type: The kind of account held with the aid of the customer (e.G., Savings, Checking).\n",
        "\n",
        "* Transaction_ID: A particular identifier for each transaction.\n",
        "\n",
        "* Transaction_Date: The date on which the transaction passed off.\n",
        "\n",
        "* Transaction_Time: The specific time the transaction became initiated.\n",
        "\n",
        "* Transaction_Amount: The financial value of the transaction.\n",
        "\n",
        "* Merchant_ID: A particular identifier for the merchant worried within the transaction.\n",
        "\n",
        "* Transaction_Type: The nature of the transaction (e.G., Withdrawal, Deposit, Transfer).\n",
        "\n",
        "* Merchant_Category: The class of the merchant (e.G., Retail, Online, Travel).\n",
        "\n",
        "* Account_Balance: The balance of the customer's account after the transaction.\n",
        "\n",
        "* Transaction_Device: The tool utilized by the consumer to perform the transaction (e.G., Mobile, Desktop).\n",
        "\n",
        "* Transaction_Location: The geographical vicinity (e.G., latitude, longitude) of the transaction.\n",
        "\n",
        "* Device_Type: The kind of device used for the transaction (e.G., Smartphone, Laptop).\n",
        "\n",
        "* Is_Fraud: A binary indicator (1 or zero) indicating whether or not the transaction is fraudulent or now not.\n",
        "\n",
        "* Transaction_Currency: The currency used for the transaction (e.G., USD, EUR).\n",
        "\n",
        "* Customer_Contact: The contact variety of the client.\n",
        "\n",
        "* Transaction_Description: A brief description of the transaction (e.G., buy, switch).\n",
        "\n",
        "* Customer_Email: The e-mail cope with related to the consumer's account.**\n"
      ]
    },
    {
      "cell_type": "markdown",
      "metadata": {
        "id": "oyglYFu5uwFa"
      },
      "source": [
        "## Import the packages"
      ]
    },
    {
      "cell_type": "code",
      "execution_count": 1,
      "metadata": {
        "colab": {
          "base_uri": "https://localhost:8080/"
        },
        "id": "2PPOiEEquwFc",
        "outputId": "23b4f951-3575-4bc4-84f5-0f40b517880b"
      },
      "outputs": [],
      "source": [
        "# This code will load the dataset from the provided zip file and perform initial data understanding.\n",
        "import pandas as pd\n",
        "import numpy as np\n",
        "import matplotlib.pyplot as plt\n",
        "import seaborn as sns\n",
        "sns.set_style(style='whitegrid')\n",
        "import zipfile\n",
        "import os\n",
        "from sklearn.model_selection import train_test_split\n",
        "from sklearn.preprocessing import StandardScaler, OneHotEncoder, LabelEncoder\n",
        "from sklearn.compose import ColumnTransformer\n",
        "from sklearn.pipeline import Pipeline\n",
        "from sklearn.impute import SimpleImputer\n",
        "from sklearn.linear_model import LogisticRegression\n",
        "from sklearn.tree import DecisionTreeClassifier\n",
        "from sklearn.ensemble import RandomForestClassifier\n",
        "from sklearn.model_selection import GridSearchCV\n",
        "from sklearn.decomposition import PCA,TruncatedSVD\n",
        "from sklearn.metrics import accuracy_score, confusion_matrix, roc_auc_score, RocCurveDisplay"
      ]
    },
    {
      "cell_type": "code",
      "execution_count": 2,
      "metadata": {
        "colab": {
          "base_uri": "https://localhost:8080/"
        },
        "id": "_xmw3jz9uwFj",
        "outputId": "ad271f2f-5531-4812-d62b-a169ec47a899"
      },
      "outputs": [
        {
          "name": "stdout",
          "output_type": "stream",
          "text": [
            "Requirement already satisfied: xgboost in c:\\users\\user\\anaconda3\\envs\\learn-env\\lib\\site-packages (2.1.4)\n",
            "Requirement already satisfied: numpy in c:\\users\\user\\anaconda3\\envs\\learn-env\\lib\\site-packages (from xgboost) (1.22.0)\n",
            "Requirement already satisfied: scipy in c:\\users\\user\\anaconda3\\envs\\learn-env\\lib\\site-packages (from xgboost) (1.5.0)\n",
            "Requirement already satisfied: lightgbm in c:\\users\\user\\anaconda3\\envs\\learn-env\\lib\\site-packages (4.6.0)\n",
            "Requirement already satisfied: scipy in c:\\users\\user\\anaconda3\\envs\\learn-env\\lib\\site-packages (from lightgbm) (1.5.0)\n",
            "Requirement already satisfied: numpy>=1.17.0 in c:\\users\\user\\anaconda3\\envs\\learn-env\\lib\\site-packages (from lightgbm) (1.22.0)\n"
          ]
        }
      ],
      "source": [
        "!pip install xgboost\n",
        "import xgboost as xgb\n",
        "from xgboost import XGBClassifier\n",
        "from sklearn.metrics import classification_report\n",
        "\n",
        "!pip install lightgbm\n",
        "import lightgbm as lgb"
      ]
    },
    {
      "cell_type": "markdown",
      "metadata": {
        "id": "XIoH9DwtuwFl"
      },
      "source": [
        "## Data Loading"
      ]
    },
    {
      "cell_type": "code",
      "execution_count": 4,
      "metadata": {
        "id": "n2JainH_uwFm"
      },
      "outputs": [],
      "source": [
        "# # Path the zip file\n",
        "# zip_file_path = 'data/archive.zip'\n",
        "# extracted_files_path = 'data'\n",
        "\n",
        "# # Checking existence of the output directory\n",
        "# os.makedirs(extracted_files_path, exist_ok=True)\n",
        "\n",
        "# # Unzipping the archive file\n",
        "# with zipfile.ZipFile(zip_file_path, 'r') as zip_ref:\n",
        "#     zip_ref.extractall(extracted_files_path)\n",
        "\n",
        "# print(f\"Files extracted to {extracted_files_path}\")"
      ]
    },
    {
      "cell_type": "code",
      "execution_count": 36,
      "metadata": {
        "colab": {
          "base_uri": "https://localhost:8080/",
          "height": 516
        },
        "id": "kN52-GSDuwFo",
        "outputId": "dc5deae2-4382-4129-9ee5-6cfde63fd1f9"
      },
      "outputs": [
        {
          "data": {
            "application/vnd.microsoft.datawrangler.viewer.v0+json": {
              "columns": [
                {
                  "name": "index",
                  "rawType": "int64",
                  "type": "integer"
                },
                {
                  "name": "Customer_ID",
                  "rawType": "object",
                  "type": "string"
                },
                {
                  "name": "Customer_Name",
                  "rawType": "object",
                  "type": "string"
                },
                {
                  "name": "Gender",
                  "rawType": "object",
                  "type": "string"
                },
                {
                  "name": "Age",
                  "rawType": "int64",
                  "type": "integer"
                },
                {
                  "name": "State",
                  "rawType": "object",
                  "type": "string"
                },
                {
                  "name": "City",
                  "rawType": "object",
                  "type": "string"
                },
                {
                  "name": "Bank_Branch",
                  "rawType": "object",
                  "type": "string"
                },
                {
                  "name": "Account_Type",
                  "rawType": "object",
                  "type": "string"
                },
                {
                  "name": "Transaction_ID",
                  "rawType": "object",
                  "type": "string"
                },
                {
                  "name": "Transaction_Date",
                  "rawType": "object",
                  "type": "string"
                },
                {
                  "name": "Transaction_Time",
                  "rawType": "object",
                  "type": "string"
                },
                {
                  "name": "Transaction_Amount",
                  "rawType": "float64",
                  "type": "float"
                },
                {
                  "name": "Merchant_ID",
                  "rawType": "object",
                  "type": "string"
                },
                {
                  "name": "Transaction_Type",
                  "rawType": "object",
                  "type": "string"
                },
                {
                  "name": "Merchant_Category",
                  "rawType": "object",
                  "type": "string"
                },
                {
                  "name": "Account_Balance",
                  "rawType": "float64",
                  "type": "float"
                },
                {
                  "name": "Transaction_Device",
                  "rawType": "object",
                  "type": "string"
                },
                {
                  "name": "Transaction_Location",
                  "rawType": "object",
                  "type": "string"
                },
                {
                  "name": "Device_Type",
                  "rawType": "object",
                  "type": "string"
                },
                {
                  "name": "Is_Fraud",
                  "rawType": "int64",
                  "type": "integer"
                },
                {
                  "name": "Transaction_Currency",
                  "rawType": "object",
                  "type": "string"
                },
                {
                  "name": "Customer_Contact",
                  "rawType": "object",
                  "type": "string"
                },
                {
                  "name": "Transaction_Description",
                  "rawType": "object",
                  "type": "string"
                },
                {
                  "name": "Customer_Email",
                  "rawType": "object",
                  "type": "string"
                }
              ],
              "conversionMethod": "pd.DataFrame",
              "ref": "42bde762-0150-41ff-adcc-c35a17b2c76e",
              "rows": [
                [
                  "0",
                  "d5f6ec07-d69e-4f47-b9b4-7c58ff17c19e",
                  "Osha Tella",
                  "Male",
                  "60",
                  "Kerala",
                  "Thiruvananthapuram",
                  "Thiruvananthapuram Branch",
                  "Savings",
                  "4fa3208f-9e23-42dc-b330-844829d0c12c",
                  "23-01-2025",
                  "16:04:07",
                  "32415.45",
                  "214e03c5-5c34-40d1-a66c-f440aa2bbd02",
                  "Transfer",
                  "Restaurant",
                  "74557.27",
                  "Voice Assistant",
                  "Thiruvananthapuram, Kerala",
                  "POS",
                  "0",
                  "INR",
                  "+9198579XXXXXX",
                  "Bitcoin transaction",
                  "oshaXXXXX@XXXXX.com"
                ],
                [
                  "1",
                  "7c14ad51-781a-4db9-b7bd-67439c175262",
                  "Hredhaan Khosla",
                  "Female",
                  "51",
                  "Maharashtra",
                  "Nashik",
                  "Nashik Branch",
                  "Business",
                  "c9de0c06-2c4c-40a9-97ed-3c7b8f97c79c",
                  "11-01-2025",
                  "17:14:53",
                  "43622.6",
                  "f9e3f11f-28d3-4199-b0ca-f225a155ede6",
                  "Bill Payment",
                  "Restaurant",
                  "74622.66",
                  "POS Mobile Device",
                  "Nashik, Maharashtra",
                  "Desktop",
                  "0",
                  "INR",
                  "+9191074XXXXXX",
                  "Grocery delivery",
                  "hredhaanXXXX@XXXXXX.com"
                ],
                [
                  "2",
                  "3a73a0e5-d4da-45aa-85f3-528413900a35",
                  "Ekani Nazareth",
                  "Male",
                  "20",
                  "Bihar",
                  "Bhagalpur",
                  "Bhagalpur Branch",
                  "Savings",
                  "e41c55f9-c016-4ff3-872b-cae72467c75c",
                  "25-01-2025",
                  "03:09:52",
                  "63062.56",
                  "97977d83-5486-4510-af1c-8dada3e1cfa0",
                  "Bill Payment",
                  "Groceries",
                  "66817.99",
                  "ATM",
                  "Bhagalpur, Bihar",
                  "Desktop",
                  "0",
                  "INR",
                  "+9197745XXXXXX",
                  "Mutual fund investment",
                  "ekaniXXX@XXXXXX.com"
                ],
                [
                  "3",
                  "7902f4ef-9050-4a79-857d-9c2ea3181940",
                  "Yamini Ramachandran",
                  "Female",
                  "57",
                  "Tamil Nadu",
                  "Chennai",
                  "Chennai Branch",
                  "Business",
                  "7f7ee11b-ff2c-45a3-802a-49bc47c02ecb",
                  "19-01-2025",
                  "12:27:02",
                  "14000.72",
                  "f45cd6b3-5092-44d0-8afb-490894605184",
                  "Debit",
                  "Entertainment",
                  "58177.08",
                  "POS Mobile App",
                  "Chennai, Tamil Nadu",
                  "Mobile",
                  "0",
                  "INR",
                  "+9195889XXXXXX",
                  "Food delivery",
                  "yaminiXXXXX@XXXXXXX.com"
                ],
                [
                  "4",
                  "3a4bba70-d9a9-4c5f-8b92-1735fd8c19e9",
                  "Kritika Rege",
                  "Female",
                  "43",
                  "Punjab",
                  "Amritsar",
                  "Amritsar Branch",
                  "Savings",
                  "f8e6ac6f-81a1-4985-bf12-f60967d852ef",
                  "30-01-2025",
                  "18:30:46",
                  "18335.16",
                  "70dd77dd-3b00-4b2c-8ebc-cfb8af5f6741",
                  "Transfer",
                  "Entertainment",
                  "16108.56",
                  "Virtual Card",
                  "Amritsar, Punjab",
                  "Mobile",
                  "0",
                  "INR",
                  "+9195316XXXXXX",
                  "Debt repayment",
                  "kritikaXXXX@XXXXXX.com"
                ]
              ],
              "shape": {
                "columns": 24,
                "rows": 5
              }
            },
            "text/html": [
              "<div>\n",
              "<style scoped>\n",
              "    .dataframe tbody tr th:only-of-type {\n",
              "        vertical-align: middle;\n",
              "    }\n",
              "\n",
              "    .dataframe tbody tr th {\n",
              "        vertical-align: top;\n",
              "    }\n",
              "\n",
              "    .dataframe thead th {\n",
              "        text-align: right;\n",
              "    }\n",
              "</style>\n",
              "<table border=\"1\" class=\"dataframe\">\n",
              "  <thead>\n",
              "    <tr style=\"text-align: right;\">\n",
              "      <th></th>\n",
              "      <th>Customer_ID</th>\n",
              "      <th>Customer_Name</th>\n",
              "      <th>Gender</th>\n",
              "      <th>Age</th>\n",
              "      <th>State</th>\n",
              "      <th>City</th>\n",
              "      <th>Bank_Branch</th>\n",
              "      <th>Account_Type</th>\n",
              "      <th>Transaction_ID</th>\n",
              "      <th>Transaction_Date</th>\n",
              "      <th>...</th>\n",
              "      <th>Merchant_Category</th>\n",
              "      <th>Account_Balance</th>\n",
              "      <th>Transaction_Device</th>\n",
              "      <th>Transaction_Location</th>\n",
              "      <th>Device_Type</th>\n",
              "      <th>Is_Fraud</th>\n",
              "      <th>Transaction_Currency</th>\n",
              "      <th>Customer_Contact</th>\n",
              "      <th>Transaction_Description</th>\n",
              "      <th>Customer_Email</th>\n",
              "    </tr>\n",
              "  </thead>\n",
              "  <tbody>\n",
              "    <tr>\n",
              "      <th>0</th>\n",
              "      <td>d5f6ec07-d69e-4f47-b9b4-7c58ff17c19e</td>\n",
              "      <td>Osha Tella</td>\n",
              "      <td>Male</td>\n",
              "      <td>60</td>\n",
              "      <td>Kerala</td>\n",
              "      <td>Thiruvananthapuram</td>\n",
              "      <td>Thiruvananthapuram Branch</td>\n",
              "      <td>Savings</td>\n",
              "      <td>4fa3208f-9e23-42dc-b330-844829d0c12c</td>\n",
              "      <td>23-01-2025</td>\n",
              "      <td>...</td>\n",
              "      <td>Restaurant</td>\n",
              "      <td>74557.27</td>\n",
              "      <td>Voice Assistant</td>\n",
              "      <td>Thiruvananthapuram, Kerala</td>\n",
              "      <td>POS</td>\n",
              "      <td>0</td>\n",
              "      <td>INR</td>\n",
              "      <td>+9198579XXXXXX</td>\n",
              "      <td>Bitcoin transaction</td>\n",
              "      <td>oshaXXXXX@XXXXX.com</td>\n",
              "    </tr>\n",
              "    <tr>\n",
              "      <th>1</th>\n",
              "      <td>7c14ad51-781a-4db9-b7bd-67439c175262</td>\n",
              "      <td>Hredhaan Khosla</td>\n",
              "      <td>Female</td>\n",
              "      <td>51</td>\n",
              "      <td>Maharashtra</td>\n",
              "      <td>Nashik</td>\n",
              "      <td>Nashik Branch</td>\n",
              "      <td>Business</td>\n",
              "      <td>c9de0c06-2c4c-40a9-97ed-3c7b8f97c79c</td>\n",
              "      <td>11-01-2025</td>\n",
              "      <td>...</td>\n",
              "      <td>Restaurant</td>\n",
              "      <td>74622.66</td>\n",
              "      <td>POS Mobile Device</td>\n",
              "      <td>Nashik, Maharashtra</td>\n",
              "      <td>Desktop</td>\n",
              "      <td>0</td>\n",
              "      <td>INR</td>\n",
              "      <td>+9191074XXXXXX</td>\n",
              "      <td>Grocery delivery</td>\n",
              "      <td>hredhaanXXXX@XXXXXX.com</td>\n",
              "    </tr>\n",
              "    <tr>\n",
              "      <th>2</th>\n",
              "      <td>3a73a0e5-d4da-45aa-85f3-528413900a35</td>\n",
              "      <td>Ekani Nazareth</td>\n",
              "      <td>Male</td>\n",
              "      <td>20</td>\n",
              "      <td>Bihar</td>\n",
              "      <td>Bhagalpur</td>\n",
              "      <td>Bhagalpur Branch</td>\n",
              "      <td>Savings</td>\n",
              "      <td>e41c55f9-c016-4ff3-872b-cae72467c75c</td>\n",
              "      <td>25-01-2025</td>\n",
              "      <td>...</td>\n",
              "      <td>Groceries</td>\n",
              "      <td>66817.99</td>\n",
              "      <td>ATM</td>\n",
              "      <td>Bhagalpur, Bihar</td>\n",
              "      <td>Desktop</td>\n",
              "      <td>0</td>\n",
              "      <td>INR</td>\n",
              "      <td>+9197745XXXXXX</td>\n",
              "      <td>Mutual fund investment</td>\n",
              "      <td>ekaniXXX@XXXXXX.com</td>\n",
              "    </tr>\n",
              "    <tr>\n",
              "      <th>3</th>\n",
              "      <td>7902f4ef-9050-4a79-857d-9c2ea3181940</td>\n",
              "      <td>Yamini Ramachandran</td>\n",
              "      <td>Female</td>\n",
              "      <td>57</td>\n",
              "      <td>Tamil Nadu</td>\n",
              "      <td>Chennai</td>\n",
              "      <td>Chennai Branch</td>\n",
              "      <td>Business</td>\n",
              "      <td>7f7ee11b-ff2c-45a3-802a-49bc47c02ecb</td>\n",
              "      <td>19-01-2025</td>\n",
              "      <td>...</td>\n",
              "      <td>Entertainment</td>\n",
              "      <td>58177.08</td>\n",
              "      <td>POS Mobile App</td>\n",
              "      <td>Chennai, Tamil Nadu</td>\n",
              "      <td>Mobile</td>\n",
              "      <td>0</td>\n",
              "      <td>INR</td>\n",
              "      <td>+9195889XXXXXX</td>\n",
              "      <td>Food delivery</td>\n",
              "      <td>yaminiXXXXX@XXXXXXX.com</td>\n",
              "    </tr>\n",
              "    <tr>\n",
              "      <th>4</th>\n",
              "      <td>3a4bba70-d9a9-4c5f-8b92-1735fd8c19e9</td>\n",
              "      <td>Kritika Rege</td>\n",
              "      <td>Female</td>\n",
              "      <td>43</td>\n",
              "      <td>Punjab</td>\n",
              "      <td>Amritsar</td>\n",
              "      <td>Amritsar Branch</td>\n",
              "      <td>Savings</td>\n",
              "      <td>f8e6ac6f-81a1-4985-bf12-f60967d852ef</td>\n",
              "      <td>30-01-2025</td>\n",
              "      <td>...</td>\n",
              "      <td>Entertainment</td>\n",
              "      <td>16108.56</td>\n",
              "      <td>Virtual Card</td>\n",
              "      <td>Amritsar, Punjab</td>\n",
              "      <td>Mobile</td>\n",
              "      <td>0</td>\n",
              "      <td>INR</td>\n",
              "      <td>+9195316XXXXXX</td>\n",
              "      <td>Debt repayment</td>\n",
              "      <td>kritikaXXXX@XXXXXX.com</td>\n",
              "    </tr>\n",
              "  </tbody>\n",
              "</table>\n",
              "<p>5 rows × 24 columns</p>\n",
              "</div>"
            ],
            "text/plain": [
              "                            Customer_ID        Customer_Name  Gender  Age  \\\n",
              "0  d5f6ec07-d69e-4f47-b9b4-7c58ff17c19e           Osha Tella    Male   60   \n",
              "1  7c14ad51-781a-4db9-b7bd-67439c175262      Hredhaan Khosla  Female   51   \n",
              "2  3a73a0e5-d4da-45aa-85f3-528413900a35       Ekani Nazareth    Male   20   \n",
              "3  7902f4ef-9050-4a79-857d-9c2ea3181940  Yamini Ramachandran  Female   57   \n",
              "4  3a4bba70-d9a9-4c5f-8b92-1735fd8c19e9         Kritika Rege  Female   43   \n",
              "\n",
              "         State                City                Bank_Branch Account_Type  \\\n",
              "0       Kerala  Thiruvananthapuram  Thiruvananthapuram Branch      Savings   \n",
              "1  Maharashtra              Nashik              Nashik Branch     Business   \n",
              "2        Bihar           Bhagalpur           Bhagalpur Branch      Savings   \n",
              "3   Tamil Nadu             Chennai             Chennai Branch     Business   \n",
              "4       Punjab            Amritsar            Amritsar Branch      Savings   \n",
              "\n",
              "                         Transaction_ID Transaction_Date  ...  \\\n",
              "0  4fa3208f-9e23-42dc-b330-844829d0c12c       23-01-2025  ...   \n",
              "1  c9de0c06-2c4c-40a9-97ed-3c7b8f97c79c       11-01-2025  ...   \n",
              "2  e41c55f9-c016-4ff3-872b-cae72467c75c       25-01-2025  ...   \n",
              "3  7f7ee11b-ff2c-45a3-802a-49bc47c02ecb       19-01-2025  ...   \n",
              "4  f8e6ac6f-81a1-4985-bf12-f60967d852ef       30-01-2025  ...   \n",
              "\n",
              "  Merchant_Category  Account_Balance Transaction_Device  \\\n",
              "0        Restaurant         74557.27    Voice Assistant   \n",
              "1        Restaurant         74622.66  POS Mobile Device   \n",
              "2         Groceries         66817.99                ATM   \n",
              "3     Entertainment         58177.08     POS Mobile App   \n",
              "4     Entertainment         16108.56       Virtual Card   \n",
              "\n",
              "         Transaction_Location Device_Type  Is_Fraud Transaction_Currency  \\\n",
              "0  Thiruvananthapuram, Kerala         POS         0                  INR   \n",
              "1         Nashik, Maharashtra     Desktop         0                  INR   \n",
              "2            Bhagalpur, Bihar     Desktop         0                  INR   \n",
              "3         Chennai, Tamil Nadu      Mobile         0                  INR   \n",
              "4            Amritsar, Punjab      Mobile         0                  INR   \n",
              "\n",
              "  Customer_Contact Transaction_Description           Customer_Email  \n",
              "0   +9198579XXXXXX     Bitcoin transaction      oshaXXXXX@XXXXX.com  \n",
              "1   +9191074XXXXXX        Grocery delivery  hredhaanXXXX@XXXXXX.com  \n",
              "2   +9197745XXXXXX  Mutual fund investment      ekaniXXX@XXXXXX.com  \n",
              "3   +9195889XXXXXX           Food delivery  yaminiXXXXX@XXXXXXX.com  \n",
              "4   +9195316XXXXXX          Debt repayment   kritikaXXXX@XXXXXX.com  \n",
              "\n",
              "[5 rows x 24 columns]"
            ]
          },
          "execution_count": 36,
          "metadata": {},
          "output_type": "execute_result"
        }
      ],
      "source": [
        "# Loading dataset to into dataframes\n",
        "df= pd.read_csv('Bank_Transaction_Fraud_Detection.csv')\n",
        "\n",
        "# Display the first five rows of the dataframe\n",
        "df.head()"
      ]
    },
    {
      "cell_type": "markdown",
      "metadata": {
        "id": "TKVhPR6HuwFq"
      },
      "source": [
        "## Data Familiarization"
      ]
    },
    {
      "cell_type": "code",
      "execution_count": 7,
      "metadata": {
        "colab": {
          "base_uri": "https://localhost:8080/"
        },
        "id": "Ol7bCHY_uwFr",
        "outputId": "2245edb4-09fe-479e-f87a-ce8eeb33de3d"
      },
      "outputs": [
        {
          "ename": "NameError",
          "evalue": "name 'df' is not defined",
          "output_type": "error",
          "traceback": [
            "\u001b[1;31m---------------------------------------------------------------------------\u001b[0m",
            "\u001b[1;31mNameError\u001b[0m                                 Traceback (most recent call last)",
            "Cell \u001b[1;32mIn[7], line 2\u001b[0m\n\u001b[0;32m      1\u001b[0m \u001b[38;5;66;03m# Checking the shape of the dataframe\u001b[39;00m\n\u001b[1;32m----> 2\u001b[0m \u001b[38;5;28mprint\u001b[39m(\u001b[38;5;124mf\u001b[39m\u001b[38;5;124m\"\u001b[39m\u001b[38;5;124mThe dataset has \u001b[39m\u001b[38;5;132;01m{\u001b[39;00m\u001b[43mdf\u001b[49m\u001b[38;5;241m.\u001b[39mshape[\u001b[38;5;241m0\u001b[39m]\u001b[38;5;132;01m}\u001b[39;00m\u001b[38;5;124m rows and \u001b[39m\u001b[38;5;132;01m{\u001b[39;00mdf\u001b[38;5;241m.\u001b[39mshape[\u001b[38;5;241m1\u001b[39m]\u001b[38;5;132;01m}\u001b[39;00m\u001b[38;5;124m columns\u001b[39m\u001b[38;5;124m\"\u001b[39m)\n",
            "\u001b[1;31mNameError\u001b[0m: name 'df' is not defined"
          ]
        }
      ],
      "source": [
        "# Checking the shape of the dataframe\n",
        "print(f\"The dataset has {df.shape[0]} rows and {df.shape[1]} columns\")"
      ]
    },
    {
      "cell_type": "code",
      "execution_count": null,
      "metadata": {
        "colab": {
          "base_uri": "https://localhost:8080/"
        },
        "id": "GxdhFYV1uwFt",
        "outputId": "8fe4cc69-0e33-47f7-e193-2710d69d865e"
      },
      "outputs": [
        {
          "data": {
            "text/plain": [
              "Index(['Customer_ID', 'Customer_Name', 'Gender', 'Age', 'State', 'City',\n",
              "       'Bank_Branch', 'Account_Type', 'Transaction_ID', 'Transaction_Date',\n",
              "       'Transaction_Time', 'Transaction_Amount', 'Merchant_ID',\n",
              "       'Transaction_Type', 'Merchant_Category', 'Account_Balance',\n",
              "       'Transaction_Device', 'Transaction_Location', 'Device_Type', 'Is_Fraud',\n",
              "       'Transaction_Currency', 'Customer_Contact', 'Transaction_Description',\n",
              "       'Customer_Email'],\n",
              "      dtype='object')"
            ]
          },
          "execution_count": 37,
          "metadata": {},
          "output_type": "execute_result"
        }
      ],
      "source": [
        "# Checking for the column names\n",
        "df.columns"
      ]
    },
    {
      "cell_type": "code",
      "execution_count": null,
      "metadata": {
        "colab": {
          "base_uri": "https://localhost:8080/"
        },
        "id": "AB8LYKy4uwFu",
        "outputId": "fac33287-9934-4067-d85e-aa541fc9b2fe"
      },
      "outputs": [
        {
          "name": "stdout",
          "output_type": "stream",
          "text": [
            "<class 'pandas.core.frame.DataFrame'>\n",
            "RangeIndex: 138160 entries, 0 to 138159\n",
            "Data columns (total 24 columns):\n",
            " #   Column                   Non-Null Count   Dtype  \n",
            "---  ------                   --------------   -----  \n",
            " 0   Customer_ID              138160 non-null  object \n",
            " 1   Customer_Name            138160 non-null  object \n",
            " 2   Gender                   138160 non-null  object \n",
            " 3   Age                      138160 non-null  int64  \n",
            " 4   State                    138160 non-null  object \n",
            " 5   City                     138160 non-null  object \n",
            " 6   Bank_Branch              138160 non-null  object \n",
            " 7   Account_Type             138160 non-null  object \n",
            " 8   Transaction_ID           138160 non-null  object \n",
            " 9   Transaction_Date         138159 non-null  object \n",
            " 10  Transaction_Time         138159 non-null  object \n",
            " 11  Transaction_Amount       138159 non-null  float64\n",
            " 12  Merchant_ID              138159 non-null  object \n",
            " 13  Transaction_Type         138159 non-null  object \n",
            " 14  Merchant_Category        138159 non-null  object \n",
            " 15  Account_Balance          138159 non-null  float64\n",
            " 16  Transaction_Device       138159 non-null  object \n",
            " 17  Transaction_Location     138159 non-null  object \n",
            " 18  Device_Type              138159 non-null  object \n",
            " 19  Is_Fraud                 138159 non-null  float64\n",
            " 20  Transaction_Currency     138159 non-null  object \n",
            " 21  Customer_Contact         138159 non-null  object \n",
            " 22  Transaction_Description  138159 non-null  object \n",
            " 23  Customer_Email           138159 non-null  object \n",
            "dtypes: float64(3), int64(1), object(20)\n",
            "memory usage: 25.3+ MB\n"
          ]
        }
      ],
      "source": [
        "# Extracting information about the dataset\n",
        "df.info()"
      ]
    },
    {
      "cell_type": "code",
      "execution_count": null,
      "metadata": {
        "colab": {
          "base_uri": "https://localhost:8080/",
          "height": 836
        },
        "id": "3sD03V84uwFv",
        "outputId": "7ee8a1bb-231a-4c3b-e70b-e9e7e5c31554"
      },
      "outputs": [
        {
          "data": {
            "text/html": [
              "<div>\n",
              "<style scoped>\n",
              "    .dataframe tbody tr th:only-of-type {\n",
              "        vertical-align: middle;\n",
              "    }\n",
              "\n",
              "    .dataframe tbody tr th {\n",
              "        vertical-align: top;\n",
              "    }\n",
              "\n",
              "    .dataframe thead th {\n",
              "        text-align: right;\n",
              "    }\n",
              "</style>\n",
              "<table border=\"1\" class=\"dataframe\">\n",
              "  <thead>\n",
              "    <tr style=\"text-align: right;\">\n",
              "      <th></th>\n",
              "      <th>0</th>\n",
              "    </tr>\n",
              "  </thead>\n",
              "  <tbody>\n",
              "    <tr>\n",
              "      <th>Customer_ID</th>\n",
              "      <td>138160</td>\n",
              "    </tr>\n",
              "    <tr>\n",
              "      <th>Customer_Name</th>\n",
              "      <td>108930</td>\n",
              "    </tr>\n",
              "    <tr>\n",
              "      <th>Gender</th>\n",
              "      <td>2</td>\n",
              "    </tr>\n",
              "    <tr>\n",
              "      <th>Age</th>\n",
              "      <td>53</td>\n",
              "    </tr>\n",
              "    <tr>\n",
              "      <th>State</th>\n",
              "      <td>34</td>\n",
              "    </tr>\n",
              "    <tr>\n",
              "      <th>City</th>\n",
              "      <td>145</td>\n",
              "    </tr>\n",
              "    <tr>\n",
              "      <th>Bank_Branch</th>\n",
              "      <td>145</td>\n",
              "    </tr>\n",
              "    <tr>\n",
              "      <th>Account_Type</th>\n",
              "      <td>3</td>\n",
              "    </tr>\n",
              "    <tr>\n",
              "      <th>Transaction_ID</th>\n",
              "      <td>138160</td>\n",
              "    </tr>\n",
              "    <tr>\n",
              "      <th>Transaction_Date</th>\n",
              "      <td>30</td>\n",
              "    </tr>\n",
              "    <tr>\n",
              "      <th>Transaction_Time</th>\n",
              "      <td>68964</td>\n",
              "    </tr>\n",
              "    <tr>\n",
              "      <th>Transaction_Amount</th>\n",
              "      <td>137182</td>\n",
              "    </tr>\n",
              "    <tr>\n",
              "      <th>Merchant_ID</th>\n",
              "      <td>138159</td>\n",
              "    </tr>\n",
              "    <tr>\n",
              "      <th>Transaction_Type</th>\n",
              "      <td>5</td>\n",
              "    </tr>\n",
              "    <tr>\n",
              "      <th>Merchant_Category</th>\n",
              "      <td>6</td>\n",
              "    </tr>\n",
              "    <tr>\n",
              "      <th>Account_Balance</th>\n",
              "      <td>137197</td>\n",
              "    </tr>\n",
              "    <tr>\n",
              "      <th>Transaction_Device</th>\n",
              "      <td>20</td>\n",
              "    </tr>\n",
              "    <tr>\n",
              "      <th>Transaction_Location</th>\n",
              "      <td>148</td>\n",
              "    </tr>\n",
              "    <tr>\n",
              "      <th>Device_Type</th>\n",
              "      <td>4</td>\n",
              "    </tr>\n",
              "    <tr>\n",
              "      <th>Is_Fraud</th>\n",
              "      <td>2</td>\n",
              "    </tr>\n",
              "    <tr>\n",
              "      <th>Transaction_Currency</th>\n",
              "      <td>1</td>\n",
              "    </tr>\n",
              "    <tr>\n",
              "      <th>Customer_Contact</th>\n",
              "      <td>9000</td>\n",
              "    </tr>\n",
              "    <tr>\n",
              "      <th>Transaction_Description</th>\n",
              "      <td>172</td>\n",
              "    </tr>\n",
              "    <tr>\n",
              "      <th>Customer_Email</th>\n",
              "      <td>4779</td>\n",
              "    </tr>\n",
              "  </tbody>\n",
              "</table>\n",
              "</div><br><label><b>dtype:</b> int64</label>"
            ],
            "text/plain": [
              "Customer_ID                138160\n",
              "Customer_Name              108930\n",
              "Gender                          2\n",
              "Age                            53\n",
              "State                          34\n",
              "City                          145\n",
              "Bank_Branch                   145\n",
              "Account_Type                    3\n",
              "Transaction_ID             138160\n",
              "Transaction_Date               30\n",
              "Transaction_Time            68964\n",
              "Transaction_Amount         137182\n",
              "Merchant_ID                138159\n",
              "Transaction_Type                5\n",
              "Merchant_Category               6\n",
              "Account_Balance            137197\n",
              "Transaction_Device             20\n",
              "Transaction_Location          148\n",
              "Device_Type                     4\n",
              "Is_Fraud                        2\n",
              "Transaction_Currency            1\n",
              "Customer_Contact             9000\n",
              "Transaction_Description       172\n",
              "Customer_Email               4779\n",
              "dtype: int64"
            ]
          },
          "execution_count": 39,
          "metadata": {},
          "output_type": "execute_result"
        }
      ],
      "source": [
        "# Checking for unique values per column\n",
        "df.nunique()"
      ]
    },
    {
      "cell_type": "markdown",
      "metadata": {
        "id": "i4aGwIlSuwFw"
      },
      "source": [
        "## Data Cleaning"
      ]
    },
    {
      "cell_type": "code",
      "execution_count": null,
      "metadata": {
        "id": "3QO0_svCuwFw"
      },
      "outputs": [],
      "source": [
        "# df= df.drop([\"Customer_ID\", \"Customer_Name\", \"City\", \"Bank_Branch\", \"Transaction_ID\", \"Merchant_ID\", \"Transaction_Location\", \"Transaction_Currency\", \"Customer_Contact\"], axis =1)\n",
        "# df.head()"
      ]
    },
    {
      "cell_type": "code",
      "execution_count": null,
      "metadata": {
        "colab": {
          "base_uri": "https://localhost:8080/"
        },
        "id": "o12eP1QmuwFx",
        "outputId": "8977e68c-803d-4ae7-c80e-fda7ab46e8e8"
      },
      "outputs": [
        {
          "name": "stdout",
          "output_type": "stream",
          "text": [
            "Duplicate Rows:\n",
            "<class 'pandas.core.frame.DataFrame'>\n",
            "Index: 0 entries\n",
            "Data columns (total 24 columns):\n",
            " #   Column                   Non-Null Count  Dtype  \n",
            "---  ------                   --------------  -----  \n",
            " 0   Customer_ID              0 non-null      object \n",
            " 1   Customer_Name            0 non-null      object \n",
            " 2   Gender                   0 non-null      object \n",
            " 3   Age                      0 non-null      int64  \n",
            " 4   State                    0 non-null      object \n",
            " 5   City                     0 non-null      object \n",
            " 6   Bank_Branch              0 non-null      object \n",
            " 7   Account_Type             0 non-null      object \n",
            " 8   Transaction_ID           0 non-null      object \n",
            " 9   Transaction_Date         0 non-null      object \n",
            " 10  Transaction_Time         0 non-null      object \n",
            " 11  Transaction_Amount       0 non-null      float64\n",
            " 12  Merchant_ID              0 non-null      object \n",
            " 13  Transaction_Type         0 non-null      object \n",
            " 14  Merchant_Category        0 non-null      object \n",
            " 15  Account_Balance          0 non-null      float64\n",
            " 16  Transaction_Device       0 non-null      object \n",
            " 17  Transaction_Location     0 non-null      object \n",
            " 18  Device_Type              0 non-null      object \n",
            " 19  Is_Fraud                 0 non-null      float64\n",
            " 20  Transaction_Currency     0 non-null      object \n",
            " 21  Customer_Contact         0 non-null      object \n",
            " 22  Transaction_Description  0 non-null      object \n",
            " 23  Customer_Email           0 non-null      object \n",
            "dtypes: float64(3), int64(1), object(20)\n",
            "memory usage: 0.0+ bytes\n"
          ]
        }
      ],
      "source": [
        "# Check for duplicate rows\n",
        "duplicates = df[df.duplicated()]\n",
        "print(\"Duplicate Rows:\")\n",
        "duplicates.info()"
      ]
    },
    {
      "cell_type": "code",
      "execution_count": null,
      "metadata": {
        "colab": {
          "base_uri": "https://localhost:8080/"
        },
        "id": "QTdP_1mJuwFy",
        "outputId": "a1d29a35-ce3a-4272-89ab-c0342b8f3bd7"
      },
      "outputs": [
        {
          "name": "stdout",
          "output_type": "stream",
          "text": [
            "Outliers in Age: 0\n",
            "Outliers in Transaction_Amount: 0\n",
            "Outliers in Account_Balance: 0\n",
            "Outliers in Is_Fraud: 6994\n"
          ]
        }
      ],
      "source": [
        "# Select numerical columns\n",
        "numerical_cols = ['Age', 'Transaction_Amount', 'Account_Balance', 'Is_Fraud']\n",
        "\n",
        "# Detect outliers using IQR\n",
        "for col in numerical_cols:\n",
        "    Q1 = df[col].quantile(0.25)\n",
        "    Q3 = df[col].quantile(0.75)\n",
        "    IQR = Q3 - Q1\n",
        "    lower_bound = Q1 - 1.5 * IQR\n",
        "    upper_bound = Q3 + 1.5 * IQR\n",
        "    outliers = df[(df[col] < lower_bound) | (df[col] > upper_bound)]\n",
        "    print(f\"Outliers in {col}: {outliers.shape[0]}\")"
      ]
    },
    {
      "cell_type": "code",
      "execution_count": null,
      "metadata": {
        "colab": {
          "base_uri": "https://localhost:8080/"
        },
        "id": "i9Cw_xYuuwFz",
        "outputId": "a8ed0f9f-78ed-49cb-c165-eb534b533094"
      },
      "outputs": [
        {
          "name": "stdout",
          "output_type": "stream",
          "text": [
            "Original dataset shape: (138160, 24)\n",
            "Cleaned dataset shape: (138159, 24)\n"
          ]
        }
      ],
      "source": [
        "# Select numerical columns\n",
        "numerical_cols = ['Age', 'Transaction_Amount', 'Account_Balance']\n",
        "\n",
        "# Function to remove outliers using IQR\n",
        "def remove_outliers_iqr(df, columns):\n",
        "    for col in columns:\n",
        "        Q1 = df[col].quantile(0.25)\n",
        "        Q3 = df[col].quantile(0.75)\n",
        "        IQR = Q3 - Q1\n",
        "        lower_bound = Q1 - 1.5 * IQR\n",
        "        upper_bound = Q3 + 1.5 * IQR\n",
        "        df = df[(df[col] >= lower_bound) & (df[col] <= upper_bound)]\n",
        "    return df\n",
        "\n",
        "# Remove outliers\n",
        "df_cleaned = remove_outliers_iqr(df, numerical_cols)\n",
        "\n",
        "# Save the cleaned dataset (optional)\n",
        "df_cleaned.to_csv(\"cleaned_dataset.csv\", index=False)\n",
        "\n",
        "# Print before and after removing outliers\n",
        "print(f\"Original dataset shape: {df.shape}\")\n",
        "print(f\"Cleaned dataset shape: {df_cleaned.shape}\")\n"
      ]
    },
    {
      "cell_type": "markdown",
      "metadata": {
        "id": "NXVoEnq0uwF0"
      },
      "source": [
        "## EDA ANalysis"
      ]
    },
    {
      "cell_type": "code",
      "execution_count": null,
      "metadata": {
        "colab": {
          "base_uri": "https://localhost:8080/",
          "height": 300
        },
        "id": "fIvtuFTCuwF0",
        "outputId": "0b377cae-7287-4ce8-de5c-1fbb83e2d264"
      },
      "outputs": [
        {
          "data": {
            "application/vnd.google.colaboratory.intrinsic+json": {
              "summary": "{\n  \"name\": \"df\",\n  \"rows\": 8,\n  \"fields\": [\n    {\n      \"column\": \"Age\",\n      \"properties\": {\n        \"dtype\": \"number\",\n        \"std\": 48832.83532808058,\n        \"min\": 15.279333615021384,\n        \"max\": 138160.0,\n        \"num_unique_values\": 8,\n        \"samples\": [\n          43.97793862188767,\n          44.0,\n          138160.0\n        ],\n        \"semantic_type\": \"\",\n        \"description\": \"\"\n      }\n    },\n    {\n      \"column\": \"Transaction_Amount\",\n      \"properties\": {\n        \"dtype\": \"number\",\n        \"std\": 44459.78563654594,\n        \"min\": 10.29,\n        \"max\": 138159.0,\n        \"num_unique_values\": 8,\n        \"samples\": [\n          49589.73973588402,\n          49502.0,\n          138159.0\n        ],\n        \"semantic_type\": \"\",\n        \"description\": \"\"\n      }\n    },\n    {\n      \"column\": \"Account_Balance\",\n      \"properties\": {\n        \"dtype\": \"number\",\n        \"std\": 43342.15262969717,\n        \"min\": 5000.82,\n        \"max\": 138159.0,\n        \"num_unique_values\": 8,\n        \"samples\": [\n          52450.06496978119,\n          52395.73,\n          138159.0\n        ],\n        \"semantic_type\": \"\",\n        \"description\": \"\"\n      }\n    },\n    {\n      \"column\": \"Is_Fraud\",\n      \"properties\": {\n        \"dtype\": \"number\",\n        \"std\": 48846.518755069876,\n        \"min\": 0.0,\n        \"max\": 138159.0,\n        \"num_unique_values\": 5,\n        \"samples\": [\n          0.05062283311257319,\n          1.0,\n          0.21922707347391737\n        ],\n        \"semantic_type\": \"\",\n        \"description\": \"\"\n      }\n    }\n  ]\n}",
              "type": "dataframe"
            },
            "text/html": [
              "\n",
              "  <div id=\"df-a83c2752-d623-4ad8-85db-19ab1b570d37\" class=\"colab-df-container\">\n",
              "    <div>\n",
              "<style scoped>\n",
              "    .dataframe tbody tr th:only-of-type {\n",
              "        vertical-align: middle;\n",
              "    }\n",
              "\n",
              "    .dataframe tbody tr th {\n",
              "        vertical-align: top;\n",
              "    }\n",
              "\n",
              "    .dataframe thead th {\n",
              "        text-align: right;\n",
              "    }\n",
              "</style>\n",
              "<table border=\"1\" class=\"dataframe\">\n",
              "  <thead>\n",
              "    <tr style=\"text-align: right;\">\n",
              "      <th></th>\n",
              "      <th>Age</th>\n",
              "      <th>Transaction_Amount</th>\n",
              "      <th>Account_Balance</th>\n",
              "      <th>Is_Fraud</th>\n",
              "    </tr>\n",
              "  </thead>\n",
              "  <tbody>\n",
              "    <tr>\n",
              "      <th>count</th>\n",
              "      <td>138160.000000</td>\n",
              "      <td>138159.000000</td>\n",
              "      <td>138159.000000</td>\n",
              "      <td>138159.000000</td>\n",
              "    </tr>\n",
              "    <tr>\n",
              "      <th>mean</th>\n",
              "      <td>43.977939</td>\n",
              "      <td>49589.739736</td>\n",
              "      <td>52450.064970</td>\n",
              "      <td>0.050623</td>\n",
              "    </tr>\n",
              "    <tr>\n",
              "      <th>std</th>\n",
              "      <td>15.279334</td>\n",
              "      <td>28529.351961</td>\n",
              "      <td>27388.559076</td>\n",
              "      <td>0.219227</td>\n",
              "    </tr>\n",
              "    <tr>\n",
              "      <th>min</th>\n",
              "      <td>18.000000</td>\n",
              "      <td>10.290000</td>\n",
              "      <td>5000.820000</td>\n",
              "      <td>0.000000</td>\n",
              "    </tr>\n",
              "    <tr>\n",
              "      <th>25%</th>\n",
              "      <td>31.000000</td>\n",
              "      <td>25005.050000</td>\n",
              "      <td>28757.605000</td>\n",
              "      <td>0.000000</td>\n",
              "    </tr>\n",
              "    <tr>\n",
              "      <th>50%</th>\n",
              "      <td>44.000000</td>\n",
              "      <td>49502.000000</td>\n",
              "      <td>52395.730000</td>\n",
              "      <td>0.000000</td>\n",
              "    </tr>\n",
              "    <tr>\n",
              "      <th>75%</th>\n",
              "      <td>57.000000</td>\n",
              "      <td>74349.495000</td>\n",
              "      <td>76175.720000</td>\n",
              "      <td>0.000000</td>\n",
              "    </tr>\n",
              "    <tr>\n",
              "      <th>max</th>\n",
              "      <td>70.000000</td>\n",
              "      <td>98999.980000</td>\n",
              "      <td>99999.950000</td>\n",
              "      <td>1.000000</td>\n",
              "    </tr>\n",
              "  </tbody>\n",
              "</table>\n",
              "</div>\n",
              "    <div class=\"colab-df-buttons\">\n",
              "\n",
              "  <div class=\"colab-df-container\">\n",
              "    <button class=\"colab-df-convert\" onclick=\"convertToInteractive('df-a83c2752-d623-4ad8-85db-19ab1b570d37')\"\n",
              "            title=\"Convert this dataframe to an interactive table.\"\n",
              "            style=\"display:none;\">\n",
              "\n",
              "  <svg xmlns=\"http://www.w3.org/2000/svg\" height=\"24px\" viewBox=\"0 -960 960 960\">\n",
              "    <path d=\"M120-120v-720h720v720H120Zm60-500h600v-160H180v160Zm220 220h160v-160H400v160Zm0 220h160v-160H400v160ZM180-400h160v-160H180v160Zm440 0h160v-160H620v160ZM180-180h160v-160H180v160Zm440 0h160v-160H620v160Z\"/>\n",
              "  </svg>\n",
              "    </button>\n",
              "\n",
              "  <style>\n",
              "    .colab-df-container {\n",
              "      display:flex;\n",
              "      gap: 12px;\n",
              "    }\n",
              "\n",
              "    .colab-df-convert {\n",
              "      background-color: #E8F0FE;\n",
              "      border: none;\n",
              "      border-radius: 50%;\n",
              "      cursor: pointer;\n",
              "      display: none;\n",
              "      fill: #1967D2;\n",
              "      height: 32px;\n",
              "      padding: 0 0 0 0;\n",
              "      width: 32px;\n",
              "    }\n",
              "\n",
              "    .colab-df-convert:hover {\n",
              "      background-color: #E2EBFA;\n",
              "      box-shadow: 0px 1px 2px rgba(60, 64, 67, 0.3), 0px 1px 3px 1px rgba(60, 64, 67, 0.15);\n",
              "      fill: #174EA6;\n",
              "    }\n",
              "\n",
              "    .colab-df-buttons div {\n",
              "      margin-bottom: 4px;\n",
              "    }\n",
              "\n",
              "    [theme=dark] .colab-df-convert {\n",
              "      background-color: #3B4455;\n",
              "      fill: #D2E3FC;\n",
              "    }\n",
              "\n",
              "    [theme=dark] .colab-df-convert:hover {\n",
              "      background-color: #434B5C;\n",
              "      box-shadow: 0px 1px 3px 1px rgba(0, 0, 0, 0.15);\n",
              "      filter: drop-shadow(0px 1px 2px rgba(0, 0, 0, 0.3));\n",
              "      fill: #FFFFFF;\n",
              "    }\n",
              "  </style>\n",
              "\n",
              "    <script>\n",
              "      const buttonEl =\n",
              "        document.querySelector('#df-a83c2752-d623-4ad8-85db-19ab1b570d37 button.colab-df-convert');\n",
              "      buttonEl.style.display =\n",
              "        google.colab.kernel.accessAllowed ? 'block' : 'none';\n",
              "\n",
              "      async function convertToInteractive(key) {\n",
              "        const element = document.querySelector('#df-a83c2752-d623-4ad8-85db-19ab1b570d37');\n",
              "        const dataTable =\n",
              "          await google.colab.kernel.invokeFunction('convertToInteractive',\n",
              "                                                    [key], {});\n",
              "        if (!dataTable) return;\n",
              "\n",
              "        const docLinkHtml = 'Like what you see? Visit the ' +\n",
              "          '<a target=\"_blank\" href=https://colab.research.google.com/notebooks/data_table.ipynb>data table notebook</a>'\n",
              "          + ' to learn more about interactive tables.';\n",
              "        element.innerHTML = '';\n",
              "        dataTable['output_type'] = 'display_data';\n",
              "        await google.colab.output.renderOutput(dataTable, element);\n",
              "        const docLink = document.createElement('div');\n",
              "        docLink.innerHTML = docLinkHtml;\n",
              "        element.appendChild(docLink);\n",
              "      }\n",
              "    </script>\n",
              "  </div>\n",
              "\n",
              "\n",
              "<div id=\"df-30186484-e48d-4b9f-9604-985967a4821f\">\n",
              "  <button class=\"colab-df-quickchart\" onclick=\"quickchart('df-30186484-e48d-4b9f-9604-985967a4821f')\"\n",
              "            title=\"Suggest charts\"\n",
              "            style=\"display:none;\">\n",
              "\n",
              "<svg xmlns=\"http://www.w3.org/2000/svg\" height=\"24px\"viewBox=\"0 0 24 24\"\n",
              "     width=\"24px\">\n",
              "    <g>\n",
              "        <path d=\"M19 3H5c-1.1 0-2 .9-2 2v14c0 1.1.9 2 2 2h14c1.1 0 2-.9 2-2V5c0-1.1-.9-2-2-2zM9 17H7v-7h2v7zm4 0h-2V7h2v10zm4 0h-2v-4h2v4z\"/>\n",
              "    </g>\n",
              "</svg>\n",
              "  </button>\n",
              "\n",
              "<style>\n",
              "  .colab-df-quickchart {\n",
              "      --bg-color: #E8F0FE;\n",
              "      --fill-color: #1967D2;\n",
              "      --hover-bg-color: #E2EBFA;\n",
              "      --hover-fill-color: #174EA6;\n",
              "      --disabled-fill-color: #AAA;\n",
              "      --disabled-bg-color: #DDD;\n",
              "  }\n",
              "\n",
              "  [theme=dark] .colab-df-quickchart {\n",
              "      --bg-color: #3B4455;\n",
              "      --fill-color: #D2E3FC;\n",
              "      --hover-bg-color: #434B5C;\n",
              "      --hover-fill-color: #FFFFFF;\n",
              "      --disabled-bg-color: #3B4455;\n",
              "      --disabled-fill-color: #666;\n",
              "  }\n",
              "\n",
              "  .colab-df-quickchart {\n",
              "    background-color: var(--bg-color);\n",
              "    border: none;\n",
              "    border-radius: 50%;\n",
              "    cursor: pointer;\n",
              "    display: none;\n",
              "    fill: var(--fill-color);\n",
              "    height: 32px;\n",
              "    padding: 0;\n",
              "    width: 32px;\n",
              "  }\n",
              "\n",
              "  .colab-df-quickchart:hover {\n",
              "    background-color: var(--hover-bg-color);\n",
              "    box-shadow: 0 1px 2px rgba(60, 64, 67, 0.3), 0 1px 3px 1px rgba(60, 64, 67, 0.15);\n",
              "    fill: var(--button-hover-fill-color);\n",
              "  }\n",
              "\n",
              "  .colab-df-quickchart-complete:disabled,\n",
              "  .colab-df-quickchart-complete:disabled:hover {\n",
              "    background-color: var(--disabled-bg-color);\n",
              "    fill: var(--disabled-fill-color);\n",
              "    box-shadow: none;\n",
              "  }\n",
              "\n",
              "  .colab-df-spinner {\n",
              "    border: 2px solid var(--fill-color);\n",
              "    border-color: transparent;\n",
              "    border-bottom-color: var(--fill-color);\n",
              "    animation:\n",
              "      spin 1s steps(1) infinite;\n",
              "  }\n",
              "\n",
              "  @keyframes spin {\n",
              "    0% {\n",
              "      border-color: transparent;\n",
              "      border-bottom-color: var(--fill-color);\n",
              "      border-left-color: var(--fill-color);\n",
              "    }\n",
              "    20% {\n",
              "      border-color: transparent;\n",
              "      border-left-color: var(--fill-color);\n",
              "      border-top-color: var(--fill-color);\n",
              "    }\n",
              "    30% {\n",
              "      border-color: transparent;\n",
              "      border-left-color: var(--fill-color);\n",
              "      border-top-color: var(--fill-color);\n",
              "      border-right-color: var(--fill-color);\n",
              "    }\n",
              "    40% {\n",
              "      border-color: transparent;\n",
              "      border-right-color: var(--fill-color);\n",
              "      border-top-color: var(--fill-color);\n",
              "    }\n",
              "    60% {\n",
              "      border-color: transparent;\n",
              "      border-right-color: var(--fill-color);\n",
              "    }\n",
              "    80% {\n",
              "      border-color: transparent;\n",
              "      border-right-color: var(--fill-color);\n",
              "      border-bottom-color: var(--fill-color);\n",
              "    }\n",
              "    90% {\n",
              "      border-color: transparent;\n",
              "      border-bottom-color: var(--fill-color);\n",
              "    }\n",
              "  }\n",
              "</style>\n",
              "\n",
              "  <script>\n",
              "    async function quickchart(key) {\n",
              "      const quickchartButtonEl =\n",
              "        document.querySelector('#' + key + ' button');\n",
              "      quickchartButtonEl.disabled = true;  // To prevent multiple clicks.\n",
              "      quickchartButtonEl.classList.add('colab-df-spinner');\n",
              "      try {\n",
              "        const charts = await google.colab.kernel.invokeFunction(\n",
              "            'suggestCharts', [key], {});\n",
              "      } catch (error) {\n",
              "        console.error('Error during call to suggestCharts:', error);\n",
              "      }\n",
              "      quickchartButtonEl.classList.remove('colab-df-spinner');\n",
              "      quickchartButtonEl.classList.add('colab-df-quickchart-complete');\n",
              "    }\n",
              "    (() => {\n",
              "      let quickchartButtonEl =\n",
              "        document.querySelector('#df-30186484-e48d-4b9f-9604-985967a4821f button');\n",
              "      quickchartButtonEl.style.display =\n",
              "        google.colab.kernel.accessAllowed ? 'block' : 'none';\n",
              "    })();\n",
              "  </script>\n",
              "</div>\n",
              "\n",
              "    </div>\n",
              "  </div>\n"
            ],
            "text/plain": [
              "                 Age  Transaction_Amount  Account_Balance       Is_Fraud\n",
              "count  138160.000000       138159.000000    138159.000000  138159.000000\n",
              "mean       43.977939        49589.739736     52450.064970       0.050623\n",
              "std        15.279334        28529.351961     27388.559076       0.219227\n",
              "min        18.000000           10.290000      5000.820000       0.000000\n",
              "25%        31.000000        25005.050000     28757.605000       0.000000\n",
              "50%        44.000000        49502.000000     52395.730000       0.000000\n",
              "75%        57.000000        74349.495000     76175.720000       0.000000\n",
              "max        70.000000        98999.980000     99999.950000       1.000000"
            ]
          },
          "execution_count": 43,
          "metadata": {},
          "output_type": "execute_result"
        }
      ],
      "source": [
        "# Get summary statistics\n",
        "df.describe()"
      ]
    },
    {
      "cell_type": "code",
      "execution_count": null,
      "metadata": {
        "colab": {
          "base_uri": "https://localhost:8080/",
          "height": 1000
        },
        "id": "gbLMKAcauwF1",
        "outputId": "ac097837-0f34-4c34-f9df-aa94a9f7dbce"
      },
      "outputs": [
        {
          "data": {
            "image/png": "[encoded data removed]",
            "text/plain": [
              "<Figure size 1400x1000 with 4 Axes>"
            ]
          },
          "metadata": {},
          "output_type": "display_data"
        }
      ],
      "source": [
        "# Create subplots (2 rows, 2 columns)\n",
        "fig, axes = plt.subplots(2, 2, figsize=(14, 10))\n",
        "axes = axes.flatten()\n",
        "\n",
        "# 1. Gender vs. Is_Fraud (Countplot)\n",
        "sns.countplot(ax=axes[0], x='Gender', hue='Is_Fraud', data=df, palette=['#FF0000', '#0000FF'])\n",
        "axes[0].set_title('Fraud Distribution Based on Gender')\n",
        "\n",
        "# 2. Age vs. Is_Fraud (Line Graph)\n",
        "age_fraud_counts = df.groupby('Age')['Is_Fraud'].sum()  # Sum of fraud cases per age\n",
        "age_total_counts = df['Age'].value_counts().sort_index()  # Total transactions per age\n",
        "fraud_rate = age_fraud_counts / age_total_counts  # Fraud rate per age\n",
        "\n",
        "axes[1].plot(fraud_rate.index, fraud_rate.values, marker='o', linestyle='-', color='red', label='Fraud Rate')\n",
        "axes[1].set_title('Fraud Rate by Age')\n",
        "axes[1].set_xlabel('Age')\n",
        "axes[1].set_ylabel('Fraud Rate')\n",
        "axes[1].legend()\n",
        "\n",
        "# 3. Account Type vs. Is_Fraud (Countplot)\n",
        "sns.countplot(ax=axes[2], x='Account_Type', hue='Is_Fraud', data=df, palette=['#FF0000', '#0000FF'])\n",
        "axes[2].set_title('Fraud Trends Based on Account Type')\n",
        "\n",
        "# 4. Device Type vs. Is_Fraud (Countplot)\n",
        "sns.countplot(ax=axes[3], x='Device_Type', hue='Is_Fraud', data=df, palette=['#FF0000', '#0000FF'])\n",
        "axes[3].set_title('Fraud Occurrence Based on Device Type')\n",
        "\n",
        "# Adjust layout\n",
        "plt.tight_layout()\n",
        "plt.show()\n"
      ]
    },
    {
      "cell_type": "code",
      "execution_count": null,
      "metadata": {
        "colab": {
          "base_uri": "https://localhost:8080/"
        },
        "id": "SSTIK1OouwF2",
        "outputId": "f601db2c-2acb-4b98-ec4e-2563dc27f447"
      },
      "outputs": [
        {
          "name": "stdout",
          "output_type": "stream",
          "text": [
            "\n",
            "### Fraud Distribution by Gender ###\n",
            " Is_Fraud    0.0  1.0\n",
            "Gender              \n",
            "Female    14625  789\n",
            "Male      14528  761\n"
          ]
        }
      ],
      "source": [
        "\n",
        "# 1. Gender vs. Is_Fraud Summary Table\n",
        "gender_summary = df.groupby('Gender')['Is_Fraud'].value_counts().unstack().fillna(0)\n",
        "print(\"\\n### Fraud Distribution by Gender ###\\n\", gender_summary)\n",
        "\n",
        "# # 2. Age vs. Is_Fraud Summary Table\n",
        "# age_fraud_counts = df.groupby('Age')['Is_Fraud'].sum()  # Total fraud cases per age\n",
        "# age_total_counts = df['Age'].value_counts().sort_index()  # Total transactions per age\n",
        "# fraud_rate = age_fraud_counts / age_total_counts  # Fraud rate per age\n",
        "\n",
        "# age_summary = pd.DataFrame({\n",
        "#     'Total_Transactions': age_total_counts,\n",
        "#     'Fraud_Cases': age_fraud_counts,\n",
        "#     'Fraud_Rate': fraud_rate\n",
        "# }).fillna(0).reset_index().rename(columns={'index': 'Age'})\n",
        "\n",
        "# print(\"\\n### Fraud Rate by Age ###\\n\", age_summary.head(10))  # Print first 10 rows\n",
        "\n",
        "# # 3. Account Type vs. Is_Fraud Summary Table\n",
        "# account_summary = df.groupby('Account_Type')['Is_Fraud'].value_counts().unstack().fillna(0)\n",
        "# print(\"\\n### Fraud Trends by Account Type ###\\n\", account_summary)\n",
        "\n",
        "# # 4. Device Type vs. Is_Fraud Summary Table\n",
        "# device_summary = df.groupby('Device_Type')['Is_Fraud'].value_counts().unstack().fillna(0)\n",
        "# print(\"\\n### Fraud Occurrence by Device Type ###\\n\", device_summary)\n"
      ]
    },
    {
      "cell_type": "code",
      "execution_count": 14,
      "metadata": {},
      "outputs": [
        {
          "data": {
            "text/plain": [
              "Text(0.5, 1.0, 'Fraud Distribution Based on Transaction Location')"
            ]
          },
          "execution_count": 14,
          "metadata": {},
          "output_type": "execute_result"
        },
        {
          "data": {
            "image/png": "[encoded data removed]",
            "text/plain": [
              "<Figure size 1008x720 with 4 Axes>"
            ]
          },
          "metadata": {},
          "output_type": "display_data"
        }
      ],
      "source": [
        "# Create subplots (2 rows, 2 columns)\n",
        "fig, axes = plt.subplots(2, 2, figsize=(14, 10))\n",
        "axes = axes.flatten()\n",
        "\n",
        "# Bank_Branch vs. Is_Fraud (Countplot)\n",
        "sns.countplot(ax=axes[0], x='Bank_Branch', hue='Is_Fraud', data=df, palette=['#FF0000', '#0000FF'])\n",
        "axes[0].set_title('Fraud Distribution Based on Bank Branch')\n",
        "\n",
        "# State vs. Is_Fraud (Countplot)\n",
        "sns.countplot(ax=axes[1], x='State', hue='Is_Fraud', data=df, palette=['#FF0000', '#0000FF'])\n",
        "axes[1].set_title('Fraud Distribution Based on State')\n",
        "\n",
        "# City vs. Is_Fraud (Countplot)\n",
        "sns.countplot(ax=axes[2], x='City', hue='Is_Fraud', data=df, palette=['#FF0000', '#0000FF'])\n",
        "axes[2].set_title('Fraud Distribution Based on City')\n",
        "\n",
        "# Transaction location vs. Is_Fraud (Countplot)\n",
        "sns.countplot(ax=axes[3], x='Transaction_Location', hue='Is_Fraud', data=df, palette=['#FF0000', '#0000FF'])\n",
        "axes[3].set_title('Fraud Distribution Based on Transaction Location')"
      ]
    },
    {
      "cell_type": "code",
      "execution_count": 15,
      "metadata": {},
      "outputs": [
        {
          "data": {
            "text/plain": [
              "Text(0, 0.5, 'Count')"
            ]
          },
          "execution_count": 15,
          "metadata": {},
          "output_type": "execute_result"
        },
        {
          "data": {
            "image/png": "[encoded data removed]",
            "text/plain": [
              "<Figure size 1008x720 with 4 Axes>"
            ]
          },
          "metadata": {},
          "output_type": "display_data"
        }
      ],
      "source": [
        "# Create subplots (2 rows, 2 columns)\n",
        "fig, axes = plt.subplots(2, 2, figsize=(14, 10))\n",
        "axes = axes.flatten()\n",
        "\n",
        "# Bank_Branch vs. Is_Fraud (Countplot)\n",
        "# top 10 Bank_branchs with fraud\n",
        "top_bank_branches = df[df['Is_Fraud'] == 1]['Bank_Branch'].value_counts().head(10)\n",
        "sns.barplot(x=top_bank_branches.index, y=top_bank_branches.values, ax=axes[0])\n",
        "axes[0].set_title('Top 10 Bank Branches with Fraud')\n",
        "axes[0].set_xlabel('Bank Branch')\n",
        "axes[0].set_ylabel('Count')\n",
        "\n",
        "\n",
        "# State vs. Is_Fraud (Countplot)\n",
        "# top 10 cities with fraud\n",
        "top_states = df[df['Is_Fraud'] == 1]['State'].value_counts().head(10)\n",
        "sns.barplot(x=top_states.index, y=top_states.values, ax=axes[1])\n",
        "axes[1].set_title('Top 10 States with Fraud')\n",
        "axes[1].set_xlabel('State')\n",
        "axes[1].set_ylabel('Count')\n",
        "\n",
        "\n",
        "# City vs. Is_Fraud (Countplot)\n",
        "# top 10 states with fraud\n",
        "top_cities = df[df['Is_Fraud'] == 1]['City'].value_counts().head(10)\n",
        "sns.barplot(x=top_cities.index, y=top_cities.values, ax=axes[2])\n",
        "axes[2].set_title('Top 10 Cities with Fraud')\n",
        "axes[2].set_xlabel('City')\n",
        "axes[2].set_ylabel('Count')\n",
        "\n",
        "# Transaction location vs. Is_Fraud (Countplot)\n",
        "#top 10 locations with fraud\n",
        "top_locations = df[df['Is_Fraud'] == 1]['Transaction_Location'].value_counts().head(10)\n",
        "sns.barplot(x=top_locations.index, y=top_locations.values, ax=axes[3])\n",
        "axes[3].set_title('Top 10 Transaction Locations with Fraud')\n",
        "axes[3].set_xlabel('Transaction Location')\n",
        "axes[3].set_ylabel('Count')\n"
      ]
    },
    {
      "cell_type": "code",
      "execution_count": 56,
      "metadata": {},
      "outputs": [
        {
          "data": {
            "image/png": "[encoded data removed]",
            "text/plain": [
              "<Figure size 1152x864 with 4 Axes>"
            ]
          },
          "metadata": {},
          "output_type": "display_data"
        }
      ],
      "source": [
        "# Function to get top 10 categories based on frequency\n",
        "def get_top_10(df, column):\n",
        "    top_10 = df[column].value_counts().nlargest(10).index\n",
        "    return df[df[column].isin(top_10)]\n",
        "\n",
        "# Filter dataset for top 10 categories in each column\n",
        "df_branch = get_top_10(df, 'Bank_Branch')\n",
        "df_state = get_top_10(df, 'State')\n",
        "df_city = get_top_10(df, 'City')\n",
        "df_location = get_top_10(df, 'Transaction_Location')\n",
        "\n",
        "# Create subplots (2 rows)\n",
        "fig, axes = plt.subplots(2, 2, figsize=(16, 12))\n",
        "axes = axes.flatten()\n",
        "\n",
        "# Bank_Branch vs. Is_Fraud (Top 10 Countplot)\n",
        "sns.countplot(ax=axes[0], x='Bank_Branch', hue='Is_Fraud', data=df_branch, palette=['#FF0000', '#0000FF'])\n",
        "axes[0].set_title('Top 10 Bank Branches - Fraud Distribution')\n",
        "axes[0].tick_params(axis='x', rotation=65)\n",
        "\n",
        "# State vs. Is_Fraud (Top 10 Countplot)\n",
        "sns.countplot(ax=axes[1], x='State', hue='Is_Fraud', data=df_state, palette=['#FF0000', '#0000FF'])\n",
        "axes[1].set_title('Top 10 States - Fraud Distribution')\n",
        "axes[1].tick_params(axis='x', rotation=65)\n",
        "\n",
        "# City vs. Is_Fraud (Top 10 Countplot)\n",
        "sns.countplot(ax=axes[2], x='City', hue='Is_Fraud', data=df_city, palette=['#FF0000', '#0000FF'])\n",
        "axes[2].set_title('Top 10 Cities - Fraud Distribution')\n",
        "axes[2].tick_params(axis='x', rotation=65)\n",
        "\n",
        "# Transaction Location vs. Is_Fraud (Top 10 Countplot)\n",
        "sns.countplot(ax=axes[3], x='Transaction_Location', hue='Is_Fraud', data=df_location, palette=['#FF0000', '#0000FF'])\n",
        "axes[3].set_title('Top 10 Transaction Locations - Fraud Distribution')\n",
        "axes[3].tick_params(axis='x', rotation=65)\n",
        "\n",
        "# Adjust layout for better visualization\n",
        "plt.tight_layout()\n",
        "plt.show()"
      ]
    },
    {
      "cell_type": "code",
      "execution_count": 52,
      "metadata": {},
      "outputs": [
        {
          "data": {
            "application/vnd.microsoft.datawrangler.viewer.v0+json": {
              "columns": [
                {
                  "name": "index",
                  "rawType": "int64",
                  "type": "integer"
                },
                {
                  "name": "Customer_ID",
                  "rawType": "object",
                  "type": "string"
                },
                {
                  "name": "Customer_Name",
                  "rawType": "object",
                  "type": "string"
                },
                {
                  "name": "Gender",
                  "rawType": "object",
                  "type": "string"
                },
                {
                  "name": "Age",
                  "rawType": "int64",
                  "type": "integer"
                },
                {
                  "name": "State",
                  "rawType": "object",
                  "type": "string"
                },
                {
                  "name": "City",
                  "rawType": "object",
                  "type": "string"
                },
                {
                  "name": "Bank_Branch",
                  "rawType": "object",
                  "type": "string"
                },
                {
                  "name": "Account_Type",
                  "rawType": "object",
                  "type": "string"
                },
                {
                  "name": "Transaction_ID",
                  "rawType": "object",
                  "type": "string"
                },
                {
                  "name": "Transaction_Date",
                  "rawType": "object",
                  "type": "string"
                },
                {
                  "name": "Transaction_Time",
                  "rawType": "object",
                  "type": "string"
                },
                {
                  "name": "Transaction_Amount",
                  "rawType": "float64",
                  "type": "float"
                },
                {
                  "name": "Merchant_ID",
                  "rawType": "object",
                  "type": "string"
                },
                {
                  "name": "Transaction_Type",
                  "rawType": "object",
                  "type": "string"
                },
                {
                  "name": "Merchant_Category",
                  "rawType": "object",
                  "type": "string"
                },
                {
                  "name": "Account_Balance",
                  "rawType": "float64",
                  "type": "float"
                },
                {
                  "name": "Transaction_Device",
                  "rawType": "object",
                  "type": "string"
                },
                {
                  "name": "Transaction_Location",
                  "rawType": "object",
                  "type": "string"
                },
                {
                  "name": "Device_Type",
                  "rawType": "object",
                  "type": "string"
                },
                {
                  "name": "Is_Fraud",
                  "rawType": "int64",
                  "type": "integer"
                },
                {
                  "name": "Transaction_Currency",
                  "rawType": "object",
                  "type": "string"
                },
                {
                  "name": "Customer_Contact",
                  "rawType": "object",
                  "type": "string"
                },
                {
                  "name": "Transaction_Description",
                  "rawType": "object",
                  "type": "string"
                },
                {
                  "name": "Customer_Email",
                  "rawType": "object",
                  "type": "string"
                }
              ],
              "conversionMethod": "pd.DataFrame",
              "ref": "f39799ee-6461-4de1-82a3-bb6d7fcf588d",
              "rows": [
                [
                  "0",
                  "d5f6ec07-d69e-4f47-b9b4-7c58ff17c19e",
                  "Osha Tella",
                  "Male",
                  "60",
                  "Kerala",
                  "Thiruvananthapuram",
                  "Thiruvananthapuram Branch",
                  "Savings",
                  "4fa3208f-9e23-42dc-b330-844829d0c12c",
                  "23-01-2025",
                  "16:04:07",
                  "32415.45",
                  "214e03c5-5c34-40d1-a66c-f440aa2bbd02",
                  "Transfer",
                  "Restaurant",
                  "74557.27",
                  "Voice Assistant",
                  "Thiruvananthapuram, Kerala",
                  "POS",
                  "0",
                  "INR",
                  "+9198579XXXXXX",
                  "Bitcoin transaction",
                  "oshaXXXXX@XXXXX.com"
                ],
                [
                  "1",
                  "7c14ad51-781a-4db9-b7bd-67439c175262",
                  "Hredhaan Khosla",
                  "Female",
                  "51",
                  "Maharashtra",
                  "Nashik",
                  "Nashik Branch",
                  "Business",
                  "c9de0c06-2c4c-40a9-97ed-3c7b8f97c79c",
                  "11-01-2025",
                  "17:14:53",
                  "43622.6",
                  "f9e3f11f-28d3-4199-b0ca-f225a155ede6",
                  "Bill Payment",
                  "Restaurant",
                  "74622.66",
                  "POS Mobile Device",
                  "Nashik, Maharashtra",
                  "Desktop",
                  "0",
                  "INR",
                  "+9191074XXXXXX",
                  "Grocery delivery",
                  "hredhaanXXXX@XXXXXX.com"
                ],
                [
                  "2",
                  "3a73a0e5-d4da-45aa-85f3-528413900a35",
                  "Ekani Nazareth",
                  "Male",
                  "20",
                  "Bihar",
                  "Bhagalpur",
                  "Bhagalpur Branch",
                  "Savings",
                  "e41c55f9-c016-4ff3-872b-cae72467c75c",
                  "25-01-2025",
                  "03:09:52",
                  "63062.56",
                  "97977d83-5486-4510-af1c-8dada3e1cfa0",
                  "Bill Payment",
                  "Groceries",
                  "66817.99",
                  "ATM",
                  "Bhagalpur, Bihar",
                  "Desktop",
                  "0",
                  "INR",
                  "+9197745XXXXXX",
                  "Mutual fund investment",
                  "ekaniXXX@XXXXXX.com"
                ],
                [
                  "3",
                  "7902f4ef-9050-4a79-857d-9c2ea3181940",
                  "Yamini Ramachandran",
                  "Female",
                  "57",
                  "Tamil Nadu",
                  "Chennai",
                  "Chennai Branch",
                  "Business",
                  "7f7ee11b-ff2c-45a3-802a-49bc47c02ecb",
                  "19-01-2025",
                  "12:27:02",
                  "14000.72",
                  "f45cd6b3-5092-44d0-8afb-490894605184",
                  "Debit",
                  "Entertainment",
                  "58177.08",
                  "POS Mobile App",
                  "Chennai, Tamil Nadu",
                  "Mobile",
                  "0",
                  "INR",
                  "+9195889XXXXXX",
                  "Food delivery",
                  "yaminiXXXXX@XXXXXXX.com"
                ],
                [
                  "4",
                  "3a4bba70-d9a9-4c5f-8b92-1735fd8c19e9",
                  "Kritika Rege",
                  "Female",
                  "43",
                  "Punjab",
                  "Amritsar",
                  "Amritsar Branch",
                  "Savings",
                  "f8e6ac6f-81a1-4985-bf12-f60967d852ef",
                  "30-01-2025",
                  "18:30:46",
                  "18335.16",
                  "70dd77dd-3b00-4b2c-8ebc-cfb8af5f6741",
                  "Transfer",
                  "Entertainment",
                  "16108.56",
                  "Virtual Card",
                  "Amritsar, Punjab",
                  "Mobile",
                  "0",
                  "INR",
                  "+9195316XXXXXX",
                  "Debt repayment",
                  "kritikaXXXX@XXXXXX.com"
                ]
              ],
              "shape": {
                "columns": 24,
                "rows": 5
              }
            },
            "text/html": [
              "<div>\n",
              "<style scoped>\n",
              "    .dataframe tbody tr th:only-of-type {\n",
              "        vertical-align: middle;\n",
              "    }\n",
              "\n",
              "    .dataframe tbody tr th {\n",
              "        vertical-align: top;\n",
              "    }\n",
              "\n",
              "    .dataframe thead th {\n",
              "        text-align: right;\n",
              "    }\n",
              "</style>\n",
              "<table border=\"1\" class=\"dataframe\">\n",
              "  <thead>\n",
              "    <tr style=\"text-align: right;\">\n",
              "      <th></th>\n",
              "      <th>Customer_ID</th>\n",
              "      <th>Customer_Name</th>\n",
              "      <th>Gender</th>\n",
              "      <th>Age</th>\n",
              "      <th>State</th>\n",
              "      <th>City</th>\n",
              "      <th>Bank_Branch</th>\n",
              "      <th>Account_Type</th>\n",
              "      <th>Transaction_ID</th>\n",
              "      <th>Transaction_Date</th>\n",
              "      <th>...</th>\n",
              "      <th>Merchant_Category</th>\n",
              "      <th>Account_Balance</th>\n",
              "      <th>Transaction_Device</th>\n",
              "      <th>Transaction_Location</th>\n",
              "      <th>Device_Type</th>\n",
              "      <th>Is_Fraud</th>\n",
              "      <th>Transaction_Currency</th>\n",
              "      <th>Customer_Contact</th>\n",
              "      <th>Transaction_Description</th>\n",
              "      <th>Customer_Email</th>\n",
              "    </tr>\n",
              "  </thead>\n",
              "  <tbody>\n",
              "    <tr>\n",
              "      <th>0</th>\n",
              "      <td>d5f6ec07-d69e-4f47-b9b4-7c58ff17c19e</td>\n",
              "      <td>Osha Tella</td>\n",
              "      <td>Male</td>\n",
              "      <td>60</td>\n",
              "      <td>Kerala</td>\n",
              "      <td>Thiruvananthapuram</td>\n",
              "      <td>Thiruvananthapuram Branch</td>\n",
              "      <td>Savings</td>\n",
              "      <td>4fa3208f-9e23-42dc-b330-844829d0c12c</td>\n",
              "      <td>23-01-2025</td>\n",
              "      <td>...</td>\n",
              "      <td>Restaurant</td>\n",
              "      <td>74557.27</td>\n",
              "      <td>Voice Assistant</td>\n",
              "      <td>Thiruvananthapuram, Kerala</td>\n",
              "      <td>POS</td>\n",
              "      <td>0</td>\n",
              "      <td>INR</td>\n",
              "      <td>+9198579XXXXXX</td>\n",
              "      <td>Bitcoin transaction</td>\n",
              "      <td>oshaXXXXX@XXXXX.com</td>\n",
              "    </tr>\n",
              "    <tr>\n",
              "      <th>1</th>\n",
              "      <td>7c14ad51-781a-4db9-b7bd-67439c175262</td>\n",
              "      <td>Hredhaan Khosla</td>\n",
              "      <td>Female</td>\n",
              "      <td>51</td>\n",
              "      <td>Maharashtra</td>\n",
              "      <td>Nashik</td>\n",
              "      <td>Nashik Branch</td>\n",
              "      <td>Business</td>\n",
              "      <td>c9de0c06-2c4c-40a9-97ed-3c7b8f97c79c</td>\n",
              "      <td>11-01-2025</td>\n",
              "      <td>...</td>\n",
              "      <td>Restaurant</td>\n",
              "      <td>74622.66</td>\n",
              "      <td>POS Mobile Device</td>\n",
              "      <td>Nashik, Maharashtra</td>\n",
              "      <td>Desktop</td>\n",
              "      <td>0</td>\n",
              "      <td>INR</td>\n",
              "      <td>+9191074XXXXXX</td>\n",
              "      <td>Grocery delivery</td>\n",
              "      <td>hredhaanXXXX@XXXXXX.com</td>\n",
              "    </tr>\n",
              "    <tr>\n",
              "      <th>2</th>\n",
              "      <td>3a73a0e5-d4da-45aa-85f3-528413900a35</td>\n",
              "      <td>Ekani Nazareth</td>\n",
              "      <td>Male</td>\n",
              "      <td>20</td>\n",
              "      <td>Bihar</td>\n",
              "      <td>Bhagalpur</td>\n",
              "      <td>Bhagalpur Branch</td>\n",
              "      <td>Savings</td>\n",
              "      <td>e41c55f9-c016-4ff3-872b-cae72467c75c</td>\n",
              "      <td>25-01-2025</td>\n",
              "      <td>...</td>\n",
              "      <td>Groceries</td>\n",
              "      <td>66817.99</td>\n",
              "      <td>ATM</td>\n",
              "      <td>Bhagalpur, Bihar</td>\n",
              "      <td>Desktop</td>\n",
              "      <td>0</td>\n",
              "      <td>INR</td>\n",
              "      <td>+9197745XXXXXX</td>\n",
              "      <td>Mutual fund investment</td>\n",
              "      <td>ekaniXXX@XXXXXX.com</td>\n",
              "    </tr>\n",
              "    <tr>\n",
              "      <th>3</th>\n",
              "      <td>7902f4ef-9050-4a79-857d-9c2ea3181940</td>\n",
              "      <td>Yamini Ramachandran</td>\n",
              "      <td>Female</td>\n",
              "      <td>57</td>\n",
              "      <td>Tamil Nadu</td>\n",
              "      <td>Chennai</td>\n",
              "      <td>Chennai Branch</td>\n",
              "      <td>Business</td>\n",
              "      <td>7f7ee11b-ff2c-45a3-802a-49bc47c02ecb</td>\n",
              "      <td>19-01-2025</td>\n",
              "      <td>...</td>\n",
              "      <td>Entertainment</td>\n",
              "      <td>58177.08</td>\n",
              "      <td>POS Mobile App</td>\n",
              "      <td>Chennai, Tamil Nadu</td>\n",
              "      <td>Mobile</td>\n",
              "      <td>0</td>\n",
              "      <td>INR</td>\n",
              "      <td>+9195889XXXXXX</td>\n",
              "      <td>Food delivery</td>\n",
              "      <td>yaminiXXXXX@XXXXXXX.com</td>\n",
              "    </tr>\n",
              "    <tr>\n",
              "      <th>4</th>\n",
              "      <td>3a4bba70-d9a9-4c5f-8b92-1735fd8c19e9</td>\n",
              "      <td>Kritika Rege</td>\n",
              "      <td>Female</td>\n",
              "      <td>43</td>\n",
              "      <td>Punjab</td>\n",
              "      <td>Amritsar</td>\n",
              "      <td>Amritsar Branch</td>\n",
              "      <td>Savings</td>\n",
              "      <td>f8e6ac6f-81a1-4985-bf12-f60967d852ef</td>\n",
              "      <td>30-01-2025</td>\n",
              "      <td>...</td>\n",
              "      <td>Entertainment</td>\n",
              "      <td>16108.56</td>\n",
              "      <td>Virtual Card</td>\n",
              "      <td>Amritsar, Punjab</td>\n",
              "      <td>Mobile</td>\n",
              "      <td>0</td>\n",
              "      <td>INR</td>\n",
              "      <td>+9195316XXXXXX</td>\n",
              "      <td>Debt repayment</td>\n",
              "      <td>kritikaXXXX@XXXXXX.com</td>\n",
              "    </tr>\n",
              "  </tbody>\n",
              "</table>\n",
              "<p>5 rows × 24 columns</p>\n",
              "</div>"
            ],
            "text/plain": [
              "                            Customer_ID        Customer_Name  Gender  Age  \\\n",
              "0  d5f6ec07-d69e-4f47-b9b4-7c58ff17c19e           Osha Tella    Male   60   \n",
              "1  7c14ad51-781a-4db9-b7bd-67439c175262      Hredhaan Khosla  Female   51   \n",
              "2  3a73a0e5-d4da-45aa-85f3-528413900a35       Ekani Nazareth    Male   20   \n",
              "3  7902f4ef-9050-4a79-857d-9c2ea3181940  Yamini Ramachandran  Female   57   \n",
              "4  3a4bba70-d9a9-4c5f-8b92-1735fd8c19e9         Kritika Rege  Female   43   \n",
              "\n",
              "         State                City                Bank_Branch Account_Type  \\\n",
              "0       Kerala  Thiruvananthapuram  Thiruvananthapuram Branch      Savings   \n",
              "1  Maharashtra              Nashik              Nashik Branch     Business   \n",
              "2        Bihar           Bhagalpur           Bhagalpur Branch      Savings   \n",
              "3   Tamil Nadu             Chennai             Chennai Branch     Business   \n",
              "4       Punjab            Amritsar            Amritsar Branch      Savings   \n",
              "\n",
              "                         Transaction_ID Transaction_Date  ...  \\\n",
              "0  4fa3208f-9e23-42dc-b330-844829d0c12c       23-01-2025  ...   \n",
              "1  c9de0c06-2c4c-40a9-97ed-3c7b8f97c79c       11-01-2025  ...   \n",
              "2  e41c55f9-c016-4ff3-872b-cae72467c75c       25-01-2025  ...   \n",
              "3  7f7ee11b-ff2c-45a3-802a-49bc47c02ecb       19-01-2025  ...   \n",
              "4  f8e6ac6f-81a1-4985-bf12-f60967d852ef       30-01-2025  ...   \n",
              "\n",
              "  Merchant_Category  Account_Balance Transaction_Device  \\\n",
              "0        Restaurant         74557.27    Voice Assistant   \n",
              "1        Restaurant         74622.66  POS Mobile Device   \n",
              "2         Groceries         66817.99                ATM   \n",
              "3     Entertainment         58177.08     POS Mobile App   \n",
              "4     Entertainment         16108.56       Virtual Card   \n",
              "\n",
              "         Transaction_Location Device_Type  Is_Fraud Transaction_Currency  \\\n",
              "0  Thiruvananthapuram, Kerala         POS         0                  INR   \n",
              "1         Nashik, Maharashtra     Desktop         0                  INR   \n",
              "2            Bhagalpur, Bihar     Desktop         0                  INR   \n",
              "3         Chennai, Tamil Nadu      Mobile         0                  INR   \n",
              "4            Amritsar, Punjab      Mobile         0                  INR   \n",
              "\n",
              "  Customer_Contact Transaction_Description           Customer_Email  \n",
              "0   +9198579XXXXXX     Bitcoin transaction      oshaXXXXX@XXXXX.com  \n",
              "1   +9191074XXXXXX        Grocery delivery  hredhaanXXXX@XXXXXX.com  \n",
              "2   +9197745XXXXXX  Mutual fund investment      ekaniXXX@XXXXXX.com  \n",
              "3   +9195889XXXXXX           Food delivery  yaminiXXXXX@XXXXXXX.com  \n",
              "4   +9195316XXXXXX          Debt repayment   kritikaXXXX@XXXXXX.com  \n",
              "\n",
              "[5 rows x 24 columns]"
            ]
          },
          "execution_count": 52,
          "metadata": {},
          "output_type": "execute_result"
        }
      ],
      "source": [
        "df.head()"
      ]
    },
    {
      "cell_type": "code",
      "execution_count": 12,
      "metadata": {
        "colab": {
          "base_uri": "https://localhost:8080/"
        },
        "id": "VsNl1R4quwF3",
        "outputId": "254b0850-0d69-4ef3-ebb6-e128b70ea373"
      },
      "outputs": [
        {
          "name": "stdout",
          "output_type": "stream",
          "text": [
            "\n",
            "### Strongest Email (Most Fraudulent) ###\n",
            " Total_Transactions    43.000000\n",
            "Fraud_Cases           10.000000\n",
            "Fraud_Rate             0.232558\n",
            "Name: eiravatiXXX@XXXXX.com, dtype: float64\n",
            "\n",
            "### Weakest Email (Least Fraudulent) ###\n",
            " Total_Transactions    49.0\n",
            "Fraud_Cases            0.0\n",
            "Fraud_Rate             0.0\n",
            "Name: ekantikaXXX@XXXXXXX.com, dtype: float64\n"
          ]
        }
      ],
      "source": [
        "# Group by Customer_Email to count total transactions and fraud cases\n",
        "email_fraud_analysis = df.groupby(\"Customer_Email\")[\"Is_Fraud\"].agg([\"count\", \"sum\"])\n",
        "email_fraud_analysis.rename(columns={\"count\": \"Total_Transactions\", \"sum\": \"Fraud_Cases\"}, inplace=True)\n",
        "\n",
        "# Calculate fraud rate for each email\n",
        "email_fraud_analysis[\"Fraud_Rate\"] = email_fraud_analysis[\"Fraud_Cases\"] / email_fraud_analysis[\"Total_Transactions\"]\n",
        "\n",
        "# Sort by fraud rate\n",
        "email_fraud_analysis_sorted = email_fraud_analysis.sort_values(by=\"Fraud_Rate\", ascending=False)\n",
        "\n",
        "# Get strongest (most fraudulent) and weakest (least fraudulent) emails\n",
        "strongest_email = email_fraud_analysis_sorted.iloc[0]\n",
        "weakest_email = email_fraud_analysis_sorted.iloc[-1]\n",
        "\n",
        "# Display results\n",
        "print(\"\\n### Strongest Email (Most Fraudulent) ###\\n\", strongest_email)\n",
        "print(\"\\n### Weakest Email (Least Fraudulent) ###\\n\", weakest_email)"
      ]
    },
    {
      "cell_type": "code",
      "execution_count": 13,
      "metadata": {
        "colab": {
          "base_uri": "https://localhost:8080/"
        },
        "id": "iUB5lhv8uwF4",
        "outputId": "529616cd-0331-4a91-87c0-c0956679195d"
      },
      "outputs": [
        {
          "name": "stdout",
          "output_type": "stream",
          "text": [
            "\n",
            "### Top 10 Strongest Emails (Most Fraudulent) ###\n",
            "                          Total_Transactions  Fraud_Cases  Fraud_Rate\n",
            "Customer_Email                                                      \n",
            "eiravatiXXX@XXXXX.com                    43           10    0.232558\n",
            "jeremiahXXX@XXXXX.com                    36            8    0.222222\n",
            "jagratiXXXX@XXXXX.com                    34            7    0.205882\n",
            "mayaXXXXX@XXXXXXX.com                    39            8    0.205128\n",
            "hariniXXX@XXXXXX.com                     40            8    0.200000\n",
            "keyaXXX@XXXXX.com                        45            9    0.200000\n",
            "manyaXXX@XXXXXX.com                      30            6    0.200000\n",
            "ekalingaXXX@XXXXXXX.com                  37            7    0.189189\n",
            "nirjaXXXX@XXXXXXX.com                    37            7    0.189189\n",
            "ridhiXXX@XXXXXX.com                      43            8    0.186047\n",
            "\n",
            "### Top 10 Weakest Emails (Least Fraudulent) ###\n",
            "                          Total_Transactions  Fraud_Cases  Fraud_Rate\n",
            "Customer_Email                                                      \n",
            "urviXXXX@XXXXXX.com                      47            0         0.0\n",
            "urviXXXXX@XXXXXX.com                     44            0         0.0\n",
            "nidhiXXXX@XXXXXXX.com                    36            0         0.0\n",
            "diyaXXX@XXXXX.com                        41            0         0.0\n",
            "janakiXXXXX@XXXXXXX.com                  35            0         0.0\n",
            "diyaXXX@XXXXXX.com                       39            0         0.0\n",
            "rachitXXXX@XXXXXX.com                    48            0         0.0\n",
            "vamakshiXXX@XXXXX.com                    36            0         0.0\n",
            "leenaXXXX@XXXXX.com                      33            0         0.0\n",
            "ekantikaXXX@XXXXXXX.com                  49            0         0.0\n"
          ]
        }
      ],
      "source": [
        "# Save the analysis results to a CSV for reference\n",
        "email_fraud_analysis_sorted.to_csv(\"email_fraud_analysis.csv\", index=True)\n",
        "\n",
        "\n",
        "# Filter emails with at least 5 transactions (to avoid misleading results from very few transactions)\n",
        "email_fraud_analysis_filtered = email_fraud_analysis[email_fraud_analysis[\"Total_Transactions\"] >= 5]\n",
        "\n",
        "# Get top 10 strongest (most fraudulent) and weakest (least fraudulent) emails\n",
        "top_strongest_emails = email_fraud_analysis_sorted.head(10)\n",
        "top_weakest_emails = email_fraud_analysis_sorted.tail(10)\n",
        "\n",
        "# Display results\n",
        "print(\"\\n### Top 10 Strongest Emails (Most Fraudulent) ###\\n\", top_strongest_emails)\n",
        "print(\"\\n### Top 10 Weakest Emails (Least Fraudulent) ###\\n\", top_weakest_emails)\n"
      ]
    },
    {
      "cell_type": "code",
      "execution_count": null,
      "metadata": {
        "colab": {
          "base_uri": "https://localhost:8080/",
          "height": 699
        },
        "id": "S8VJSivwuwF5",
        "outputId": "68f5194a-5494-4293-e2ce-1b408870cf25"
      },
      "outputs": [
        {
          "data": {
            "image/png": "[encoded data removed]",
            "text/plain": [
              "<Figure size 1000x800 with 2 Axes>"
            ]
          },
          "metadata": {},
          "output_type": "display_data"
        }
      ],
      "source": [
        "#Correlation for the numeric columns\n",
        "corr_matrix = df_cleaned[numerical_cols].corr()\n",
        "\n",
        "plt.figure(figsize=(10, 8))\n",
        "sns.heatmap(corr_matrix, annot=True, cmap='RdBu')\n",
        "plt.title('Correlation Matrix')\n",
        "plt.show()"
      ]
    },
    {
      "cell_type": "markdown",
      "metadata": {
        "id": "2rfz9Y2huwF6"
      },
      "source": [
        "## Data Preprosessing"
      ]
    },
    {
      "cell_type": "markdown",
      "metadata": {
        "id": "cJvjvYETuwF6"
      },
      "source": [
        "### One hot encoding"
      ]
    },
    {
      "cell_type": "code",
      "execution_count": 21,
      "metadata": {
        "colab": {
          "base_uri": "https://localhost:8080/",
          "height": 516
        },
        "id": "AmDuotA_uwF7",
        "outputId": "278dd1e9-1679-4b81-ff58-e276306584a9"
      },
      "outputs": [
        {
          "data": {
            "application/vnd.microsoft.datawrangler.viewer.v0+json": {
              "columns": [
                {
                  "name": "index",
                  "rawType": "int64",
                  "type": "integer"
                },
                {
                  "name": "Customer_ID",
                  "rawType": "object",
                  "type": "string"
                },
                {
                  "name": "Customer_Name",
                  "rawType": "object",
                  "type": "string"
                },
                {
                  "name": "Gender",
                  "rawType": "int32",
                  "type": "integer"
                },
                {
                  "name": "Age",
                  "rawType": "int64",
                  "type": "integer"
                },
                {
                  "name": "State",
                  "rawType": "object",
                  "type": "string"
                },
                {
                  "name": "City",
                  "rawType": "object",
                  "type": "string"
                },
                {
                  "name": "Bank_Branch",
                  "rawType": "object",
                  "type": "string"
                },
                {
                  "name": "Account_Type",
                  "rawType": "int32",
                  "type": "integer"
                },
                {
                  "name": "Transaction_ID",
                  "rawType": "object",
                  "type": "string"
                },
                {
                  "name": "Transaction_Date",
                  "rawType": "object",
                  "type": "string"
                },
                {
                  "name": "Transaction_Time",
                  "rawType": "object",
                  "type": "string"
                },
                {
                  "name": "Transaction_Amount",
                  "rawType": "float64",
                  "type": "float"
                },
                {
                  "name": "Merchant_ID",
                  "rawType": "object",
                  "type": "string"
                },
                {
                  "name": "Transaction_Type",
                  "rawType": "int32",
                  "type": "integer"
                },
                {
                  "name": "Merchant_Category",
                  "rawType": "int32",
                  "type": "integer"
                },
                {
                  "name": "Account_Balance",
                  "rawType": "float64",
                  "type": "float"
                },
                {
                  "name": "Transaction_Device",
                  "rawType": "int32",
                  "type": "integer"
                },
                {
                  "name": "Transaction_Location",
                  "rawType": "object",
                  "type": "string"
                },
                {
                  "name": "Device_Type",
                  "rawType": "int32",
                  "type": "integer"
                },
                {
                  "name": "Is_Fraud",
                  "rawType": "int64",
                  "type": "integer"
                },
                {
                  "name": "Transaction_Currency",
                  "rawType": "object",
                  "type": "string"
                },
                {
                  "name": "Customer_Contact",
                  "rawType": "object",
                  "type": "string"
                },
                {
                  "name": "Transaction_Description",
                  "rawType": "object",
                  "type": "string"
                },
                {
                  "name": "Customer_Email",
                  "rawType": "object",
                  "type": "string"
                }
              ],
              "conversionMethod": "pd.DataFrame",
              "ref": "f664087e-31f7-482a-9cd2-5d6c86c40d7d",
              "rows": [
                [
                  "0",
                  "d5f6ec07-d69e-4f47-b9b4-7c58ff17c19e",
                  "Osha Tella",
                  "1",
                  "60",
                  "Kerala",
                  "Thiruvananthapuram",
                  "Thiruvananthapuram Branch",
                  "2",
                  "4fa3208f-9e23-42dc-b330-844829d0c12c",
                  "23-01-2025",
                  "16:04:07",
                  "32415.45",
                  "214e03c5-5c34-40d1-a66c-f440aa2bbd02",
                  "3",
                  "5",
                  "74557.27",
                  "17",
                  "Thiruvananthapuram, Kerala",
                  "3",
                  "0",
                  "INR",
                  "+9198579XXXXXX",
                  "Bitcoin transaction",
                  "oshaXXXXX@XXXXX.com"
                ],
                [
                  "1",
                  "7c14ad51-781a-4db9-b7bd-67439c175262",
                  "Hredhaan Khosla",
                  "0",
                  "51",
                  "Maharashtra",
                  "Nashik",
                  "Nashik Branch",
                  "0",
                  "c9de0c06-2c4c-40a9-97ed-3c7b8f97c79c",
                  "11-01-2025",
                  "17:14:53",
                  "43622.6",
                  "f9e3f11f-28d3-4199-b0ca-f225a155ede6",
                  "0",
                  "5",
                  "74622.66",
                  "9",
                  "Nashik, Maharashtra",
                  "1",
                  "0",
                  "INR",
                  "+9191074XXXXXX",
                  "Grocery delivery",
                  "hredhaanXXXX@XXXXXX.com"
                ],
                [
                  "2",
                  "3a73a0e5-d4da-45aa-85f3-528413900a35",
                  "Ekani Nazareth",
                  "1",
                  "20",
                  "Bihar",
                  "Bhagalpur",
                  "Bhagalpur Branch",
                  "2",
                  "e41c55f9-c016-4ff3-872b-cae72467c75c",
                  "25-01-2025",
                  "03:09:52",
                  "63062.56",
                  "97977d83-5486-4510-af1c-8dada3e1cfa0",
                  "0",
                  "3",
                  "66817.99",
                  "0",
                  "Bhagalpur, Bihar",
                  "1",
                  "0",
                  "INR",
                  "+9197745XXXXXX",
                  "Mutual fund investment",
                  "ekaniXXX@XXXXXX.com"
                ],
                [
                  "3",
                  "7902f4ef-9050-4a79-857d-9c2ea3181940",
                  "Yamini Ramachandran",
                  "0",
                  "57",
                  "Tamil Nadu",
                  "Chennai",
                  "Chennai Branch",
                  "0",
                  "7f7ee11b-ff2c-45a3-802a-49bc47c02ecb",
                  "19-01-2025",
                  "12:27:02",
                  "14000.72",
                  "f45cd6b3-5092-44d0-8afb-490894605184",
                  "2",
                  "2",
                  "58177.08",
                  "8",
                  "Chennai, Tamil Nadu",
                  "2",
                  "0",
                  "INR",
                  "+9195889XXXXXX",
                  "Food delivery",
                  "yaminiXXXXX@XXXXXXX.com"
                ],
                [
                  "4",
                  "3a4bba70-d9a9-4c5f-8b92-1735fd8c19e9",
                  "Kritika Rege",
                  "0",
                  "43",
                  "Punjab",
                  "Amritsar",
                  "Amritsar Branch",
                  "2",
                  "f8e6ac6f-81a1-4985-bf12-f60967d852ef",
                  "30-01-2025",
                  "18:30:46",
                  "18335.16",
                  "70dd77dd-3b00-4b2c-8ebc-cfb8af5f6741",
                  "3",
                  "2",
                  "16108.56",
                  "16",
                  "Amritsar, Punjab",
                  "2",
                  "0",
                  "INR",
                  "+9195316XXXXXX",
                  "Debt repayment",
                  "kritikaXXXX@XXXXXX.com"
                ]
              ],
              "shape": {
                "columns": 24,
                "rows": 5
              }
            },
            "text/html": [
              "<div>\n",
              "<style scoped>\n",
              "    .dataframe tbody tr th:only-of-type {\n",
              "        vertical-align: middle;\n",
              "    }\n",
              "\n",
              "    .dataframe tbody tr th {\n",
              "        vertical-align: top;\n",
              "    }\n",
              "\n",
              "    .dataframe thead th {\n",
              "        text-align: right;\n",
              "    }\n",
              "</style>\n",
              "<table border=\"1\" class=\"dataframe\">\n",
              "  <thead>\n",
              "    <tr style=\"text-align: right;\">\n",
              "      <th></th>\n",
              "      <th>Customer_ID</th>\n",
              "      <th>Customer_Name</th>\n",
              "      <th>Gender</th>\n",
              "      <th>Age</th>\n",
              "      <th>State</th>\n",
              "      <th>City</th>\n",
              "      <th>Bank_Branch</th>\n",
              "      <th>Account_Type</th>\n",
              "      <th>Transaction_ID</th>\n",
              "      <th>Transaction_Date</th>\n",
              "      <th>...</th>\n",
              "      <th>Merchant_Category</th>\n",
              "      <th>Account_Balance</th>\n",
              "      <th>Transaction_Device</th>\n",
              "      <th>Transaction_Location</th>\n",
              "      <th>Device_Type</th>\n",
              "      <th>Is_Fraud</th>\n",
              "      <th>Transaction_Currency</th>\n",
              "      <th>Customer_Contact</th>\n",
              "      <th>Transaction_Description</th>\n",
              "      <th>Customer_Email</th>\n",
              "    </tr>\n",
              "  </thead>\n",
              "  <tbody>\n",
              "    <tr>\n",
              "      <th>0</th>\n",
              "      <td>d5f6ec07-d69e-4f47-b9b4-7c58ff17c19e</td>\n",
              "      <td>Osha Tella</td>\n",
              "      <td>1</td>\n",
              "      <td>60</td>\n",
              "      <td>Kerala</td>\n",
              "      <td>Thiruvananthapuram</td>\n",
              "      <td>Thiruvananthapuram Branch</td>\n",
              "      <td>2</td>\n",
              "      <td>4fa3208f-9e23-42dc-b330-844829d0c12c</td>\n",
              "      <td>23-01-2025</td>\n",
              "      <td>...</td>\n",
              "      <td>5</td>\n",
              "      <td>74557.27</td>\n",
              "      <td>17</td>\n",
              "      <td>Thiruvananthapuram, Kerala</td>\n",
              "      <td>3</td>\n",
              "      <td>0</td>\n",
              "      <td>INR</td>\n",
              "      <td>+9198579XXXXXX</td>\n",
              "      <td>Bitcoin transaction</td>\n",
              "      <td>oshaXXXXX@XXXXX.com</td>\n",
              "    </tr>\n",
              "    <tr>\n",
              "      <th>1</th>\n",
              "      <td>7c14ad51-781a-4db9-b7bd-67439c175262</td>\n",
              "      <td>Hredhaan Khosla</td>\n",
              "      <td>0</td>\n",
              "      <td>51</td>\n",
              "      <td>Maharashtra</td>\n",
              "      <td>Nashik</td>\n",
              "      <td>Nashik Branch</td>\n",
              "      <td>0</td>\n",
              "      <td>c9de0c06-2c4c-40a9-97ed-3c7b8f97c79c</td>\n",
              "      <td>11-01-2025</td>\n",
              "      <td>...</td>\n",
              "      <td>5</td>\n",
              "      <td>74622.66</td>\n",
              "      <td>9</td>\n",
              "      <td>Nashik, Maharashtra</td>\n",
              "      <td>1</td>\n",
              "      <td>0</td>\n",
              "      <td>INR</td>\n",
              "      <td>+9191074XXXXXX</td>\n",
              "      <td>Grocery delivery</td>\n",
              "      <td>hredhaanXXXX@XXXXXX.com</td>\n",
              "    </tr>\n",
              "    <tr>\n",
              "      <th>2</th>\n",
              "      <td>3a73a0e5-d4da-45aa-85f3-528413900a35</td>\n",
              "      <td>Ekani Nazareth</td>\n",
              "      <td>1</td>\n",
              "      <td>20</td>\n",
              "      <td>Bihar</td>\n",
              "      <td>Bhagalpur</td>\n",
              "      <td>Bhagalpur Branch</td>\n",
              "      <td>2</td>\n",
              "      <td>e41c55f9-c016-4ff3-872b-cae72467c75c</td>\n",
              "      <td>25-01-2025</td>\n",
              "      <td>...</td>\n",
              "      <td>3</td>\n",
              "      <td>66817.99</td>\n",
              "      <td>0</td>\n",
              "      <td>Bhagalpur, Bihar</td>\n",
              "      <td>1</td>\n",
              "      <td>0</td>\n",
              "      <td>INR</td>\n",
              "      <td>+9197745XXXXXX</td>\n",
              "      <td>Mutual fund investment</td>\n",
              "      <td>ekaniXXX@XXXXXX.com</td>\n",
              "    </tr>\n",
              "    <tr>\n",
              "      <th>3</th>\n",
              "      <td>7902f4ef-9050-4a79-857d-9c2ea3181940</td>\n",
              "      <td>Yamini Ramachandran</td>\n",
              "      <td>0</td>\n",
              "      <td>57</td>\n",
              "      <td>Tamil Nadu</td>\n",
              "      <td>Chennai</td>\n",
              "      <td>Chennai Branch</td>\n",
              "      <td>0</td>\n",
              "      <td>7f7ee11b-ff2c-45a3-802a-49bc47c02ecb</td>\n",
              "      <td>19-01-2025</td>\n",
              "      <td>...</td>\n",
              "      <td>2</td>\n",
              "      <td>58177.08</td>\n",
              "      <td>8</td>\n",
              "      <td>Chennai, Tamil Nadu</td>\n",
              "      <td>2</td>\n",
              "      <td>0</td>\n",
              "      <td>INR</td>\n",
              "      <td>+9195889XXXXXX</td>\n",
              "      <td>Food delivery</td>\n",
              "      <td>yaminiXXXXX@XXXXXXX.com</td>\n",
              "    </tr>\n",
              "    <tr>\n",
              "      <th>4</th>\n",
              "      <td>3a4bba70-d9a9-4c5f-8b92-1735fd8c19e9</td>\n",
              "      <td>Kritika Rege</td>\n",
              "      <td>0</td>\n",
              "      <td>43</td>\n",
              "      <td>Punjab</td>\n",
              "      <td>Amritsar</td>\n",
              "      <td>Amritsar Branch</td>\n",
              "      <td>2</td>\n",
              "      <td>f8e6ac6f-81a1-4985-bf12-f60967d852ef</td>\n",
              "      <td>30-01-2025</td>\n",
              "      <td>...</td>\n",
              "      <td>2</td>\n",
              "      <td>16108.56</td>\n",
              "      <td>16</td>\n",
              "      <td>Amritsar, Punjab</td>\n",
              "      <td>2</td>\n",
              "      <td>0</td>\n",
              "      <td>INR</td>\n",
              "      <td>+9195316XXXXXX</td>\n",
              "      <td>Debt repayment</td>\n",
              "      <td>kritikaXXXX@XXXXXX.com</td>\n",
              "    </tr>\n",
              "  </tbody>\n",
              "</table>\n",
              "<p>5 rows × 24 columns</p>\n",
              "</div>"
            ],
            "text/plain": [
              "                            Customer_ID        Customer_Name  Gender  Age  \\\n",
              "0  d5f6ec07-d69e-4f47-b9b4-7c58ff17c19e           Osha Tella       1   60   \n",
              "1  7c14ad51-781a-4db9-b7bd-67439c175262      Hredhaan Khosla       0   51   \n",
              "2  3a73a0e5-d4da-45aa-85f3-528413900a35       Ekani Nazareth       1   20   \n",
              "3  7902f4ef-9050-4a79-857d-9c2ea3181940  Yamini Ramachandran       0   57   \n",
              "4  3a4bba70-d9a9-4c5f-8b92-1735fd8c19e9         Kritika Rege       0   43   \n",
              "\n",
              "         State                City                Bank_Branch  Account_Type  \\\n",
              "0       Kerala  Thiruvananthapuram  Thiruvananthapuram Branch             2   \n",
              "1  Maharashtra              Nashik              Nashik Branch             0   \n",
              "2        Bihar           Bhagalpur           Bhagalpur Branch             2   \n",
              "3   Tamil Nadu             Chennai             Chennai Branch             0   \n",
              "4       Punjab            Amritsar            Amritsar Branch             2   \n",
              "\n",
              "                         Transaction_ID Transaction_Date  ...  \\\n",
              "0  4fa3208f-9e23-42dc-b330-844829d0c12c       23-01-2025  ...   \n",
              "1  c9de0c06-2c4c-40a9-97ed-3c7b8f97c79c       11-01-2025  ...   \n",
              "2  e41c55f9-c016-4ff3-872b-cae72467c75c       25-01-2025  ...   \n",
              "3  7f7ee11b-ff2c-45a3-802a-49bc47c02ecb       19-01-2025  ...   \n",
              "4  f8e6ac6f-81a1-4985-bf12-f60967d852ef       30-01-2025  ...   \n",
              "\n",
              "  Merchant_Category  Account_Balance Transaction_Device  \\\n",
              "0                 5         74557.27                 17   \n",
              "1                 5         74622.66                  9   \n",
              "2                 3         66817.99                  0   \n",
              "3                 2         58177.08                  8   \n",
              "4                 2         16108.56                 16   \n",
              "\n",
              "         Transaction_Location  Device_Type  Is_Fraud  Transaction_Currency  \\\n",
              "0  Thiruvananthapuram, Kerala            3         0                   INR   \n",
              "1         Nashik, Maharashtra            1         0                   INR   \n",
              "2            Bhagalpur, Bihar            1         0                   INR   \n",
              "3         Chennai, Tamil Nadu            2         0                   INR   \n",
              "4            Amritsar, Punjab            2         0                   INR   \n",
              "\n",
              "  Customer_Contact  Transaction_Description           Customer_Email  \n",
              "0   +9198579XXXXXX      Bitcoin transaction      oshaXXXXX@XXXXX.com  \n",
              "1   +9191074XXXXXX         Grocery delivery  hredhaanXXXX@XXXXXX.com  \n",
              "2   +9197745XXXXXX   Mutual fund investment      ekaniXXX@XXXXXX.com  \n",
              "3   +9195889XXXXXX            Food delivery  yaminiXXXXX@XXXXXXX.com  \n",
              "4   +9195316XXXXXX           Debt repayment   kritikaXXXX@XXXXXX.com  \n",
              "\n",
              "[5 rows x 24 columns]"
            ]
          },
          "execution_count": 21,
          "metadata": {},
          "output_type": "execute_result"
        }
      ],
      "source": [
        "# ENCODE CATEGORICAL VARIABLES\n",
        "categorical_cols = ['Gender', 'Account_Type', 'Transaction_Type', 'Merchant_Category', 'Transaction_Device', 'Device_Type']\n",
        "\n",
        "label_encoders = {}\n",
        "for col in categorical_cols:\n",
        "    le = LabelEncoder()\n",
        "    df[col] = le.fit_transform(df[col])\n",
        "    label_encoders[col] = le  # Store encoder for later use\n",
        "\n",
        "df.head()"
      ]
    },
    {
      "cell_type": "markdown",
      "metadata": {
        "id": "3JbkkOR5uwF8"
      },
      "source": [
        "#### CONVERT DATA TYPES"
      ]
    },
    {
      "cell_type": "code",
      "execution_count": null,
      "metadata": {
        "id": "BnUaefVFuwF8"
      },
      "outputs": [],
      "source": [
        "# df['Transaction_Date'] = pd.to_datetime(df['Transaction_Date'])\n",
        "# df['Transaction_Time'] = pd.to_datetime(df['Transaction_Time'], format='%H:%M:%S').dt.time\n",
        "\n",
        "# df.head()"
      ]
    },
    {
      "cell_type": "markdown",
      "metadata": {
        "id": "0r9ak4TDuwF9"
      },
      "source": [
        "#### Scaling"
      ]
    },
    {
      "cell_type": "code",
      "execution_count": null,
      "metadata": {
        "colab": {
          "base_uri": "https://localhost:8080/",
          "height": 516
        },
        "id": "RjBT5I0JuwF9",
        "outputId": "dc551451-142b-4cfc-cec4-06e0b7ef624b"
      },
      "outputs": [
        {
          "data": {
            "application/vnd.google.colaboratory.intrinsic+json": {
              "type": "dataframe",
              "variable_name": "df"
            },
            "text/html": [
              "\n",
              "  <div id=\"df-cb2b524f-ccdd-4373-90fb-e79b0fbfc17c\" class=\"colab-df-container\">\n",
              "    <div>\n",
              "<style scoped>\n",
              "    .dataframe tbody tr th:only-of-type {\n",
              "        vertical-align: middle;\n",
              "    }\n",
              "\n",
              "    .dataframe tbody tr th {\n",
              "        vertical-align: top;\n",
              "    }\n",
              "\n",
              "    .dataframe thead th {\n",
              "        text-align: right;\n",
              "    }\n",
              "</style>\n",
              "<table border=\"1\" class=\"dataframe\">\n",
              "  <thead>\n",
              "    <tr style=\"text-align: right;\">\n",
              "      <th></th>\n",
              "      <th>Customer_ID</th>\n",
              "      <th>Customer_Name</th>\n",
              "      <th>Gender</th>\n",
              "      <th>Age</th>\n",
              "      <th>State</th>\n",
              "      <th>City</th>\n",
              "      <th>Bank_Branch</th>\n",
              "      <th>Account_Type</th>\n",
              "      <th>Transaction_ID</th>\n",
              "      <th>Transaction_Date</th>\n",
              "      <th>...</th>\n",
              "      <th>Merchant_Category</th>\n",
              "      <th>Account_Balance</th>\n",
              "      <th>Transaction_Device</th>\n",
              "      <th>Transaction_Location</th>\n",
              "      <th>Device_Type</th>\n",
              "      <th>Is_Fraud</th>\n",
              "      <th>Transaction_Currency</th>\n",
              "      <th>Customer_Contact</th>\n",
              "      <th>Transaction_Description</th>\n",
              "      <th>Customer_Email</th>\n",
              "    </tr>\n",
              "  </thead>\n",
              "  <tbody>\n",
              "    <tr>\n",
              "      <th>0</th>\n",
              "      <td>d5f6ec07-d69e-4f47-b9b4-7c58ff17c19e</td>\n",
              "      <td>Osha Tella</td>\n",
              "      <td>1</td>\n",
              "      <td>60</td>\n",
              "      <td>Kerala</td>\n",
              "      <td>Thiruvananthapuram</td>\n",
              "      <td>Thiruvananthapuram Branch</td>\n",
              "      <td>2</td>\n",
              "      <td>4fa3208f-9e23-42dc-b330-844829d0c12c</td>\n",
              "      <td>23-01-2025</td>\n",
              "      <td>...</td>\n",
              "      <td>5</td>\n",
              "      <td>74557.27</td>\n",
              "      <td>17</td>\n",
              "      <td>Thiruvananthapuram, Kerala</td>\n",
              "      <td>3</td>\n",
              "      <td>0.0</td>\n",
              "      <td>INR</td>\n",
              "      <td>+9198579XXXXXX</td>\n",
              "      <td>Bitcoin transaction</td>\n",
              "      <td>oshaXXXXX@XXXXX.com</td>\n",
              "    </tr>\n",
              "    <tr>\n",
              "      <th>1</th>\n",
              "      <td>7c14ad51-781a-4db9-b7bd-67439c175262</td>\n",
              "      <td>Hredhaan Khosla</td>\n",
              "      <td>0</td>\n",
              "      <td>51</td>\n",
              "      <td>Maharashtra</td>\n",
              "      <td>Nashik</td>\n",
              "      <td>Nashik Branch</td>\n",
              "      <td>0</td>\n",
              "      <td>c9de0c06-2c4c-40a9-97ed-3c7b8f97c79c</td>\n",
              "      <td>11-01-2025</td>\n",
              "      <td>...</td>\n",
              "      <td>5</td>\n",
              "      <td>74622.66</td>\n",
              "      <td>9</td>\n",
              "      <td>Nashik, Maharashtra</td>\n",
              "      <td>1</td>\n",
              "      <td>0.0</td>\n",
              "      <td>INR</td>\n",
              "      <td>+9191074XXXXXX</td>\n",
              "      <td>Grocery delivery</td>\n",
              "      <td>hredhaanXXXX@XXXXXX.com</td>\n",
              "    </tr>\n",
              "    <tr>\n",
              "      <th>2</th>\n",
              "      <td>3a73a0e5-d4da-45aa-85f3-528413900a35</td>\n",
              "      <td>Ekani Nazareth</td>\n",
              "      <td>1</td>\n",
              "      <td>20</td>\n",
              "      <td>Bihar</td>\n",
              "      <td>Bhagalpur</td>\n",
              "      <td>Bhagalpur Branch</td>\n",
              "      <td>2</td>\n",
              "      <td>e41c55f9-c016-4ff3-872b-cae72467c75c</td>\n",
              "      <td>25-01-2025</td>\n",
              "      <td>...</td>\n",
              "      <td>3</td>\n",
              "      <td>66817.99</td>\n",
              "      <td>0</td>\n",
              "      <td>Bhagalpur, Bihar</td>\n",
              "      <td>1</td>\n",
              "      <td>0.0</td>\n",
              "      <td>INR</td>\n",
              "      <td>+9197745XXXXXX</td>\n",
              "      <td>Mutual fund investment</td>\n",
              "      <td>ekaniXXX@XXXXXX.com</td>\n",
              "    </tr>\n",
              "    <tr>\n",
              "      <th>3</th>\n",
              "      <td>7902f4ef-9050-4a79-857d-9c2ea3181940</td>\n",
              "      <td>Yamini Ramachandran</td>\n",
              "      <td>0</td>\n",
              "      <td>57</td>\n",
              "      <td>Tamil Nadu</td>\n",
              "      <td>Chennai</td>\n",
              "      <td>Chennai Branch</td>\n",
              "      <td>0</td>\n",
              "      <td>7f7ee11b-ff2c-45a3-802a-49bc47c02ecb</td>\n",
              "      <td>19-01-2025</td>\n",
              "      <td>...</td>\n",
              "      <td>2</td>\n",
              "      <td>58177.08</td>\n",
              "      <td>8</td>\n",
              "      <td>Chennai, Tamil Nadu</td>\n",
              "      <td>2</td>\n",
              "      <td>0.0</td>\n",
              "      <td>INR</td>\n",
              "      <td>+9195889XXXXXX</td>\n",
              "      <td>Food delivery</td>\n",
              "      <td>yaminiXXXXX@XXXXXXX.com</td>\n",
              "    </tr>\n",
              "    <tr>\n",
              "      <th>4</th>\n",
              "      <td>3a4bba70-d9a9-4c5f-8b92-1735fd8c19e9</td>\n",
              "      <td>Kritika Rege</td>\n",
              "      <td>0</td>\n",
              "      <td>43</td>\n",
              "      <td>Punjab</td>\n",
              "      <td>Amritsar</td>\n",
              "      <td>Amritsar Branch</td>\n",
              "      <td>2</td>\n",
              "      <td>f8e6ac6f-81a1-4985-bf12-f60967d852ef</td>\n",
              "      <td>30-01-2025</td>\n",
              "      <td>...</td>\n",
              "      <td>2</td>\n",
              "      <td>16108.56</td>\n",
              "      <td>16</td>\n",
              "      <td>Amritsar, Punjab</td>\n",
              "      <td>2</td>\n",
              "      <td>0.0</td>\n",
              "      <td>INR</td>\n",
              "      <td>+9195316XXXXXX</td>\n",
              "      <td>Debt repayment</td>\n",
              "      <td>kritikaXXXX@XXXXXX.com</td>\n",
              "    </tr>\n",
              "  </tbody>\n",
              "</table>\n",
              "<p>5 rows × 24 columns</p>\n",
              "</div>\n",
              "    <div class=\"colab-df-buttons\">\n",
              "\n",
              "  <div class=\"colab-df-container\">\n",
              "    <button class=\"colab-df-convert\" onclick=\"convertToInteractive('df-cb2b524f-ccdd-4373-90fb-e79b0fbfc17c')\"\n",
              "            title=\"Convert this dataframe to an interactive table.\"\n",
              "            style=\"display:none;\">\n",
              "\n",
              "  <svg xmlns=\"http://www.w3.org/2000/svg\" height=\"24px\" viewBox=\"0 -960 960 960\">\n",
              "    <path d=\"M120-120v-720h720v720H120Zm60-500h600v-160H180v160Zm220 220h160v-160H400v160Zm0 220h160v-160H400v160ZM180-400h160v-160H180v160Zm440 0h160v-160H620v160ZM180-180h160v-160H180v160Zm440 0h160v-160H620v160Z\"/>\n",
              "  </svg>\n",
              "    </button>\n",
              "\n",
              "  <style>\n",
              "    .colab-df-container {\n",
              "      display:flex;\n",
              "      gap: 12px;\n",
              "    }\n",
              "\n",
              "    .colab-df-convert {\n",
              "      background-color: #E8F0FE;\n",
              "      border: none;\n",
              "      border-radius: 50%;\n",
              "      cursor: pointer;\n",
              "      display: none;\n",
              "      fill: #1967D2;\n",
              "      height: 32px;\n",
              "      padding: 0 0 0 0;\n",
              "      width: 32px;\n",
              "    }\n",
              "\n",
              "    .colab-df-convert:hover {\n",
              "      background-color: #E2EBFA;\n",
              "      box-shadow: 0px 1px 2px rgba(60, 64, 67, 0.3), 0px 1px 3px 1px rgba(60, 64, 67, 0.15);\n",
              "      fill: #174EA6;\n",
              "    }\n",
              "\n",
              "    .colab-df-buttons div {\n",
              "      margin-bottom: 4px;\n",
              "    }\n",
              "\n",
              "    [theme=dark] .colab-df-convert {\n",
              "      background-color: #3B4455;\n",
              "      fill: #D2E3FC;\n",
              "    }\n",
              "\n",
              "    [theme=dark] .colab-df-convert:hover {\n",
              "      background-color: #434B5C;\n",
              "      box-shadow: 0px 1px 3px 1px rgba(0, 0, 0, 0.15);\n",
              "      filter: drop-shadow(0px 1px 2px rgba(0, 0, 0, 0.3));\n",
              "      fill: #FFFFFF;\n",
              "    }\n",
              "  </style>\n",
              "\n",
              "    <script>\n",
              "      const buttonEl =\n",
              "        document.querySelector('#df-cb2b524f-ccdd-4373-90fb-e79b0fbfc17c button.colab-df-convert');\n",
              "      buttonEl.style.display =\n",
              "        google.colab.kernel.accessAllowed ? 'block' : 'none';\n",
              "\n",
              "      async function convertToInteractive(key) {\n",
              "        const element = document.querySelector('#df-cb2b524f-ccdd-4373-90fb-e79b0fbfc17c');\n",
              "        const dataTable =\n",
              "          await google.colab.kernel.invokeFunction('convertToInteractive',\n",
              "                                                    [key], {});\n",
              "        if (!dataTable) return;\n",
              "\n",
              "        const docLinkHtml = 'Like what you see? Visit the ' +\n",
              "          '<a target=\"_blank\" href=https://colab.research.google.com/notebooks/data_table.ipynb>data table notebook</a>'\n",
              "          + ' to learn more about interactive tables.';\n",
              "        element.innerHTML = '';\n",
              "        dataTable['output_type'] = 'display_data';\n",
              "        await google.colab.output.renderOutput(dataTable, element);\n",
              "        const docLink = document.createElement('div');\n",
              "        docLink.innerHTML = docLinkHtml;\n",
              "        element.appendChild(docLink);\n",
              "      }\n",
              "    </script>\n",
              "  </div>\n",
              "\n",
              "\n",
              "<div id=\"df-371231d2-823d-487e-8fb5-7a4b78b4b0c8\">\n",
              "  <button class=\"colab-df-quickchart\" onclick=\"quickchart('df-371231d2-823d-487e-8fb5-7a4b78b4b0c8')\"\n",
              "            title=\"Suggest charts\"\n",
              "            style=\"display:none;\">\n",
              "\n",
              "<svg xmlns=\"http://www.w3.org/2000/svg\" height=\"24px\"viewBox=\"0 0 24 24\"\n",
              "     width=\"24px\">\n",
              "    <g>\n",
              "        <path d=\"M19 3H5c-1.1 0-2 .9-2 2v14c0 1.1.9 2 2 2h14c1.1 0 2-.9 2-2V5c0-1.1-.9-2-2-2zM9 17H7v-7h2v7zm4 0h-2V7h2v10zm4 0h-2v-4h2v4z\"/>\n",
              "    </g>\n",
              "</svg>\n",
              "  </button>\n",
              "\n",
              "<style>\n",
              "  .colab-df-quickchart {\n",
              "      --bg-color: #E8F0FE;\n",
              "      --fill-color: #1967D2;\n",
              "      --hover-bg-color: #E2EBFA;\n",
              "      --hover-fill-color: #174EA6;\n",
              "      --disabled-fill-color: #AAA;\n",
              "      --disabled-bg-color: #DDD;\n",
              "  }\n",
              "\n",
              "  [theme=dark] .colab-df-quickchart {\n",
              "      --bg-color: #3B4455;\n",
              "      --fill-color: #D2E3FC;\n",
              "      --hover-bg-color: #434B5C;\n",
              "      --hover-fill-color: #FFFFFF;\n",
              "      --disabled-bg-color: #3B4455;\n",
              "      --disabled-fill-color: #666;\n",
              "  }\n",
              "\n",
              "  .colab-df-quickchart {\n",
              "    background-color: var(--bg-color);\n",
              "    border: none;\n",
              "    border-radius: 50%;\n",
              "    cursor: pointer;\n",
              "    display: none;\n",
              "    fill: var(--fill-color);\n",
              "    height: 32px;\n",
              "    padding: 0;\n",
              "    width: 32px;\n",
              "  }\n",
              "\n",
              "  .colab-df-quickchart:hover {\n",
              "    background-color: var(--hover-bg-color);\n",
              "    box-shadow: 0 1px 2px rgba(60, 64, 67, 0.3), 0 1px 3px 1px rgba(60, 64, 67, 0.15);\n",
              "    fill: var(--button-hover-fill-color);\n",
              "  }\n",
              "\n",
              "  .colab-df-quickchart-complete:disabled,\n",
              "  .colab-df-quickchart-complete:disabled:hover {\n",
              "    background-color: var(--disabled-bg-color);\n",
              "    fill: var(--disabled-fill-color);\n",
              "    box-shadow: none;\n",
              "  }\n",
              "\n",
              "  .colab-df-spinner {\n",
              "    border: 2px solid var(--fill-color);\n",
              "    border-color: transparent;\n",
              "    border-bottom-color: var(--fill-color);\n",
              "    animation:\n",
              "      spin 1s steps(1) infinite;\n",
              "  }\n",
              "\n",
              "  @keyframes spin {\n",
              "    0% {\n",
              "      border-color: transparent;\n",
              "      border-bottom-color: var(--fill-color);\n",
              "      border-left-color: var(--fill-color);\n",
              "    }\n",
              "    20% {\n",
              "      border-color: transparent;\n",
              "      border-left-color: var(--fill-color);\n",
              "      border-top-color: var(--fill-color);\n",
              "    }\n",
              "    30% {\n",
              "      border-color: transparent;\n",
              "      border-left-color: var(--fill-color);\n",
              "      border-top-color: var(--fill-color);\n",
              "      border-right-color: var(--fill-color);\n",
              "    }\n",
              "    40% {\n",
              "      border-color: transparent;\n",
              "      border-right-color: var(--fill-color);\n",
              "      border-top-color: var(--fill-color);\n",
              "    }\n",
              "    60% {\n",
              "      border-color: transparent;\n",
              "      border-right-color: var(--fill-color);\n",
              "    }\n",
              "    80% {\n",
              "      border-color: transparent;\n",
              "      border-right-color: var(--fill-color);\n",
              "      border-bottom-color: var(--fill-color);\n",
              "    }\n",
              "    90% {\n",
              "      border-color: transparent;\n",
              "      border-bottom-color: var(--fill-color);\n",
              "    }\n",
              "  }\n",
              "</style>\n",
              "\n",
              "  <script>\n",
              "    async function quickchart(key) {\n",
              "      const quickchartButtonEl =\n",
              "        document.querySelector('#' + key + ' button');\n",
              "      quickchartButtonEl.disabled = true;  // To prevent multiple clicks.\n",
              "      quickchartButtonEl.classList.add('colab-df-spinner');\n",
              "      try {\n",
              "        const charts = await google.colab.kernel.invokeFunction(\n",
              "            'suggestCharts', [key], {});\n",
              "      } catch (error) {\n",
              "        console.error('Error during call to suggestCharts:', error);\n",
              "      }\n",
              "      quickchartButtonEl.classList.remove('colab-df-spinner');\n",
              "      quickchartButtonEl.classList.add('colab-df-quickchart-complete');\n",
              "    }\n",
              "    (() => {\n",
              "      let quickchartButtonEl =\n",
              "        document.querySelector('#df-371231d2-823d-487e-8fb5-7a4b78b4b0c8 button');\n",
              "      quickchartButtonEl.style.display =\n",
              "        google.colab.kernel.accessAllowed ? 'block' : 'none';\n",
              "    })();\n",
              "  </script>\n",
              "</div>\n",
              "\n",
              "    </div>\n",
              "  </div>\n"
            ],
            "text/plain": [
              "                            Customer_ID        Customer_Name  Gender  Age  \\\n",
              "0  d5f6ec07-d69e-4f47-b9b4-7c58ff17c19e           Osha Tella       1   60   \n",
              "1  7c14ad51-781a-4db9-b7bd-67439c175262      Hredhaan Khosla       0   51   \n",
              "2  3a73a0e5-d4da-45aa-85f3-528413900a35       Ekani Nazareth       1   20   \n",
              "3  7902f4ef-9050-4a79-857d-9c2ea3181940  Yamini Ramachandran       0   57   \n",
              "4  3a4bba70-d9a9-4c5f-8b92-1735fd8c19e9         Kritika Rege       0   43   \n",
              "\n",
              "         State                City                Bank_Branch  Account_Type  \\\n",
              "0       Kerala  Thiruvananthapuram  Thiruvananthapuram Branch             2   \n",
              "1  Maharashtra              Nashik              Nashik Branch             0   \n",
              "2        Bihar           Bhagalpur           Bhagalpur Branch             2   \n",
              "3   Tamil Nadu             Chennai             Chennai Branch             0   \n",
              "4       Punjab            Amritsar            Amritsar Branch             2   \n",
              "\n",
              "                         Transaction_ID Transaction_Date  ...  \\\n",
              "0  4fa3208f-9e23-42dc-b330-844829d0c12c       23-01-2025  ...   \n",
              "1  c9de0c06-2c4c-40a9-97ed-3c7b8f97c79c       11-01-2025  ...   \n",
              "2  e41c55f9-c016-4ff3-872b-cae72467c75c       25-01-2025  ...   \n",
              "3  7f7ee11b-ff2c-45a3-802a-49bc47c02ecb       19-01-2025  ...   \n",
              "4  f8e6ac6f-81a1-4985-bf12-f60967d852ef       30-01-2025  ...   \n",
              "\n",
              "  Merchant_Category  Account_Balance Transaction_Device  \\\n",
              "0                 5         74557.27                 17   \n",
              "1                 5         74622.66                  9   \n",
              "2                 3         66817.99                  0   \n",
              "3                 2         58177.08                  8   \n",
              "4                 2         16108.56                 16   \n",
              "\n",
              "         Transaction_Location  Device_Type  Is_Fraud  Transaction_Currency  \\\n",
              "0  Thiruvananthapuram, Kerala            3       0.0                   INR   \n",
              "1         Nashik, Maharashtra            1       0.0                   INR   \n",
              "2            Bhagalpur, Bihar            1       0.0                   INR   \n",
              "3         Chennai, Tamil Nadu            2       0.0                   INR   \n",
              "4            Amritsar, Punjab            2       0.0                   INR   \n",
              "\n",
              "  Customer_Contact  Transaction_Description           Customer_Email  \n",
              "0   +9198579XXXXXX      Bitcoin transaction      oshaXXXXX@XXXXX.com  \n",
              "1   +9191074XXXXXX         Grocery delivery  hredhaanXXXX@XXXXXX.com  \n",
              "2   +9197745XXXXXX   Mutual fund investment      ekaniXXX@XXXXXX.com  \n",
              "3   +9195889XXXXXX            Food delivery  yaminiXXXXX@XXXXXXX.com  \n",
              "4   +9195316XXXXXX           Debt repayment   kritikaXXXX@XXXXXX.com  \n",
              "\n",
              "[5 rows x 24 columns]"
            ]
          },
          "execution_count": 46,
          "metadata": {},
          "output_type": "execute_result"
        }
      ],
      "source": [
        "## NORMALIZE NUMERICAL FEATURES (Scaling)\n",
        "scaler = StandardScaler()\n",
        "scaler.fit_transform(df[numerical_cols])\n",
        "df.head()"
      ]
    },
    {
      "cell_type": "markdown",
      "metadata": {
        "id": "qrz_Ag_puwF-"
      },
      "source": [
        "#### TRaining the Model"
      ]
    },
    {
      "cell_type": "code",
      "execution_count": 22,
      "metadata": {
        "colab": {
          "base_uri": "https://localhost:8080/"
        },
        "id": "3fRiF-pFuwF_",
        "outputId": "24413270-893c-4669-f45f-bb3469582083"
      },
      "outputs": [
        {
          "data": {
            "text/plain": [
              "(200000, 10)"
            ]
          },
          "execution_count": 22,
          "metadata": {},
          "output_type": "execute_result"
        }
      ],
      "source": [
        "cols_drop = [\"Customer_ID\", \"Customer_Name\", \"Bank_Branch\", \"Transaction_ID\",\"Transaction_Location\", \"Transaction_Date\", \"Transaction_Time\", \"Merchant_ID\", \"Customer_Contact\", \"Customer_Email\", \"State\", \"City\", \"Transaction_Currency\", \"Transaction_Description\"]\n",
        "df.drop(cols_drop, axis=1, inplace=True)\n",
        "df.shape"
      ]
    },
    {
      "cell_type": "code",
      "execution_count": 23,
      "metadata": {
        "id": "oMz_CX0zuwF_"
      },
      "outputs": [],
      "source": [
        "# Identifying features and target variable\n",
        "X = df.drop('Is_Fraud', axis=1)\n",
        "y = df['Is_Fraud']"
      ]
    },
    {
      "cell_type": "code",
      "execution_count": 24,
      "metadata": {
        "id": "ydidPCejuwGA"
      },
      "outputs": [],
      "source": [
        "# Identifying numerical and categorical columns\n",
        "numerical_cols = X.select_dtypes(include=['int64', 'float64']).columns.tolist()\n",
        "categorical_cols = X.select_dtypes(include=['object']).columns.tolist()"
      ]
    },
    {
      "cell_type": "code",
      "execution_count": 26,
      "metadata": {
        "id": "KMUJFgomuwGB"
      },
      "outputs": [],
      "source": [
        "# Creating a Column Transformer for preprocessing\n",
        "preprocessor = ColumnTransformer(\n",
        "    transformers=[\n",
        "        ('num', StandardScaler(), numerical_cols),\n",
        "        ('cat', OneHotEncoder(), categorical_cols)\n",
        "    ])"
      ]
    },
    {
      "cell_type": "code",
      "execution_count": 33,
      "metadata": {
        "colab": {
          "base_uri": "https://localhost:8080/"
        },
        "id": "CmuBi50JuwGs",
        "outputId": "43287dc6-f951-48ec-87fa-4bd03c91e00a"
      },
      "outputs": [
        {
          "name": "stdout",
          "output_type": "stream",
          "text": [
            "(200000, 3)\n"
          ]
        }
      ],
      "source": [
        "# Applying the preprocessing pipeline\n",
        "X_processed = preprocessor.fit_transform(X)\n",
        "\n",
        "# Displaying the shape of the processed features\n",
        "print(X_processed.shape)\n"
      ]
    },
    {
      "cell_type": "code",
      "execution_count": 32,
      "metadata": {
        "colab": {
          "base_uri": "https://localhost:8080/",
          "height": 425
        },
        "id": "1aj07dUUuwGu",
        "outputId": "6c40ef76-cd3d-4845-874b-9fb70ee06357"
      },
      "outputs": [],
      "source": [
        "# # Applying TruncatedSVD with a reduced number of components\n",
        "# svd = TruncatedSVD(n_components=20)  # Retain 20 components\n",
        "# X_svd = svd.fit_transform(X_processed)\n",
        "# X = pd.DataFrame(X_svd)\n",
        "\n",
        "# # Displaying the shape of the SVD transformed features\n",
        "# print(X.shape)"
      ]
    },
    {
      "cell_type": "code",
      "execution_count": 35,
      "metadata": {
        "colab": {
          "base_uri": "https://localhost:8080/",
          "height": 373
        },
        "id": "1y8YnVbzy6XC",
        "outputId": "f553b171-a51d-4808-c17b-aee3a1fed3f4"
      },
      "outputs": [
        {
          "name": "stdout",
          "output_type": "stream",
          "text": [
            "(200000, 3)\n",
            "(200000, 9)\n"
          ]
        }
      ],
      "source": [
        "# Creating a Column Transformer for preprocessing\n",
        "# Imputation should happen in the pipeline before SVD\n",
        "# Numerical features will be imputed with the median\n",
        "# Categorical features will be imputed with the most frequent value\n",
        "# This is done to prevent data leakage during the train test split\n",
        "numerical_pipeline = Pipeline([\n",
        "    ('num_imputer', SimpleImputer(strategy='median')),\n",
        "    ('num_scaler', StandardScaler()),\n",
        "])\n",
        "\n",
        "categorical_pipeline = Pipeline([\n",
        "    ('cat_imputer', SimpleImputer(strategy='most_frequent')),\n",
        "    ('cat_encoder', OneHotEncoder(sparse=False, handle_unknown='ignore')),  # sparse=False for SVD\n",
        "])\n",
        "\n",
        "preprocessor = ColumnTransformer(\n",
        "    transformers=[\n",
        "        ('num', numerical_pipeline, numerical_cols),\n",
        "        ('cat', categorical_pipeline, categorical_cols)\n",
        "    ])\n",
        "\n",
        "# Applying the preprocessing pipeline\n",
        "X_processed = preprocessor.fit_transform(X)\n",
        "\n",
        "# Displaying the shape of the processed features\n",
        "print(X_processed.shape)\n",
        "\n",
        "# # Applying TruncatedSVD with a reduced number of components\n",
        "# svd = TruncatedSVD(n_components=20)  # Retain 20 components\n",
        "# X_svd = svd.fit_transform(X_processed)\n",
        "# X = pd.DataFrame(X_svd)\n",
        "\n",
        "# Displaying the shape of the SVD transformed features\n",
        "print(X.shape)"
      ]
    },
    {
      "cell_type": "code",
      "execution_count": 30,
      "metadata": {
        "id": "GqyK3MTPuwGv"
      },
      "outputs": [],
      "source": [
        "# Splitting the dataset into training and testing sets\n",
        "X_train, X_test, y_train, y_test = train_test_split(X, y, test_size=0.2, random_state=42)"
      ]
    },
    {
      "cell_type": "markdown",
      "metadata": {
        "id": "48GKI4GquwGv"
      },
      "source": [
        "#### Label Encoding"
      ]
    },
    {
      "cell_type": "code",
      "execution_count": null,
      "metadata": {
        "id": "_H61hzJIuwGw"
      },
      "outputs": [],
      "source": [
        "# Encode categorical variables using Label Encoding\n",
        "\n",
        "label_encoders = {}\n",
        "for col in categorical_cols:\n",
        "    le = LabelEncoder()\n",
        "    X[col] = le.fit_transform(X[col])  # Encode categorical values\n",
        "    label_encoders[col] = le  # Save encoder for future use"
      ]
    },
    {
      "cell_type": "markdown",
      "metadata": {
        "id": "-gFd_O9_uwGx"
      },
      "source": [
        "## Modelling"
      ]
    },
    {
      "cell_type": "code",
      "execution_count": null,
      "metadata": {
        "colab": {
          "base_uri": "https://localhost:8080/",
          "height": 425
        },
        "id": "FDW3JQwPuwGx",
        "outputId": "5f4ed933-16df-4d49-b47a-6be02af895d3"
      },
      "outputs": [
        {
          "ename": "ValueError",
          "evalue": "Input X contains NaN.\nLogisticRegression does not accept missing values encoded as NaN natively. For supervised learning, you might want to consider sklearn.ensemble.HistGradientBoostingClassifier and Regressor which accept missing values encoded as NaNs natively. Alternatively, it is possible to preprocess the data, for instance by using an imputer transformer in a pipeline or drop samples with missing values. See https://scikit-learn.org/stable/modules/impute.html You can find a list of all estimators that handle NaN values at the following page: https://scikit-learn.org/stable/modules/impute.html#estimators-that-handle-nan-values",
          "output_type": "error",
          "traceback": [
            "\u001b[0;31m---------------------------------------------------------------------------\u001b[0m",
            "\u001b[0;31mValueError\u001b[0m                                Traceback (most recent call last)",
            "\u001b[0;32m<ipython-input-57-8151103af1c1>\u001b[0m in \u001b[0;36m<cell line: 0>\u001b[0;34m()\u001b[0m\n\u001b[1;32m      1\u001b[0m \u001b[0;31m# TRAIN BASELINE MODEL (LOGISTIC REGRESSION)\u001b[0m\u001b[0;34m\u001b[0m\u001b[0;34m\u001b[0m\u001b[0m\n\u001b[1;32m      2\u001b[0m \u001b[0mlog_reg\u001b[0m \u001b[0;34m=\u001b[0m \u001b[0mLogisticRegression\u001b[0m\u001b[0;34m(\u001b[0m\u001b[0mmax_iter\u001b[0m\u001b[0;34m=\u001b[0m\u001b[0;36m1000\u001b[0m\u001b[0;34m)\u001b[0m\u001b[0;34m\u001b[0m\u001b[0;34m\u001b[0m\u001b[0m\n\u001b[0;32m----> 3\u001b[0;31m \u001b[0mlog_reg\u001b[0m\u001b[0;34m.\u001b[0m\u001b[0mfit\u001b[0m\u001b[0;34m(\u001b[0m\u001b[0mX_train\u001b[0m\u001b[0;34m,\u001b[0m \u001b[0my_train\u001b[0m\u001b[0;34m)\u001b[0m\u001b[0;34m\u001b[0m\u001b[0;34m\u001b[0m\u001b[0m\n\u001b[0m\u001b[1;32m      4\u001b[0m \u001b[0my_pred_log\u001b[0m \u001b[0;34m=\u001b[0m \u001b[0mlog_reg\u001b[0m\u001b[0;34m.\u001b[0m\u001b[0mpredict\u001b[0m\u001b[0;34m(\u001b[0m\u001b[0mX_test\u001b[0m\u001b[0;34m)\u001b[0m\u001b[0;34m\u001b[0m\u001b[0;34m\u001b[0m\u001b[0m\n\u001b[1;32m      5\u001b[0m \u001b[0mprint\u001b[0m\u001b[0;34m(\u001b[0m\u001b[0;34m\"Logistic Regression Performance:\"\u001b[0m\u001b[0;34m)\u001b[0m\u001b[0;34m\u001b[0m\u001b[0;34m\u001b[0m\u001b[0m\n",
            "\u001b[0;32m/usr/local/lib/python3.11/dist-packages/sklearn/base.py\u001b[0m in \u001b[0;36mwrapper\u001b[0;34m(estimator, *args, **kwargs)\u001b[0m\n\u001b[1;32m   1387\u001b[0m                 )\n\u001b[1;32m   1388\u001b[0m             ):\n\u001b[0;32m-> 1389\u001b[0;31m                 \u001b[0;32mreturn\u001b[0m \u001b[0mfit_method\u001b[0m\u001b[0;34m(\u001b[0m\u001b[0mestimator\u001b[0m\u001b[0;34m,\u001b[0m \u001b[0;34m*\u001b[0m\u001b[0margs\u001b[0m\u001b[0;34m,\u001b[0m \u001b[0;34m**\u001b[0m\u001b[0mkwargs\u001b[0m\u001b[0;34m)\u001b[0m\u001b[0;34m\u001b[0m\u001b[0;34m\u001b[0m\u001b[0m\n\u001b[0m\u001b[1;32m   1390\u001b[0m \u001b[0;34m\u001b[0m\u001b[0m\n\u001b[1;32m   1391\u001b[0m         \u001b[0;32mreturn\u001b[0m \u001b[0mwrapper\u001b[0m\u001b[0;34m\u001b[0m\u001b[0;34m\u001b[0m\u001b[0m\n",
            "\u001b[0;32m/usr/local/lib/python3.11/dist-packages/sklearn/linear_model/_logistic.py\u001b[0m in \u001b[0;36mfit\u001b[0;34m(self, X, y, sample_weight)\u001b[0m\n\u001b[1;32m   1220\u001b[0m             \u001b[0m_dtype\u001b[0m \u001b[0;34m=\u001b[0m \u001b[0;34m[\u001b[0m\u001b[0mnp\u001b[0m\u001b[0;34m.\u001b[0m\u001b[0mfloat64\u001b[0m\u001b[0;34m,\u001b[0m \u001b[0mnp\u001b[0m\u001b[0;34m.\u001b[0m\u001b[0mfloat32\u001b[0m\u001b[0;34m]\u001b[0m\u001b[0;34m\u001b[0m\u001b[0;34m\u001b[0m\u001b[0m\n\u001b[1;32m   1221\u001b[0m \u001b[0;34m\u001b[0m\u001b[0m\n\u001b[0;32m-> 1222\u001b[0;31m         X, y = validate_data(\n\u001b[0m\u001b[1;32m   1223\u001b[0m             \u001b[0mself\u001b[0m\u001b[0;34m,\u001b[0m\u001b[0;34m\u001b[0m\u001b[0;34m\u001b[0m\u001b[0m\n\u001b[1;32m   1224\u001b[0m             \u001b[0mX\u001b[0m\u001b[0;34m,\u001b[0m\u001b[0;34m\u001b[0m\u001b[0;34m\u001b[0m\u001b[0m\n",
            "\u001b[0;32m/usr/local/lib/python3.11/dist-packages/sklearn/utils/validation.py\u001b[0m in \u001b[0;36mvalidate_data\u001b[0;34m(_estimator, X, y, reset, validate_separately, skip_check_array, **check_params)\u001b[0m\n\u001b[1;32m   2959\u001b[0m             \u001b[0my\u001b[0m \u001b[0;34m=\u001b[0m \u001b[0mcheck_array\u001b[0m\u001b[0;34m(\u001b[0m\u001b[0my\u001b[0m\u001b[0;34m,\u001b[0m \u001b[0minput_name\u001b[0m\u001b[0;34m=\u001b[0m\u001b[0;34m\"y\"\u001b[0m\u001b[0;34m,\u001b[0m \u001b[0;34m**\u001b[0m\u001b[0mcheck_y_params\u001b[0m\u001b[0;34m)\u001b[0m\u001b[0;34m\u001b[0m\u001b[0;34m\u001b[0m\u001b[0m\n\u001b[1;32m   2960\u001b[0m         \u001b[0;32melse\u001b[0m\u001b[0;34m:\u001b[0m\u001b[0;34m\u001b[0m\u001b[0;34m\u001b[0m\u001b[0m\n\u001b[0;32m-> 2961\u001b[0;31m             \u001b[0mX\u001b[0m\u001b[0;34m,\u001b[0m \u001b[0my\u001b[0m \u001b[0;34m=\u001b[0m \u001b[0mcheck_X_y\u001b[0m\u001b[0;34m(\u001b[0m\u001b[0mX\u001b[0m\u001b[0;34m,\u001b[0m \u001b[0my\u001b[0m\u001b[0;34m,\u001b[0m \u001b[0;34m**\u001b[0m\u001b[0mcheck_params\u001b[0m\u001b[0;34m)\u001b[0m\u001b[0;34m\u001b[0m\u001b[0;34m\u001b[0m\u001b[0m\n\u001b[0m\u001b[1;32m   2962\u001b[0m         \u001b[0mout\u001b[0m \u001b[0;34m=\u001b[0m \u001b[0mX\u001b[0m\u001b[0;34m,\u001b[0m \u001b[0my\u001b[0m\u001b[0;34m\u001b[0m\u001b[0;34m\u001b[0m\u001b[0m\n\u001b[1;32m   2963\u001b[0m \u001b[0;34m\u001b[0m\u001b[0m\n",
            "\u001b[0;32m/usr/local/lib/python3.11/dist-packages/sklearn/utils/validation.py\u001b[0m in \u001b[0;36mcheck_X_y\u001b[0;34m(X, y, accept_sparse, accept_large_sparse, dtype, order, copy, force_writeable, force_all_finite, ensure_all_finite, ensure_2d, allow_nd, multi_output, ensure_min_samples, ensure_min_features, y_numeric, estimator)\u001b[0m\n\u001b[1;32m   1368\u001b[0m     \u001b[0mensure_all_finite\u001b[0m \u001b[0;34m=\u001b[0m \u001b[0m_deprecate_force_all_finite\u001b[0m\u001b[0;34m(\u001b[0m\u001b[0mforce_all_finite\u001b[0m\u001b[0;34m,\u001b[0m \u001b[0mensure_all_finite\u001b[0m\u001b[0;34m)\u001b[0m\u001b[0;34m\u001b[0m\u001b[0;34m\u001b[0m\u001b[0m\n\u001b[1;32m   1369\u001b[0m \u001b[0;34m\u001b[0m\u001b[0m\n\u001b[0;32m-> 1370\u001b[0;31m     X = check_array(\n\u001b[0m\u001b[1;32m   1371\u001b[0m         \u001b[0mX\u001b[0m\u001b[0;34m,\u001b[0m\u001b[0;34m\u001b[0m\u001b[0;34m\u001b[0m\u001b[0m\n\u001b[1;32m   1372\u001b[0m         \u001b[0maccept_sparse\u001b[0m\u001b[0;34m=\u001b[0m\u001b[0maccept_sparse\u001b[0m\u001b[0;34m,\u001b[0m\u001b[0;34m\u001b[0m\u001b[0;34m\u001b[0m\u001b[0m\n",
            "\u001b[0;32m/usr/local/lib/python3.11/dist-packages/sklearn/utils/validation.py\u001b[0m in \u001b[0;36mcheck_array\u001b[0;34m(array, accept_sparse, accept_large_sparse, dtype, order, copy, force_writeable, force_all_finite, ensure_all_finite, ensure_non_negative, ensure_2d, allow_nd, ensure_min_samples, ensure_min_features, estimator, input_name)\u001b[0m\n\u001b[1;32m   1105\u001b[0m \u001b[0;34m\u001b[0m\u001b[0m\n\u001b[1;32m   1106\u001b[0m         \u001b[0;32mif\u001b[0m \u001b[0mensure_all_finite\u001b[0m\u001b[0;34m:\u001b[0m\u001b[0;34m\u001b[0m\u001b[0;34m\u001b[0m\u001b[0m\n\u001b[0;32m-> 1107\u001b[0;31m             _assert_all_finite(\n\u001b[0m\u001b[1;32m   1108\u001b[0m                 \u001b[0marray\u001b[0m\u001b[0;34m,\u001b[0m\u001b[0;34m\u001b[0m\u001b[0;34m\u001b[0m\u001b[0m\n\u001b[1;32m   1109\u001b[0m                 \u001b[0minput_name\u001b[0m\u001b[0;34m=\u001b[0m\u001b[0minput_name\u001b[0m\u001b[0;34m,\u001b[0m\u001b[0;34m\u001b[0m\u001b[0;34m\u001b[0m\u001b[0m\n",
            "\u001b[0;32m/usr/local/lib/python3.11/dist-packages/sklearn/utils/validation.py\u001b[0m in \u001b[0;36m_assert_all_finite\u001b[0;34m(X, allow_nan, msg_dtype, estimator_name, input_name)\u001b[0m\n\u001b[1;32m    118\u001b[0m         \u001b[0;32mreturn\u001b[0m\u001b[0;34m\u001b[0m\u001b[0;34m\u001b[0m\u001b[0m\n\u001b[1;32m    119\u001b[0m \u001b[0;34m\u001b[0m\u001b[0m\n\u001b[0;32m--> 120\u001b[0;31m     _assert_all_finite_element_wise(\n\u001b[0m\u001b[1;32m    121\u001b[0m         \u001b[0mX\u001b[0m\u001b[0;34m,\u001b[0m\u001b[0;34m\u001b[0m\u001b[0;34m\u001b[0m\u001b[0m\n\u001b[1;32m    122\u001b[0m         \u001b[0mxp\u001b[0m\u001b[0;34m=\u001b[0m\u001b[0mxp\u001b[0m\u001b[0;34m,\u001b[0m\u001b[0;34m\u001b[0m\u001b[0;34m\u001b[0m\u001b[0m\n",
            "\u001b[0;32m/usr/local/lib/python3.11/dist-packages/sklearn/utils/validation.py\u001b[0m in \u001b[0;36m_assert_all_finite_element_wise\u001b[0;34m(X, xp, allow_nan, msg_dtype, estimator_name, input_name)\u001b[0m\n\u001b[1;32m    167\u001b[0m                 \u001b[0;34m\"#estimators-that-handle-nan-values\"\u001b[0m\u001b[0;34m\u001b[0m\u001b[0;34m\u001b[0m\u001b[0m\n\u001b[1;32m    168\u001b[0m             )\n\u001b[0;32m--> 169\u001b[0;31m         \u001b[0;32mraise\u001b[0m \u001b[0mValueError\u001b[0m\u001b[0;34m(\u001b[0m\u001b[0mmsg_err\u001b[0m\u001b[0;34m)\u001b[0m\u001b[0;34m\u001b[0m\u001b[0;34m\u001b[0m\u001b[0m\n\u001b[0m\u001b[1;32m    170\u001b[0m \u001b[0;34m\u001b[0m\u001b[0m\n\u001b[1;32m    171\u001b[0m \u001b[0;34m\u001b[0m\u001b[0m\n",
            "\u001b[0;31mValueError\u001b[0m: Input X contains NaN.\nLogisticRegression does not accept missing values encoded as NaN natively. For supervised learning, you might want to consider sklearn.ensemble.HistGradientBoostingClassifier and Regressor which accept missing values encoded as NaNs natively. Alternatively, it is possible to preprocess the data, for instance by using an imputer transformer in a pipeline or drop samples with missing values. See https://scikit-learn.org/stable/modules/impute.html You can find a list of all estimators that handle NaN values at the following page: https://scikit-learn.org/stable/modules/impute.html#estimators-that-handle-nan-values"
          ]
        }
      ],
      "source": [
        "# TRAIN BASELINE MODEL (LOGISTIC REGRESSION)\n",
        "log_reg = LogisticRegression(max_iter=1000)\n",
        "log_reg.fit(X_train, y_train)\n",
        "y_pred_log = log_reg.predict(X_test)\n",
        "print(\"Logistic Regression Performance:\")\n",
        "print(classification_report(y_test, y_pred_log))"
      ]
    },
    {
      "cell_type": "code",
      "execution_count": null,
      "metadata": {
        "colab": {
          "base_uri": "https://localhost:8080/",
          "height": 356
        },
        "id": "l23sjmWJuwGy",
        "outputId": "d18d3a80-a3a1-416d-c53e-8a0ab964db9d"
      },
      "outputs": [
        {
          "ename": "ValueError",
          "evalue": "Input y contains NaN.",
          "output_type": "error",
          "traceback": [
            "\u001b[0;31m---------------------------------------------------------------------------\u001b[0m",
            "\u001b[0;31mValueError\u001b[0m                                Traceback (most recent call last)",
            "\u001b[0;32m<ipython-input-58-3470c96230b0>\u001b[0m in \u001b[0;36m<cell line: 0>\u001b[0;34m()\u001b[0m\n\u001b[1;32m      1\u001b[0m \u001b[0;31m# Decision tree\u001b[0m\u001b[0;34m\u001b[0m\u001b[0;34m\u001b[0m\u001b[0m\n\u001b[1;32m      2\u001b[0m \u001b[0mmodel2\u001b[0m \u001b[0;34m=\u001b[0m \u001b[0mDecisionTreeClassifier\u001b[0m\u001b[0;34m(\u001b[0m\u001b[0;34m)\u001b[0m\u001b[0;34m\u001b[0m\u001b[0;34m\u001b[0m\u001b[0m\n\u001b[0;32m----> 3\u001b[0;31m \u001b[0mmodel2\u001b[0m\u001b[0;34m.\u001b[0m\u001b[0mfit\u001b[0m\u001b[0;34m(\u001b[0m\u001b[0mX_train\u001b[0m\u001b[0;34m,\u001b[0m \u001b[0my_train\u001b[0m\u001b[0;34m)\u001b[0m\u001b[0;34m\u001b[0m\u001b[0;34m\u001b[0m\u001b[0m\n\u001b[0m\u001b[1;32m      4\u001b[0m \u001b[0;34m\u001b[0m\u001b[0m\n\u001b[1;32m      5\u001b[0m \u001b[0;31m# model prediction\u001b[0m\u001b[0;34m\u001b[0m\u001b[0;34m\u001b[0m\u001b[0m\n",
            "\u001b[0;32m/usr/local/lib/python3.11/dist-packages/sklearn/base.py\u001b[0m in \u001b[0;36mwrapper\u001b[0;34m(estimator, *args, **kwargs)\u001b[0m\n\u001b[1;32m   1387\u001b[0m                 )\n\u001b[1;32m   1388\u001b[0m             ):\n\u001b[0;32m-> 1389\u001b[0;31m                 \u001b[0;32mreturn\u001b[0m \u001b[0mfit_method\u001b[0m\u001b[0;34m(\u001b[0m\u001b[0mestimator\u001b[0m\u001b[0;34m,\u001b[0m \u001b[0;34m*\u001b[0m\u001b[0margs\u001b[0m\u001b[0;34m,\u001b[0m \u001b[0;34m**\u001b[0m\u001b[0mkwargs\u001b[0m\u001b[0;34m)\u001b[0m\u001b[0;34m\u001b[0m\u001b[0;34m\u001b[0m\u001b[0m\n\u001b[0m\u001b[1;32m   1390\u001b[0m \u001b[0;34m\u001b[0m\u001b[0m\n\u001b[1;32m   1391\u001b[0m         \u001b[0;32mreturn\u001b[0m \u001b[0mwrapper\u001b[0m\u001b[0;34m\u001b[0m\u001b[0;34m\u001b[0m\u001b[0m\n",
            "\u001b[0;32m/usr/local/lib/python3.11/dist-packages/sklearn/tree/_classes.py\u001b[0m in \u001b[0;36mfit\u001b[0;34m(self, X, y, sample_weight, check_input)\u001b[0m\n\u001b[1;32m   1022\u001b[0m         \"\"\"\n\u001b[1;32m   1023\u001b[0m \u001b[0;34m\u001b[0m\u001b[0m\n\u001b[0;32m-> 1024\u001b[0;31m         super()._fit(\n\u001b[0m\u001b[1;32m   1025\u001b[0m             \u001b[0mX\u001b[0m\u001b[0;34m,\u001b[0m\u001b[0;34m\u001b[0m\u001b[0;34m\u001b[0m\u001b[0m\n\u001b[1;32m   1026\u001b[0m             \u001b[0my\u001b[0m\u001b[0;34m,\u001b[0m\u001b[0;34m\u001b[0m\u001b[0;34m\u001b[0m\u001b[0m\n",
            "\u001b[0;32m/usr/local/lib/python3.11/dist-packages/sklearn/tree/_classes.py\u001b[0m in \u001b[0;36m_fit\u001b[0;34m(self, X, y, sample_weight, check_input, missing_values_in_feature_mask)\u001b[0m\n\u001b[1;32m    250\u001b[0m             )\n\u001b[1;32m    251\u001b[0m             \u001b[0mcheck_y_params\u001b[0m \u001b[0;34m=\u001b[0m \u001b[0mdict\u001b[0m\u001b[0;34m(\u001b[0m\u001b[0mensure_2d\u001b[0m\u001b[0;34m=\u001b[0m\u001b[0;32mFalse\u001b[0m\u001b[0;34m,\u001b[0m \u001b[0mdtype\u001b[0m\u001b[0;34m=\u001b[0m\u001b[0;32mNone\u001b[0m\u001b[0;34m)\u001b[0m\u001b[0;34m\u001b[0m\u001b[0;34m\u001b[0m\u001b[0m\n\u001b[0;32m--> 252\u001b[0;31m             X, y = validate_data(\n\u001b[0m\u001b[1;32m    253\u001b[0m                 \u001b[0mself\u001b[0m\u001b[0;34m,\u001b[0m \u001b[0mX\u001b[0m\u001b[0;34m,\u001b[0m \u001b[0my\u001b[0m\u001b[0;34m,\u001b[0m \u001b[0mvalidate_separately\u001b[0m\u001b[0;34m=\u001b[0m\u001b[0;34m(\u001b[0m\u001b[0mcheck_X_params\u001b[0m\u001b[0;34m,\u001b[0m \u001b[0mcheck_y_params\u001b[0m\u001b[0;34m)\u001b[0m\u001b[0;34m\u001b[0m\u001b[0;34m\u001b[0m\u001b[0m\n\u001b[1;32m    254\u001b[0m             )\n",
            "\u001b[0;32m/usr/local/lib/python3.11/dist-packages/sklearn/utils/validation.py\u001b[0m in \u001b[0;36mvalidate_data\u001b[0;34m(_estimator, X, y, reset, validate_separately, skip_check_array, **check_params)\u001b[0m\n\u001b[1;32m   2957\u001b[0m             \u001b[0;32mif\u001b[0m \u001b[0;34m\"estimator\"\u001b[0m \u001b[0;32mnot\u001b[0m \u001b[0;32min\u001b[0m \u001b[0mcheck_y_params\u001b[0m\u001b[0;34m:\u001b[0m\u001b[0;34m\u001b[0m\u001b[0;34m\u001b[0m\u001b[0m\n\u001b[1;32m   2958\u001b[0m                 \u001b[0mcheck_y_params\u001b[0m \u001b[0;34m=\u001b[0m \u001b[0;34m{\u001b[0m\u001b[0;34m**\u001b[0m\u001b[0mdefault_check_params\u001b[0m\u001b[0;34m,\u001b[0m \u001b[0;34m**\u001b[0m\u001b[0mcheck_y_params\u001b[0m\u001b[0;34m}\u001b[0m\u001b[0;34m\u001b[0m\u001b[0;34m\u001b[0m\u001b[0m\n\u001b[0;32m-> 2959\u001b[0;31m             \u001b[0my\u001b[0m \u001b[0;34m=\u001b[0m \u001b[0mcheck_array\u001b[0m\u001b[0;34m(\u001b[0m\u001b[0my\u001b[0m\u001b[0;34m,\u001b[0m \u001b[0minput_name\u001b[0m\u001b[0;34m=\u001b[0m\u001b[0;34m\"y\"\u001b[0m\u001b[0;34m,\u001b[0m \u001b[0;34m**\u001b[0m\u001b[0mcheck_y_params\u001b[0m\u001b[0;34m)\u001b[0m\u001b[0;34m\u001b[0m\u001b[0;34m\u001b[0m\u001b[0m\n\u001b[0m\u001b[1;32m   2960\u001b[0m         \u001b[0;32melse\u001b[0m\u001b[0;34m:\u001b[0m\u001b[0;34m\u001b[0m\u001b[0;34m\u001b[0m\u001b[0m\n\u001b[1;32m   2961\u001b[0m             \u001b[0mX\u001b[0m\u001b[0;34m,\u001b[0m \u001b[0my\u001b[0m \u001b[0;34m=\u001b[0m \u001b[0mcheck_X_y\u001b[0m\u001b[0;34m(\u001b[0m\u001b[0mX\u001b[0m\u001b[0;34m,\u001b[0m \u001b[0my\u001b[0m\u001b[0;34m,\u001b[0m \u001b[0;34m**\u001b[0m\u001b[0mcheck_params\u001b[0m\u001b[0;34m)\u001b[0m\u001b[0;34m\u001b[0m\u001b[0;34m\u001b[0m\u001b[0m\n",
            "\u001b[0;32m/usr/local/lib/python3.11/dist-packages/sklearn/utils/validation.py\u001b[0m in \u001b[0;36mcheck_array\u001b[0;34m(array, accept_sparse, accept_large_sparse, dtype, order, copy, force_writeable, force_all_finite, ensure_all_finite, ensure_non_negative, ensure_2d, allow_nd, ensure_min_samples, ensure_min_features, estimator, input_name)\u001b[0m\n\u001b[1;32m   1105\u001b[0m \u001b[0;34m\u001b[0m\u001b[0m\n\u001b[1;32m   1106\u001b[0m         \u001b[0;32mif\u001b[0m \u001b[0mensure_all_finite\u001b[0m\u001b[0;34m:\u001b[0m\u001b[0;34m\u001b[0m\u001b[0;34m\u001b[0m\u001b[0m\n\u001b[0;32m-> 1107\u001b[0;31m             _assert_all_finite(\n\u001b[0m\u001b[1;32m   1108\u001b[0m                 \u001b[0marray\u001b[0m\u001b[0;34m,\u001b[0m\u001b[0;34m\u001b[0m\u001b[0;34m\u001b[0m\u001b[0m\n\u001b[1;32m   1109\u001b[0m                 \u001b[0minput_name\u001b[0m\u001b[0;34m=\u001b[0m\u001b[0minput_name\u001b[0m\u001b[0;34m,\u001b[0m\u001b[0;34m\u001b[0m\u001b[0;34m\u001b[0m\u001b[0m\n",
            "\u001b[0;32m/usr/local/lib/python3.11/dist-packages/sklearn/utils/validation.py\u001b[0m in \u001b[0;36m_assert_all_finite\u001b[0;34m(X, allow_nan, msg_dtype, estimator_name, input_name)\u001b[0m\n\u001b[1;32m    118\u001b[0m         \u001b[0;32mreturn\u001b[0m\u001b[0;34m\u001b[0m\u001b[0;34m\u001b[0m\u001b[0m\n\u001b[1;32m    119\u001b[0m \u001b[0;34m\u001b[0m\u001b[0m\n\u001b[0;32m--> 120\u001b[0;31m     _assert_all_finite_element_wise(\n\u001b[0m\u001b[1;32m    121\u001b[0m         \u001b[0mX\u001b[0m\u001b[0;34m,\u001b[0m\u001b[0;34m\u001b[0m\u001b[0;34m\u001b[0m\u001b[0m\n\u001b[1;32m    122\u001b[0m         \u001b[0mxp\u001b[0m\u001b[0;34m=\u001b[0m\u001b[0mxp\u001b[0m\u001b[0;34m,\u001b[0m\u001b[0;34m\u001b[0m\u001b[0;34m\u001b[0m\u001b[0m\n",
            "\u001b[0;32m/usr/local/lib/python3.11/dist-packages/sklearn/utils/validation.py\u001b[0m in \u001b[0;36m_assert_all_finite_element_wise\u001b[0;34m(X, xp, allow_nan, msg_dtype, estimator_name, input_name)\u001b[0m\n\u001b[1;32m    167\u001b[0m                 \u001b[0;34m\"#estimators-that-handle-nan-values\"\u001b[0m\u001b[0;34m\u001b[0m\u001b[0;34m\u001b[0m\u001b[0m\n\u001b[1;32m    168\u001b[0m             )\n\u001b[0;32m--> 169\u001b[0;31m         \u001b[0;32mraise\u001b[0m \u001b[0mValueError\u001b[0m\u001b[0;34m(\u001b[0m\u001b[0mmsg_err\u001b[0m\u001b[0;34m)\u001b[0m\u001b[0;34m\u001b[0m\u001b[0;34m\u001b[0m\u001b[0m\n\u001b[0m\u001b[1;32m    170\u001b[0m \u001b[0;34m\u001b[0m\u001b[0m\n\u001b[1;32m    171\u001b[0m \u001b[0;34m\u001b[0m\u001b[0m\n",
            "\u001b[0;31mValueError\u001b[0m: Input y contains NaN."
          ]
        }
      ],
      "source": [
        "# Decision tree\n",
        "model2 = DecisionTreeClassifier()\n",
        "model2.fit(X_train, y_train)\n",
        "\n",
        "# model prediction\n",
        "y_pred_train2 = model2.predict(X_train)\n",
        "y_pred_test2 = model2.predict(X_test)\n",
        "\n",
        "print('Decision tree score =',round(metrics.accuracy_score(y_test, y_pred_test2)*100,2))\n",
        "print(\" \")\n",
        "print(classification_report(y_test, y_pred_test2))"
      ]
    },
    {
      "cell_type": "code",
      "execution_count": null,
      "metadata": {
        "id": "jlwi3NQwuwGz"
      },
      "outputs": [],
      "source": [
        "# rf= RandomForestClassifier(class_weight='balanced', random_state=42)\n",
        "\n",
        "# Random Forest\n",
        "model3 = RandomForestClassifier(n_estimators=100)\n",
        "model3.fit(X_train, y_train)\n",
        "\n",
        "# model prediction\n",
        "y_pred_train3 = model3.predict(X_train)\n",
        "y_pred_test3 = model3.predict(X_test)\n",
        "\n",
        "# model evaluation\n",
        "print('Random forest score =',round(metrics.accuracy_score(y_test, y_pred_test3)*100,2))\n",
        "print(\" \")\n",
        "print(classification_report(y_test, y_pred_test3))"
      ]
    },
    {
      "cell_type": "code",
      "execution_count": null,
      "metadata": {
        "id": "nw_cyPBQuwG0"
      },
      "outputs": [],
      "source": [
        "### FINAL ACCURACY CHECK\n",
        "print(f\"Logistic Regression Accuracy: {accuracy_score(y_test, y_pred_log):.5f}\")\n",
        "print(f\"Random Forest Accuracy: {accuracy_score(y_test, y_pred_rf):.5f}\")\n",
        "print(f\"Decision tree score: {accuracy_score(y_test, y_pred_test2):.5f}\")\n"
      ]
    },
    {
      "cell_type": "code",
      "execution_count": null,
      "metadata": {
        "id": "acCj1D6muwG0"
      },
      "outputs": [],
      "source": [
        "### FINAL ACCURACY CHECK\n",
        "print(f\"Logistic Regression Accuracy: {accuracy_score(y_test, y_pred_log):.5f}\")\n",
        "print(f\"Random Forest Accuracy: {accuracy_score(y_test, y_pred_rf):.5f}\")\n",
        "print(f\"Decision tree score: {accuracy_score(y_test, y_pred_test2):.5f}\")"
      ]
    },
    {
      "cell_type": "markdown",
      "metadata": {
        "id": "F7zTD2aquwG1"
      },
      "source": [
        "#### XGBoost\n"
      ]
    },
    {
      "cell_type": "code",
      "execution_count": null,
      "metadata": {
        "id": "2SNVJJHG0Xj8"
      },
      "outputs": [],
      "source": [
        "# Splitting the dataset into training and splitting\n",
        "X_train, X_test, y_train, y_test = train_test_split(X, y, test_size=0.2, random_state=42)"
      ]
    },
    {
      "cell_type": "code",
      "execution_count": 45,
      "metadata": {
        "colab": {
          "base_uri": "https://localhost:8080/",
          "height": 254
        },
        "id": "lCShCZoGC0JO",
        "outputId": "0ee6122e-0101-4598-bf24-58d563b61f61"
      },
      "outputs": [
        {
          "data": {
            "text/plain": [
              "18.89307472336193"
            ]
          },
          "execution_count": 45,
          "metadata": {},
          "output_type": "execute_result"
        }
      ],
      "source": [
        "# calculates the class imbalance ratio and assigns it to scale_pos_weight in XGBoostClassifier\n",
        "ratio = float(np.sum(y_train == 0)) / np.sum(y_train == 1)\n",
        "model = xgb.XGBClassifier(scale_pos_weight=ratio, random_state=42)\n",
        "ratio"
      ]
    },
    {
      "cell_type": "code",
      "execution_count": 46,
      "metadata": {
        "id": "b2-Ye0V8Fw0w"
      },
      "outputs": [],
      "source": [
        "# Create a base XGBoost classifier\n",
        "xgb_model = xgb.XGBClassifier(\n",
        "    objective='binary:logistic',  # Binary classification (fraud vs. non-fraud)\n",
        "    learning_rate=0.1,\n",
        "    max_depth=5,\n",
        "    n_estimators=100,\n",
        "    subsample=0.8,\n",
        "    colsample_bytree=0.8,\n",
        "    eval_metric='logloss',\n",
        "    use_label_encoder=False,\n",
        "    scale_pos_weight=18.89307472336193,\n",
        "    random_state=42\n",
        ")"
      ]
    },
    {
      "cell_type": "code",
      "execution_count": 47,
      "metadata": {
        "id": "eJQ5euxGuwG2"
      },
      "outputs": [],
      "source": [
        "# Define preprocessing steps\n",
        "preprocessor = ColumnTransformer([\n",
        "    (\"num\", Pipeline([\n",
        "        (\"scaler\", StandardScaler())  # Normalize numerical features\n",
        "    ]), numerical_cols),\n",
        "\n",
        "    (\"cat\", Pipeline([\n",
        "        (\"encoder\", OneHotEncoder(handle_unknown=\"ignore\"))  # Encode categorical features\n",
        "    ]), categorical_cols)\n",
        "])"
      ]
    },
    {
      "cell_type": "code",
      "execution_count": 48,
      "metadata": {
        "colab": {
          "base_uri": "https://localhost:8080/",
          "height": 356
        },
        "id": "MwLXIRQGHZH-",
        "outputId": "77417df3-4fc1-4803-f8dd-f850cb569f2c"
      },
      "outputs": [
        {
          "name": "stderr",
          "output_type": "stream",
          "text": [
            "c:\\Users\\user\\anaconda3\\envs\\learn-env\\lib\\site-packages\\xgboost\\core.py:158: UserWarning: [21:12:47] WARNING: C:\\buildkite-agent\\builds\\buildkite-windows-cpu-autoscaling-group-i-08cbc0333d8d4aae1-1\\xgboost\\xgboost-ci-windows\\src\\learner.cc:740: \n",
            "Parameters: { \"use_label_encoder\" } are not used.\n",
            "\n",
            "  warnings.warn(smsg, UserWarning)\n"
          ]
        },
        {
          "data": {
            "text/plain": [
              "Pipeline(steps=[('preprocessor',\n",
              "                 ColumnTransformer(transformers=[('num',\n",
              "                                                  Pipeline(steps=[('scaler',\n",
              "                                                                   StandardScaler())]),\n",
              "                                                  ['Age', 'Transaction_Amount',\n",
              "                                                   'Account_Balance']),\n",
              "                                                 ('cat',\n",
              "                                                  Pipeline(steps=[('encoder',\n",
              "                                                                   OneHotEncoder(handle_unknown='ignore'))]),\n",
              "                                                  [])])),\n",
              "                ('classifier',\n",
              "                 XGBClassifier(base_score=None, booster=None, callbacks=None,\n",
              "                               colsample_bylevel=None, colsamp...\n",
              "                               feature_types=None, gamma=None, grow_policy=None,\n",
              "                               importance_type=None,\n",
              "                               interaction_constraints=None, learning_rate=0.1,\n",
              "                               max_bin=None, max_cat_threshold=None,\n",
              "                               max_cat_to_onehot=None, max_delta_step=None,\n",
              "                               max_depth=5, max_leaves=None,\n",
              "                               min_child_weight=None, missing=nan,\n",
              "                               monotone_constraints=None, multi_strategy=None,\n",
              "                               n_estimators=100, n_jobs=None,\n",
              "                               num_parallel_tree=None, random_state=42, ...))])"
            ]
          },
          "execution_count": 48,
          "metadata": {},
          "output_type": "execute_result"
        }
      ],
      "source": [
        "# Define the ML Pipeline\n",
        "pipeline = Pipeline(steps=[\n",
        "    (\"preprocessor\", preprocessor),\n",
        "    (\"classifier\", xgb_model)\n",
        "])\n",
        "\n",
        "# Train the Model\n",
        "y_train = y_train.fillna(y_train.mode()[0]).astype(int) #Impute missing values in y_train and convert to integers\n",
        "\n",
        "# Retrain the pipeline\n",
        "pipeline.fit(X_train, y_train)"
      ]
    },
    {
      "cell_type": "code",
      "execution_count": 51,
      "metadata": {
        "colab": {
          "base_uri": "https://localhost:8080/"
        },
        "id": "Gt5bAq9YJ3z-",
        "outputId": "15bef897-9fe5-4fc1-cbda-3b710146ab4e"
      },
      "outputs": [
        {
          "name": "stderr",
          "output_type": "stream",
          "text": [
            "c:\\Users\\user\\anaconda3\\envs\\learn-env\\lib\\site-packages\\xgboost\\core.py:158: UserWarning: [21:16:19] WARNING: C:\\buildkite-agent\\builds\\buildkite-windows-cpu-autoscaling-group-i-08cbc0333d8d4aae1-1\\xgboost\\xgboost-ci-windows\\src\\learner.cc:740: \n",
            "Parameters: { \"use_label_encoder\" } are not used.\n",
            "\n",
            "  warnings.warn(smsg, UserWarning)\n"
          ]
        },
        {
          "name": "stdout",
          "output_type": "stream",
          "text": [
            "\n",
            "### XGBoost Model Performance ###\n",
            "Accuracy: 0.94885\n",
            "ROC AUC Score: 0.4999868265050718\n",
            "              precision    recall  f1-score   support\n",
            "\n",
            "           0       0.95      1.00      0.97     37955\n",
            "           1       0.00      0.00      0.00      2045\n",
            "\n",
            "    accuracy                           0.95     40000\n",
            "   macro avg       0.47      0.50      0.49     40000\n",
            "weighted avg       0.90      0.95      0.92     40000\n",
            "\n"
          ]
        }
      ],
      "source": [
        "# xgboost\n",
        "xgb_model = xgb.XGBClassifier(use_label_encoder=False, scale_pos_weight=1, eval_metric='logloss', random_state=42)\n",
        "xgb_model.fit(X_train, y_train)\n",
        "\n",
        "# Model Predictions\n",
        "xgb_preds = xgb_model.predict(X_test)\n",
        "\n",
        "# Evaluation\n",
        "print(\"\\n### XGBoost Model Performance ###\")\n",
        "print(\"Accuracy:\", accuracy_score(y_test, xgb_preds))\n",
        "print(\"ROC AUC Score:\", roc_auc_score(y_test, xgb_preds))\n",
        "print(classification_report(y_test, xgb_preds))"
      ]
    },
    {
      "cell_type": "code",
      "execution_count": null,
      "metadata": {
        "id": "wQ-FVBR9LMwJ"
      },
      "outputs": [],
      "source": [
        "# Calculate confusion matrix after making predictions\n",
        "conf_matrix = confusion_matrix(y_test, xgb_preds)"
      ]
    },
    {
      "cell_type": "code",
      "execution_count": null,
      "metadata": {
        "colab": {
          "base_uri": "https://localhost:8080/",
          "height": 607
        },
        "id": "SsEz6piPuwG6",
        "outputId": "e3f4d52d-0347-4f1f-c1b2-02910a3a7464"
      },
      "outputs": [
        {
          "data": {
            "image/png": "[encoded data removed]",
            "text/plain": [
              "<Figure size 800x600 with 2 Axes>"
            ]
          },
          "metadata": {},
          "output_type": "display_data"
        }
      ],
      "source": [
        "# Plot confusion matrix\n",
        "plt.figure(figsize=(8, 6))\n",
        "sns.heatmap(conf_matrix, annot=True, fmt='d', cmap='Blues',\n",
        "            xticklabels=['Non-Fraud','Fraud'],\n",
        "            yticklabels=['Non-Fraud','Fraud'])\n",
        "plt.xlabel('Predicted')\n",
        "plt.ylabel('Actual')\n",
        "plt.title('Confusion Matrix')\n",
        "plt.tight_layout()\n",
        "plt.show()"
      ]
    },
    {
      "cell_type": "code",
      "execution_count": null,
      "metadata": {
        "colab": {
          "base_uri": "https://localhost:8080/",
          "height": 522
        },
        "id": "Je7qpLd-MAZG",
        "outputId": "27b46e32-e8d3-4562-a44a-ddada4f321eb"
      },
      "outputs": [
        {
          "data": {
            "text/plain": [
              "<Figure size 1000x600 with 0 Axes>"
            ]
          },
          "metadata": {},
          "output_type": "display_data"
        },
        {
          "data": {
            "image/png": "[encoded data removed]",
            "text/plain": [
              "<Figure size 640x480 with 1 Axes>"
            ]
          },
          "metadata": {},
          "output_type": "display_data"
        },
        {
          "name": "stdout",
          "output_type": "stream",
          "text": [
            " \n"
          ]
        }
      ],
      "source": [
        "# To know which features contribute the most to the model's predictions\n",
        "# Plot feature importance\n",
        "plt.figure(figsize=(10, 6))\n",
        "xgb.plot_importance(xgb_model)\n",
        "plt.title('Feature Importance')\n",
        "plt.tight_layout()\n",
        "plt.show()\n",
        "print(\" \")"
      ]
    },
    {
      "cell_type": "markdown",
      "metadata": {
        "id": "WeqWYnW3uwG_"
      },
      "source": [
        "#### LightGBM"
      ]
    },
    {
      "cell_type": "code",
      "execution_count": null,
      "metadata": {
        "id": "qCUvhliTuwHA"
      },
      "outputs": [],
      "source": [
        "# =================== LightGBM Model ===================\n",
        "lgb_model = lgb.LGBMClassifier(random_state=42)\n",
        "lgb_model.fit(X_train, y_train)\n",
        "\n",
        "# Predictions\n",
        "lgb_preds = lgb_model.predict(X_test)\n",
        "\n",
        "# Evaluation\n",
        "print(\"\\n### LightGBM Model Performance ###\")\n",
        "print(\"Accuracy:\", accuracy_score(y_test, lgb_preds))\n",
        "print(\"ROC AUC Score:\", roc_auc_score(y_test, lgb_preds))\n",
        "print(classification_report(y_test, lgb_preds))"
      ]
    }
  ],
  "metadata": {
    "colab": {
      "provenance": []
    },
    "kernelspec": {
      "display_name": "Python (learn-env)",
      "language": "python",
      "name": "learn-env"
    },
    "language_info": {
      "codemirror_mode": {
        "name": "ipython",
        "version": 3
      },
      "file_extension": ".py",
      "mimetype": "text/x-python",
      "name": "python",
      "nbconvert_exporter": "python",
      "pygments_lexer": "ipython3",
      "version": "3.8.5"
    }
  },
  "nbformat": 4,
  "nbformat_minor": 0
}
