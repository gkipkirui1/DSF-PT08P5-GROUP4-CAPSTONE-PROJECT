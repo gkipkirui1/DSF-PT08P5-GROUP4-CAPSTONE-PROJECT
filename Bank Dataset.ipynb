{
 "cells": [
  {
   "cell_type": "markdown",
   "metadata": {},
   "source": [
    "## Types of cards Fraud\n",
    "The most common types of card fraud include the following:\n",
    "\n",
    "Card Theft Scams – Occur when a fraudster steals cards or card information e.g. through shoulder surfing or robbery and tries to use it to purchase goods or services.\n",
    "\n",
    "Skimming – occurs when payment card reader hardware such as ATMs or Points of Sale, are modified to hold a masked counterfeit card reader within it. The counterfeit card reader records all the data on the card including any PINs keyed in to pass a transaction. Card skimmers are generally difficult to identify thus customers are advised to use ATMs in well-lit secure areas and POS systems in trusted environments.\n",
    "\n",
    "Fake Call Fraud (Social Engineering) – Scammers will call you acting as employees of I&M Bank and will try to convince you to give your card information over the call.\n",
    "\n",
    "Application Fraud – This occurs when fraudsters apply for a card in your name. As a form of identity theft, the fraudster will try to use your personal information to get a debit /credit card.\n"
   ]
  },
  {
   "cell_type": "markdown",
   "metadata": {},
   "source": [
    "## Data Loading"
   ]
  },
  {
   "cell_type": "markdown",
   "metadata": {},
   "source": [
    "\n",
    " Data Source \n",
    "\n",
    "The data was sourced from\n",
    "https://www.kaggle.com/datasets/marusagar/bank-transaction-fraud-detection\n"
   ]
  },
  {
   "cell_type": "code",
   "execution_count": 42,
   "metadata": {},
   "outputs": [],
   "source": [
    "#importing libraries\n",
    "import zipfile\n",
    "import pandas as pd\n",
    "import numpy as np\n",
    "import seaborn as sns\n",
    "import matplotlib.pyplot as plt\n",
    "import zipfile\n",
    "import os"
   ]
  },
  {
   "cell_type": "code",
   "execution_count": 43,
   "metadata": {},
   "outputs": [],
   "source": [
    "#Unzipping the dataset\n",
    "df = pd.read_csv(\"Bank Dataset.zip\", compression=\"zip\")"
   ]
  },
  {
   "cell_type": "markdown",
   "metadata": {},
   "source": [
    "## Data Understanding"
   ]
  },
  {
   "cell_type": "code",
   "execution_count": 44,
   "metadata": {},
   "outputs": [
    {
     "name": "stdout",
     "output_type": "stream",
     "text": [
      "                            Customer_ID        Customer_Name  Gender  Age  \\\n",
      "0  d5f6ec07-d69e-4f47-b9b4-7c58ff17c19e           Osha Tella    Male   60   \n",
      "1  7c14ad51-781a-4db9-b7bd-67439c175262      Hredhaan Khosla  Female   51   \n",
      "2  3a73a0e5-d4da-45aa-85f3-528413900a35       Ekani Nazareth    Male   20   \n",
      "3  7902f4ef-9050-4a79-857d-9c2ea3181940  Yamini Ramachandran  Female   57   \n",
      "4  3a4bba70-d9a9-4c5f-8b92-1735fd8c19e9         Kritika Rege  Female   43   \n",
      "\n",
      "         State                City                Bank_Branch Account_Type  \\\n",
      "0       Kerala  Thiruvananthapuram  Thiruvananthapuram Branch      Savings   \n",
      "1  Maharashtra              Nashik              Nashik Branch     Business   \n",
      "2        Bihar           Bhagalpur           Bhagalpur Branch      Savings   \n",
      "3   Tamil Nadu             Chennai             Chennai Branch     Business   \n",
      "4       Punjab            Amritsar            Amritsar Branch      Savings   \n",
      "\n",
      "                         Transaction_ID Transaction_Date  ...  \\\n",
      "0  4fa3208f-9e23-42dc-b330-844829d0c12c       23-01-2025  ...   \n",
      "1  c9de0c06-2c4c-40a9-97ed-3c7b8f97c79c       11-01-2025  ...   \n",
      "2  e41c55f9-c016-4ff3-872b-cae72467c75c       25-01-2025  ...   \n",
      "3  7f7ee11b-ff2c-45a3-802a-49bc47c02ecb       19-01-2025  ...   \n",
      "4  f8e6ac6f-81a1-4985-bf12-f60967d852ef       30-01-2025  ...   \n",
      "\n",
      "  Merchant_Category  Account_Balance Transaction_Device  \\\n",
      "0        Restaurant         74557.27    Voice Assistant   \n",
      "1        Restaurant         74622.66  POS Mobile Device   \n",
      "2         Groceries         66817.99                ATM   \n",
      "3     Entertainment         58177.08     POS Mobile App   \n",
      "4     Entertainment         16108.56       Virtual Card   \n",
      "\n",
      "         Transaction_Location Device_Type  Is_Fraud Transaction_Currency  \\\n",
      "0  Thiruvananthapuram, Kerala         POS         0                  INR   \n",
      "1         Nashik, Maharashtra     Desktop         0                  INR   \n",
      "2            Bhagalpur, Bihar     Desktop         0                  INR   \n",
      "3         Chennai, Tamil Nadu      Mobile         0                  INR   \n",
      "4            Amritsar, Punjab      Mobile         0                  INR   \n",
      "\n",
      "  Customer_Contact Transaction_Description           Customer_Email  \n",
      "0   +9198579XXXXXX     Bitcoin transaction      oshaXXXXX@XXXXX.com  \n",
      "1   +9191074XXXXXX        Grocery delivery  hredhaanXXXX@XXXXXX.com  \n",
      "2   +9197745XXXXXX  Mutual fund investment      ekaniXXX@XXXXXX.com  \n",
      "3   +9195889XXXXXX           Food delivery  yaminiXXXXX@XXXXXXX.com  \n",
      "4   +9195316XXXXXX          Debt repayment   kritikaXXXX@XXXXXX.com  \n",
      "\n",
      "[5 rows x 24 columns]\n"
     ]
    }
   ],
   "source": [
    "#Dispalying the first five rows\n",
    "print(df.head())"
   ]
  },
  {
   "cell_type": "code",
   "execution_count": 45,
   "metadata": {},
   "outputs": [
    {
     "data": {
      "application/vnd.microsoft.datawrangler.viewer.v0+json": {
       "columns": [
        {
         "name": "index",
         "rawType": "int64",
         "type": "integer"
        },
        {
         "name": "Customer_ID",
         "rawType": "object",
         "type": "string"
        },
        {
         "name": "Customer_Name",
         "rawType": "object",
         "type": "string"
        },
        {
         "name": "Gender",
         "rawType": "object",
         "type": "string"
        },
        {
         "name": "Age",
         "rawType": "int64",
         "type": "integer"
        },
        {
         "name": "State",
         "rawType": "object",
         "type": "string"
        },
        {
         "name": "City",
         "rawType": "object",
         "type": "string"
        },
        {
         "name": "Bank_Branch",
         "rawType": "object",
         "type": "string"
        },
        {
         "name": "Account_Type",
         "rawType": "object",
         "type": "string"
        },
        {
         "name": "Transaction_ID",
         "rawType": "object",
         "type": "string"
        },
        {
         "name": "Transaction_Date",
         "rawType": "object",
         "type": "string"
        },
        {
         "name": "Transaction_Time",
         "rawType": "object",
         "type": "string"
        },
        {
         "name": "Transaction_Amount",
         "rawType": "float64",
         "type": "float"
        },
        {
         "name": "Merchant_ID",
         "rawType": "object",
         "type": "string"
        },
        {
         "name": "Transaction_Type",
         "rawType": "object",
         "type": "string"
        },
        {
         "name": "Merchant_Category",
         "rawType": "object",
         "type": "string"
        },
        {
         "name": "Account_Balance",
         "rawType": "float64",
         "type": "float"
        },
        {
         "name": "Transaction_Device",
         "rawType": "object",
         "type": "string"
        },
        {
         "name": "Transaction_Location",
         "rawType": "object",
         "type": "string"
        },
        {
         "name": "Device_Type",
         "rawType": "object",
         "type": "string"
        },
        {
         "name": "Is_Fraud",
         "rawType": "int64",
         "type": "integer"
        },
        {
         "name": "Transaction_Currency",
         "rawType": "object",
         "type": "string"
        },
        {
         "name": "Customer_Contact",
         "rawType": "object",
         "type": "string"
        },
        {
         "name": "Transaction_Description",
         "rawType": "object",
         "type": "string"
        },
        {
         "name": "Customer_Email",
         "rawType": "object",
         "type": "string"
        }
       ],
       "conversionMethod": "pd.DataFrame",
       "ref": "930c05aa-d8bd-40af-a009-98c82c5e89ac",
       "rows": [
        [
         "199995",
         "b8bdae19-296f-48b7-9104-e055d33a09ac",
         "Vedhika Magar",
         "Female",
         "55",
         "Dadra and Nagar Haveli and Daman and Diu",
         "Diu",
         "Diu Branch",
         "Business",
         "8d856bc7-4666-4509-a067-48d67500694a",
         "08-01-2025",
         "18:42:09",
         "98513.74",
         "72817d4a-830b-4d16-bf74-244dccfe4cc4",
         "Credit",
         "Restaurant",
         "37475.11",
         "Desktop/Laptop",
         "Diu, Dadra and Nagar Haveli and Daman and Diu",
         "ATM",
         "0",
         "INR",
         "+9192629XXXXXX",
         "ATM withdrawal",
         "vedhikaXXXXX@XXXXXXX.com"
        ],
        [
         "199996",
         "635bc099-8a93-48ee-829a-bf2283fe8fda",
         "Aashi Pai",
         "Male",
         "51",
         "Manipur",
         "Kangpokpi",
         "Kangpokpi Branch",
         "Business",
         "f2890dbd-4e01-445d-97f5-ac56886e9037",
         "01-01-2025",
         "20:51:21",
         "40593.55",
         "087718f9-1faa-44ef-b162-24d20ddc903c",
         "Withdrawal",
         "Groceries",
         "53037.2",
         "ATM",
         "Kangpokpi, Manipur",
         "ATM",
         "0",
         "INR",
         "+9198116XXXXXX",
         "Subscription box",
         "aashiXXX@XXXXXX.com"
        ],
        [
         "199997",
         "c1b31cc2-0905-47e8-8cc5-6461d1f3ba33",
         "Dayita Shan",
         "Female",
         "41",
         "Chandigarh",
         "Chandigarh",
         "Chandigarh Branch",
         "Savings",
         "f714b758-7539-474d-b676-5fa7e2480141",
         "28-01-2025",
         "10:47:40",
         "61579.7",
         "a313cfbc-ef3d-4e59-8347-a948ac292a6f",
         "Withdrawal",
         "Health",
         "96225.36",
         "ATM",
         "Chandigarh, Chandigarh",
         "Desktop",
         "0",
         "INR",
         "+9192601XXXXXX",
         "Charity donation",
         "dayitaXXXX@XXXXXXX.com"
        ],
        [
         "199998",
         "32bb8e66-f3fa-43bf-8242-dab9a6116310",
         "Unnati Vyas",
         "Female",
         "28",
         "Telangana",
         "Nizamabad",
         "Nizamabad Branch",
         "Checking",
         "f6903b6a-b582-47ea-95d5-aff16bdec950",
         "08-01-2025",
         "06:26:41",
         "39488.22",
         "08ef8813-dea0-42bf-9df5-0a63fe07673d",
         "Debit",
         "Electronics",
         "89599.9",
         "Voice Assistant",
         "Nizamabad, Telangana",
         "Desktop",
         "0",
         "INR",
         "+9197537XXXXXX",
         "Tourist attraction payment",
         "unnatiXXX@XXXXX.com"
        ],
        [
         "199999",
         "f3dd92ef-b17a-45d2-b6cb-fdbee20843fe",
         "Gopal Rout",
         "Male",
         "34",
         "Nagaland",
         "Kohima",
         "Kohima Branch",
         "Business",
         "b44b6e8a-1036-4ec1-b492-5e7ffc7baf6d",
         "08-01-2025",
         "15:26:19",
         "58622.49",
         "e0d4aa67-43c0-4aed-836b-698cfaf2df41",
         "Debit",
         "Electronics",
         "15066.24",
         "Virtual Card",
         "Kohima, Nagaland",
         "Mobile",
         "0",
         "INR",
         "+9193961XXXXXX",
         "Installment payment",
         "gopalXXXXX@XXXXXXX.com"
        ]
       ],
       "shape": {
        "columns": 24,
        "rows": 5
       }
      },
      "text/html": [
       "<div>\n",
       "<style scoped>\n",
       "    .dataframe tbody tr th:only-of-type {\n",
       "        vertical-align: middle;\n",
       "    }\n",
       "\n",
       "    .dataframe tbody tr th {\n",
       "        vertical-align: top;\n",
       "    }\n",
       "\n",
       "    .dataframe thead th {\n",
       "        text-align: right;\n",
       "    }\n",
       "</style>\n",
       "<table border=\"1\" class=\"dataframe\">\n",
       "  <thead>\n",
       "    <tr style=\"text-align: right;\">\n",
       "      <th></th>\n",
       "      <th>Customer_ID</th>\n",
       "      <th>Customer_Name</th>\n",
       "      <th>Gender</th>\n",
       "      <th>Age</th>\n",
       "      <th>State</th>\n",
       "      <th>City</th>\n",
       "      <th>Bank_Branch</th>\n",
       "      <th>Account_Type</th>\n",
       "      <th>Transaction_ID</th>\n",
       "      <th>Transaction_Date</th>\n",
       "      <th>...</th>\n",
       "      <th>Merchant_Category</th>\n",
       "      <th>Account_Balance</th>\n",
       "      <th>Transaction_Device</th>\n",
       "      <th>Transaction_Location</th>\n",
       "      <th>Device_Type</th>\n",
       "      <th>Is_Fraud</th>\n",
       "      <th>Transaction_Currency</th>\n",
       "      <th>Customer_Contact</th>\n",
       "      <th>Transaction_Description</th>\n",
       "      <th>Customer_Email</th>\n",
       "    </tr>\n",
       "  </thead>\n",
       "  <tbody>\n",
       "    <tr>\n",
       "      <th>199995</th>\n",
       "      <td>b8bdae19-296f-48b7-9104-e055d33a09ac</td>\n",
       "      <td>Vedhika Magar</td>\n",
       "      <td>Female</td>\n",
       "      <td>55</td>\n",
       "      <td>Dadra and Nagar Haveli and Daman and Diu</td>\n",
       "      <td>Diu</td>\n",
       "      <td>Diu Branch</td>\n",
       "      <td>Business</td>\n",
       "      <td>8d856bc7-4666-4509-a067-48d67500694a</td>\n",
       "      <td>08-01-2025</td>\n",
       "      <td>...</td>\n",
       "      <td>Restaurant</td>\n",
       "      <td>37475.11</td>\n",
       "      <td>Desktop/Laptop</td>\n",
       "      <td>Diu, Dadra and Nagar Haveli and Daman and Diu</td>\n",
       "      <td>ATM</td>\n",
       "      <td>0</td>\n",
       "      <td>INR</td>\n",
       "      <td>+9192629XXXXXX</td>\n",
       "      <td>ATM withdrawal</td>\n",
       "      <td>vedhikaXXXXX@XXXXXXX.com</td>\n",
       "    </tr>\n",
       "    <tr>\n",
       "      <th>199996</th>\n",
       "      <td>635bc099-8a93-48ee-829a-bf2283fe8fda</td>\n",
       "      <td>Aashi Pai</td>\n",
       "      <td>Male</td>\n",
       "      <td>51</td>\n",
       "      <td>Manipur</td>\n",
       "      <td>Kangpokpi</td>\n",
       "      <td>Kangpokpi Branch</td>\n",
       "      <td>Business</td>\n",
       "      <td>f2890dbd-4e01-445d-97f5-ac56886e9037</td>\n",
       "      <td>01-01-2025</td>\n",
       "      <td>...</td>\n",
       "      <td>Groceries</td>\n",
       "      <td>53037.20</td>\n",
       "      <td>ATM</td>\n",
       "      <td>Kangpokpi, Manipur</td>\n",
       "      <td>ATM</td>\n",
       "      <td>0</td>\n",
       "      <td>INR</td>\n",
       "      <td>+9198116XXXXXX</td>\n",
       "      <td>Subscription box</td>\n",
       "      <td>aashiXXX@XXXXXX.com</td>\n",
       "    </tr>\n",
       "    <tr>\n",
       "      <th>199997</th>\n",
       "      <td>c1b31cc2-0905-47e8-8cc5-6461d1f3ba33</td>\n",
       "      <td>Dayita Shan</td>\n",
       "      <td>Female</td>\n",
       "      <td>41</td>\n",
       "      <td>Chandigarh</td>\n",
       "      <td>Chandigarh</td>\n",
       "      <td>Chandigarh Branch</td>\n",
       "      <td>Savings</td>\n",
       "      <td>f714b758-7539-474d-b676-5fa7e2480141</td>\n",
       "      <td>28-01-2025</td>\n",
       "      <td>...</td>\n",
       "      <td>Health</td>\n",
       "      <td>96225.36</td>\n",
       "      <td>ATM</td>\n",
       "      <td>Chandigarh, Chandigarh</td>\n",
       "      <td>Desktop</td>\n",
       "      <td>0</td>\n",
       "      <td>INR</td>\n",
       "      <td>+9192601XXXXXX</td>\n",
       "      <td>Charity donation</td>\n",
       "      <td>dayitaXXXX@XXXXXXX.com</td>\n",
       "    </tr>\n",
       "    <tr>\n",
       "      <th>199998</th>\n",
       "      <td>32bb8e66-f3fa-43bf-8242-dab9a6116310</td>\n",
       "      <td>Unnati Vyas</td>\n",
       "      <td>Female</td>\n",
       "      <td>28</td>\n",
       "      <td>Telangana</td>\n",
       "      <td>Nizamabad</td>\n",
       "      <td>Nizamabad Branch</td>\n",
       "      <td>Checking</td>\n",
       "      <td>f6903b6a-b582-47ea-95d5-aff16bdec950</td>\n",
       "      <td>08-01-2025</td>\n",
       "      <td>...</td>\n",
       "      <td>Electronics</td>\n",
       "      <td>89599.90</td>\n",
       "      <td>Voice Assistant</td>\n",
       "      <td>Nizamabad, Telangana</td>\n",
       "      <td>Desktop</td>\n",
       "      <td>0</td>\n",
       "      <td>INR</td>\n",
       "      <td>+9197537XXXXXX</td>\n",
       "      <td>Tourist attraction payment</td>\n",
       "      <td>unnatiXXX@XXXXX.com</td>\n",
       "    </tr>\n",
       "    <tr>\n",
       "      <th>199999</th>\n",
       "      <td>f3dd92ef-b17a-45d2-b6cb-fdbee20843fe</td>\n",
       "      <td>Gopal Rout</td>\n",
       "      <td>Male</td>\n",
       "      <td>34</td>\n",
       "      <td>Nagaland</td>\n",
       "      <td>Kohima</td>\n",
       "      <td>Kohima Branch</td>\n",
       "      <td>Business</td>\n",
       "      <td>b44b6e8a-1036-4ec1-b492-5e7ffc7baf6d</td>\n",
       "      <td>08-01-2025</td>\n",
       "      <td>...</td>\n",
       "      <td>Electronics</td>\n",
       "      <td>15066.24</td>\n",
       "      <td>Virtual Card</td>\n",
       "      <td>Kohima, Nagaland</td>\n",
       "      <td>Mobile</td>\n",
       "      <td>0</td>\n",
       "      <td>INR</td>\n",
       "      <td>+9193961XXXXXX</td>\n",
       "      <td>Installment payment</td>\n",
       "      <td>gopalXXXXX@XXXXXXX.com</td>\n",
       "    </tr>\n",
       "  </tbody>\n",
       "</table>\n",
       "<p>5 rows × 24 columns</p>\n",
       "</div>"
      ],
      "text/plain": [
       "                                 Customer_ID  Customer_Name  Gender  Age  \\\n",
       "199995  b8bdae19-296f-48b7-9104-e055d33a09ac  Vedhika Magar  Female   55   \n",
       "199996  635bc099-8a93-48ee-829a-bf2283fe8fda      Aashi Pai    Male   51   \n",
       "199997  c1b31cc2-0905-47e8-8cc5-6461d1f3ba33    Dayita Shan  Female   41   \n",
       "199998  32bb8e66-f3fa-43bf-8242-dab9a6116310    Unnati Vyas  Female   28   \n",
       "199999  f3dd92ef-b17a-45d2-b6cb-fdbee20843fe     Gopal Rout    Male   34   \n",
       "\n",
       "                                           State        City  \\\n",
       "199995  Dadra and Nagar Haveli and Daman and Diu         Diu   \n",
       "199996                                   Manipur   Kangpokpi   \n",
       "199997                                Chandigarh  Chandigarh   \n",
       "199998                                 Telangana   Nizamabad   \n",
       "199999                                  Nagaland      Kohima   \n",
       "\n",
       "              Bank_Branch Account_Type                        Transaction_ID  \\\n",
       "199995         Diu Branch     Business  8d856bc7-4666-4509-a067-48d67500694a   \n",
       "199996   Kangpokpi Branch     Business  f2890dbd-4e01-445d-97f5-ac56886e9037   \n",
       "199997  Chandigarh Branch      Savings  f714b758-7539-474d-b676-5fa7e2480141   \n",
       "199998   Nizamabad Branch     Checking  f6903b6a-b582-47ea-95d5-aff16bdec950   \n",
       "199999      Kohima Branch     Business  b44b6e8a-1036-4ec1-b492-5e7ffc7baf6d   \n",
       "\n",
       "       Transaction_Date  ... Merchant_Category  Account_Balance  \\\n",
       "199995       08-01-2025  ...        Restaurant         37475.11   \n",
       "199996       01-01-2025  ...         Groceries         53037.20   \n",
       "199997       28-01-2025  ...            Health         96225.36   \n",
       "199998       08-01-2025  ...       Electronics         89599.90   \n",
       "199999       08-01-2025  ...       Electronics         15066.24   \n",
       "\n",
       "       Transaction_Device                           Transaction_Location  \\\n",
       "199995     Desktop/Laptop  Diu, Dadra and Nagar Haveli and Daman and Diu   \n",
       "199996                ATM                             Kangpokpi, Manipur   \n",
       "199997                ATM                         Chandigarh, Chandigarh   \n",
       "199998    Voice Assistant                           Nizamabad, Telangana   \n",
       "199999       Virtual Card                               Kohima, Nagaland   \n",
       "\n",
       "       Device_Type  Is_Fraud Transaction_Currency Customer_Contact  \\\n",
       "199995         ATM         0                  INR   +9192629XXXXXX   \n",
       "199996         ATM         0                  INR   +9198116XXXXXX   \n",
       "199997     Desktop         0                  INR   +9192601XXXXXX   \n",
       "199998     Desktop         0                  INR   +9197537XXXXXX   \n",
       "199999      Mobile         0                  INR   +9193961XXXXXX   \n",
       "\n",
       "           Transaction_Description            Customer_Email  \n",
       "199995              ATM withdrawal  vedhikaXXXXX@XXXXXXX.com  \n",
       "199996            Subscription box       aashiXXX@XXXXXX.com  \n",
       "199997            Charity donation    dayitaXXXX@XXXXXXX.com  \n",
       "199998  Tourist attraction payment       unnatiXXX@XXXXX.com  \n",
       "199999         Installment payment    gopalXXXXX@XXXXXXX.com  \n",
       "\n",
       "[5 rows x 24 columns]"
      ]
     },
     "execution_count": 45,
     "metadata": {},
     "output_type": "execute_result"
    }
   ],
   "source": [
    "#Displaying the last few rows\n",
    "df.tail()"
   ]
  },
  {
   "cell_type": "code",
   "execution_count": 46,
   "metadata": {},
   "outputs": [
    {
     "data": {
      "text/plain": [
       "(200000, 24)"
      ]
     },
     "execution_count": 46,
     "metadata": {},
     "output_type": "execute_result"
    }
   ],
   "source": [
    "#Checking for the shape of the dataframe\n",
    "df.shape"
   ]
  },
  {
   "cell_type": "code",
   "execution_count": 47,
   "metadata": {},
   "outputs": [
    {
     "name": "stdout",
     "output_type": "stream",
     "text": [
      "<class 'pandas.core.frame.DataFrame'>\n",
      "RangeIndex: 200000 entries, 0 to 199999\n",
      "Data columns (total 24 columns):\n",
      " #   Column                   Non-Null Count   Dtype  \n",
      "---  ------                   --------------   -----  \n",
      " 0   Customer_ID              200000 non-null  object \n",
      " 1   Customer_Name            200000 non-null  object \n",
      " 2   Gender                   200000 non-null  object \n",
      " 3   Age                      200000 non-null  int64  \n",
      " 4   State                    200000 non-null  object \n",
      " 5   City                     200000 non-null  object \n",
      " 6   Bank_Branch              200000 non-null  object \n",
      " 7   Account_Type             200000 non-null  object \n",
      " 8   Transaction_ID           200000 non-null  object \n",
      " 9   Transaction_Date         200000 non-null  object \n",
      " 10  Transaction_Time         200000 non-null  object \n",
      " 11  Transaction_Amount       200000 non-null  float64\n",
      " 12  Merchant_ID              200000 non-null  object \n",
      " 13  Transaction_Type         200000 non-null  object \n",
      " 14  Merchant_Category        200000 non-null  object \n",
      " 15  Account_Balance          200000 non-null  float64\n",
      " 16  Transaction_Device       200000 non-null  object \n",
      " 17  Transaction_Location     200000 non-null  object \n",
      " 18  Device_Type              200000 non-null  object \n",
      " 19  Is_Fraud                 200000 non-null  int64  \n",
      " 20  Transaction_Currency     200000 non-null  object \n",
      " 21  Customer_Contact         200000 non-null  object \n",
      " 22  Transaction_Description  200000 non-null  object \n",
      " 23  Customer_Email           200000 non-null  object \n",
      "dtypes: float64(2), int64(2), object(20)\n",
      "memory usage: 36.6+ MB\n"
     ]
    }
   ],
   "source": [
    "#Checking for basic information about the dataset\n",
    "df.info()"
   ]
  },
  {
   "cell_type": "code",
   "execution_count": 48,
   "metadata": {},
   "outputs": [
    {
     "data": {
      "application/vnd.microsoft.datawrangler.viewer.v0+json": {
       "columns": [
        {
         "name": "index",
         "rawType": "object",
         "type": "string"
        },
        {
         "name": "Age",
         "rawType": "float64",
         "type": "float"
        },
        {
         "name": "Transaction_Amount",
         "rawType": "float64",
         "type": "float"
        },
        {
         "name": "Account_Balance",
         "rawType": "float64",
         "type": "float"
        },
        {
         "name": "Is_Fraud",
         "rawType": "float64",
         "type": "float"
        }
       ],
       "conversionMethod": "pd.DataFrame",
       "ref": "6ea7bf12-a71b-4435-b867-dc7690b7df19",
       "rows": [
        [
         "count",
         "200000.0",
         "200000.0",
         "200000.0",
         "200000.0"
        ],
        [
         "mean",
         "44.01511",
         "49538.0155542",
         "52437.98878355",
         "0.05044"
        ],
        [
         "std",
         "15.28877432696959",
         "28551.87400382295",
         "27399.507128068417",
         "0.21885165267898435"
        ],
        [
         "min",
         "18.0",
         "10.29",
         "5000.82",
         "0.0"
        ],
        [
         "25%",
         "31.0",
         "24851.344999999998",
         "28742.395",
         "0.0"
        ],
        [
         "50%",
         "44.0",
         "49502.44",
         "52372.555",
         "0.0"
        ],
        [
         "75%",
         "57.0",
         "74314.625",
         "76147.67",
         "0.0"
        ],
        [
         "max",
         "70.0",
         "98999.98",
         "99999.95",
         "1.0"
        ]
       ],
       "shape": {
        "columns": 4,
        "rows": 8
       }
      },
      "text/html": [
       "<div>\n",
       "<style scoped>\n",
       "    .dataframe tbody tr th:only-of-type {\n",
       "        vertical-align: middle;\n",
       "    }\n",
       "\n",
       "    .dataframe tbody tr th {\n",
       "        vertical-align: top;\n",
       "    }\n",
       "\n",
       "    .dataframe thead th {\n",
       "        text-align: right;\n",
       "    }\n",
       "</style>\n",
       "<table border=\"1\" class=\"dataframe\">\n",
       "  <thead>\n",
       "    <tr style=\"text-align: right;\">\n",
       "      <th></th>\n",
       "      <th>Age</th>\n",
       "      <th>Transaction_Amount</th>\n",
       "      <th>Account_Balance</th>\n",
       "      <th>Is_Fraud</th>\n",
       "    </tr>\n",
       "  </thead>\n",
       "  <tbody>\n",
       "    <tr>\n",
       "      <th>count</th>\n",
       "      <td>200000.000000</td>\n",
       "      <td>200000.000000</td>\n",
       "      <td>200000.000000</td>\n",
       "      <td>200000.000000</td>\n",
       "    </tr>\n",
       "    <tr>\n",
       "      <th>mean</th>\n",
       "      <td>44.015110</td>\n",
       "      <td>49538.015554</td>\n",
       "      <td>52437.988784</td>\n",
       "      <td>0.050440</td>\n",
       "    </tr>\n",
       "    <tr>\n",
       "      <th>std</th>\n",
       "      <td>15.288774</td>\n",
       "      <td>28551.874004</td>\n",
       "      <td>27399.507128</td>\n",
       "      <td>0.218852</td>\n",
       "    </tr>\n",
       "    <tr>\n",
       "      <th>min</th>\n",
       "      <td>18.000000</td>\n",
       "      <td>10.290000</td>\n",
       "      <td>5000.820000</td>\n",
       "      <td>0.000000</td>\n",
       "    </tr>\n",
       "    <tr>\n",
       "      <th>25%</th>\n",
       "      <td>31.000000</td>\n",
       "      <td>24851.345000</td>\n",
       "      <td>28742.395000</td>\n",
       "      <td>0.000000</td>\n",
       "    </tr>\n",
       "    <tr>\n",
       "      <th>50%</th>\n",
       "      <td>44.000000</td>\n",
       "      <td>49502.440000</td>\n",
       "      <td>52372.555000</td>\n",
       "      <td>0.000000</td>\n",
       "    </tr>\n",
       "    <tr>\n",
       "      <th>75%</th>\n",
       "      <td>57.000000</td>\n",
       "      <td>74314.625000</td>\n",
       "      <td>76147.670000</td>\n",
       "      <td>0.000000</td>\n",
       "    </tr>\n",
       "    <tr>\n",
       "      <th>max</th>\n",
       "      <td>70.000000</td>\n",
       "      <td>98999.980000</td>\n",
       "      <td>99999.950000</td>\n",
       "      <td>1.000000</td>\n",
       "    </tr>\n",
       "  </tbody>\n",
       "</table>\n",
       "</div>"
      ],
      "text/plain": [
       "                 Age  Transaction_Amount  Account_Balance       Is_Fraud\n",
       "count  200000.000000       200000.000000    200000.000000  200000.000000\n",
       "mean       44.015110        49538.015554     52437.988784       0.050440\n",
       "std        15.288774        28551.874004     27399.507128       0.218852\n",
       "min        18.000000           10.290000      5000.820000       0.000000\n",
       "25%        31.000000        24851.345000     28742.395000       0.000000\n",
       "50%        44.000000        49502.440000     52372.555000       0.000000\n",
       "75%        57.000000        74314.625000     76147.670000       0.000000\n",
       "max        70.000000        98999.980000     99999.950000       1.000000"
      ]
     },
     "execution_count": 48,
     "metadata": {},
     "output_type": "execute_result"
    }
   ],
   "source": [
    "#Checking for summary statistics for numerical columns\n",
    "df.describe()"
   ]
  },
  {
   "cell_type": "code",
   "execution_count": 49,
   "metadata": {},
   "outputs": [
    {
     "data": {
      "text/plain": [
       "Index(['Customer_ID', 'Customer_Name', 'Gender', 'Age', 'State', 'City',\n",
       "       'Bank_Branch', 'Account_Type', 'Transaction_ID', 'Transaction_Date',\n",
       "       'Transaction_Time', 'Transaction_Amount', 'Merchant_ID',\n",
       "       'Transaction_Type', 'Merchant_Category', 'Account_Balance',\n",
       "       'Transaction_Device', 'Transaction_Location', 'Device_Type', 'Is_Fraud',\n",
       "       'Transaction_Currency', 'Customer_Contact', 'Transaction_Description',\n",
       "       'Customer_Email'],\n",
       "      dtype='object')"
      ]
     },
     "execution_count": 49,
     "metadata": {},
     "output_type": "execute_result"
    }
   ],
   "source": [
    "#Checking for column names\n",
    "df.columns"
   ]
  },
  {
   "cell_type": "code",
   "execution_count": 50,
   "metadata": {},
   "outputs": [
    {
     "data": {
      "text/plain": [
       "Customer_ID                 object\n",
       "Customer_Name               object\n",
       "Gender                      object\n",
       "Age                          int64\n",
       "State                       object\n",
       "City                        object\n",
       "Bank_Branch                 object\n",
       "Account_Type                object\n",
       "Transaction_ID              object\n",
       "Transaction_Date            object\n",
       "Transaction_Time            object\n",
       "Transaction_Amount         float64\n",
       "Merchant_ID                 object\n",
       "Transaction_Type            object\n",
       "Merchant_Category           object\n",
       "Account_Balance            float64\n",
       "Transaction_Device          object\n",
       "Transaction_Location        object\n",
       "Device_Type                 object\n",
       "Is_Fraud                     int64\n",
       "Transaction_Currency        object\n",
       "Customer_Contact            object\n",
       "Transaction_Description     object\n",
       "Customer_Email              object\n",
       "dtype: object"
      ]
     },
     "execution_count": 50,
     "metadata": {},
     "output_type": "execute_result"
    }
   ],
   "source": [
    "#Checking for Data Types\n",
    "df.dtypes"
   ]
  },
  {
   "cell_type": "code",
   "execution_count": 51,
   "metadata": {},
   "outputs": [
    {
     "data": {
      "text/plain": [
       "0"
      ]
     },
     "execution_count": 51,
     "metadata": {},
     "output_type": "execute_result"
    }
   ],
   "source": [
    "# Checking for duplicate rows \n",
    "df.duplicated().sum()"
   ]
  },
  {
   "cell_type": "code",
   "execution_count": 52,
   "metadata": {},
   "outputs": [
    {
     "data": {
      "text/plain": [
       "Customer_ID                0\n",
       "Customer_Name              0\n",
       "Gender                     0\n",
       "Age                        0\n",
       "State                      0\n",
       "City                       0\n",
       "Bank_Branch                0\n",
       "Account_Type               0\n",
       "Transaction_ID             0\n",
       "Transaction_Date           0\n",
       "Transaction_Time           0\n",
       "Transaction_Amount         0\n",
       "Merchant_ID                0\n",
       "Transaction_Type           0\n",
       "Merchant_Category          0\n",
       "Account_Balance            0\n",
       "Transaction_Device         0\n",
       "Transaction_Location       0\n",
       "Device_Type                0\n",
       "Is_Fraud                   0\n",
       "Transaction_Currency       0\n",
       "Customer_Contact           0\n",
       "Transaction_Description    0\n",
       "Customer_Email             0\n",
       "dtype: int64"
      ]
     },
     "execution_count": 52,
     "metadata": {},
     "output_type": "execute_result"
    }
   ],
   "source": [
    "#Checking for missing values\n",
    "df.isna().sum()"
   ]
  },
  {
   "cell_type": "code",
   "execution_count": 53,
   "metadata": {},
   "outputs": [
    {
     "data": {
      "application/vnd.microsoft.datawrangler.viewer.v0+json": {
       "columns": [
        {
         "name": "index",
         "rawType": "object",
         "type": "string"
        },
        {
         "name": "Age",
         "rawType": "float64",
         "type": "float"
        },
        {
         "name": "Transaction_Amount",
         "rawType": "float64",
         "type": "float"
        },
        {
         "name": "Account_Balance",
         "rawType": "float64",
         "type": "float"
        },
        {
         "name": "Is_Fraud",
         "rawType": "float64",
         "type": "float"
        }
       ],
       "conversionMethod": "pd.DataFrame",
       "ref": "106eb50f-c364-4d1a-8578-15f5108bf788",
       "rows": [
        [
         "Age",
         "1.0",
         "-0.0030869568525225743",
         "0.00026861081287288783",
         "-0.0015173980732457284"
        ],
        [
         "Transaction_Amount",
         "-0.0030869568525225743",
         "1.0",
         "-0.0017351974452351872",
         "-0.0020995053058798074"
        ],
        [
         "Account_Balance",
         "0.00026861081287288783",
         "-0.0017351974452351872",
         "1.0",
         "0.00012535669388712308"
        ],
        [
         "Is_Fraud",
         "-0.0015173980732457284",
         "-0.0020995053058798074",
         "0.00012535669388712308",
         "1.0"
        ]
       ],
       "shape": {
        "columns": 4,
        "rows": 4
       }
      },
      "text/html": [
       "<div>\n",
       "<style scoped>\n",
       "    .dataframe tbody tr th:only-of-type {\n",
       "        vertical-align: middle;\n",
       "    }\n",
       "\n",
       "    .dataframe tbody tr th {\n",
       "        vertical-align: top;\n",
       "    }\n",
       "\n",
       "    .dataframe thead th {\n",
       "        text-align: right;\n",
       "    }\n",
       "</style>\n",
       "<table border=\"1\" class=\"dataframe\">\n",
       "  <thead>\n",
       "    <tr style=\"text-align: right;\">\n",
       "      <th></th>\n",
       "      <th>Age</th>\n",
       "      <th>Transaction_Amount</th>\n",
       "      <th>Account_Balance</th>\n",
       "      <th>Is_Fraud</th>\n",
       "    </tr>\n",
       "  </thead>\n",
       "  <tbody>\n",
       "    <tr>\n",
       "      <th>Age</th>\n",
       "      <td>1.000000</td>\n",
       "      <td>-0.003087</td>\n",
       "      <td>0.000269</td>\n",
       "      <td>-0.001517</td>\n",
       "    </tr>\n",
       "    <tr>\n",
       "      <th>Transaction_Amount</th>\n",
       "      <td>-0.003087</td>\n",
       "      <td>1.000000</td>\n",
       "      <td>-0.001735</td>\n",
       "      <td>-0.002100</td>\n",
       "    </tr>\n",
       "    <tr>\n",
       "      <th>Account_Balance</th>\n",
       "      <td>0.000269</td>\n",
       "      <td>-0.001735</td>\n",
       "      <td>1.000000</td>\n",
       "      <td>0.000125</td>\n",
       "    </tr>\n",
       "    <tr>\n",
       "      <th>Is_Fraud</th>\n",
       "      <td>-0.001517</td>\n",
       "      <td>-0.002100</td>\n",
       "      <td>0.000125</td>\n",
       "      <td>1.000000</td>\n",
       "    </tr>\n",
       "  </tbody>\n",
       "</table>\n",
       "</div>"
      ],
      "text/plain": [
       "                         Age  Transaction_Amount  Account_Balance  Is_Fraud\n",
       "Age                 1.000000           -0.003087         0.000269 -0.001517\n",
       "Transaction_Amount -0.003087            1.000000        -0.001735 -0.002100\n",
       "Account_Balance     0.000269           -0.001735         1.000000  0.000125\n",
       "Is_Fraud           -0.001517           -0.002100         0.000125  1.000000"
      ]
     },
     "execution_count": 53,
     "metadata": {},
     "output_type": "execute_result"
    }
   ],
   "source": [
    "# Checking correlation for numeric columns\n",
    "numeric = df.select_dtypes(include = \"number\")\n",
    "numeric.corr()"
   ]
  },
  {
   "cell_type": "markdown",
   "metadata": {},
   "source": [
    "## Data Exploratory Analysis (EDA)"
   ]
  },
  {
   "cell_type": "markdown",
   "metadata": {},
   "source": [
    "###"
   ]
  },
  {
   "cell_type": "markdown",
   "metadata": {},
   "source": []
  },
  {
   "cell_type": "code",
   "execution_count": null,
   "metadata": {},
   "outputs": [
    {
     "name": "stderr",
     "output_type": "stream",
     "text": [
      "c:\\Users\\Admin\\anaconda3\\Lib\\site-packages\\seaborn\\_oldcore.py:1119: FutureWarning: use_inf_as_na option is deprecated and will be removed in a future version. Convert inf values to NaN before operating instead.\n",
      "  with pd.option_context('mode.use_inf_as_na', True):\n"
     ]
    },
    {
     "data": {
      "image/png": "[encoded data removed]",
      "text/plain": [
       "<Figure size 1000x600 with 1 Axes>"
      ]
     },
     "metadata": {},
     "output_type": "display_data"
    }
   ],
   "source": [
    "#Age Distribution by Fraud Status\n",
    "plt.figure(figsize=(10, 6))\n",
    "sns.histplot(df, x=\"Age\", hue=\"Is_Fraud\", bins=30, kde=True)\n",
    "plt.title(\"Age Distribution by Fraud Status\")\n",
    "plt.show()"
   ]
  },
  {
   "cell_type": "code",
   "execution_count": null,
   "metadata": {},
   "outputs": [
    {
     "name": "stderr",
     "output_type": "stream",
     "text": [
      "c:\\Users\\Admin\\anaconda3\\Lib\\site-packages\\seaborn\\_oldcore.py:1119: FutureWarning: use_inf_as_na option is deprecated and will be removed in a future version. Convert inf values to NaN before operating instead.\n",
      "  with pd.option_context('mode.use_inf_as_na', True):\n"
     ]
    },
    {
     "data": {
      "image/png": "[encoded data removed]",
      "text/plain": [
       "<Figure size 1200x600 with 1 Axes>"
      ]
     },
     "metadata": {},
     "output_type": "display_data"
    }
   ],
   "source": [
    "#Fraud cases distribution by State\n",
    "plt.figure(figsize=(12, 6))\n",
    "sns.histplot(data=df, x=\"State\", hue=\"Is_Fraud\", multiple=\"stack\", shrink=0.8)\n",
    "plt.xticks(rotation=90)\n",
    "plt.title(\"Fraud Cases Distribution by State\")\n",
    "plt.show()"
   ]
  },
  {
   "cell_type": "code",
   "execution_count": 68,
   "metadata": {},
   "outputs": [
    {
     "data": {
      "image/png": "[encoded data removed]",
      "text/plain": [
       "<Figure size 800x600 with 1 Axes>"
      ]
     },
     "metadata": {},
     "output_type": "display_data"
    }
   ],
   "source": [
    "#Distribution of a boxplot of trasactional amount by Gender\n",
    "plt.figure(figsize=(8, 6))\n",
    "sns.boxplot(x=\"Gender\", y=\"Transaction_Amount\", data=df)\n",
    "plt.title(\"Transaction Amount Distribution by Gender\")\n",
    "plt.show()"
   ]
  },
  {
   "cell_type": "markdown",
   "metadata": {},
   "source": [
    "## References\n",
    "\n",
    "https://www.imbankgroup.com/ke/information-security/card-fraud-understanding-and-preventing-it/#:~:text=Types%20of%20Card%20Frauds,get%20a%20debit%20/credit%20card.\n",
    "\n",
    "https://www.centralbank.go.ke/fraud-safety/"
   ]
  },
  {
   "cell_type": "markdown",
   "metadata": {},
   "source": []
  }
 ],
 "metadata": {
  "kernelspec": {
   "display_name": "base",
   "language": "python",
   "name": "python3"
  },
  "language_info": {
   "codemirror_mode": {
    "name": "ipython",
    "version": 3
   },
   "file_extension": ".py",
   "mimetype": "text/x-python",
   "name": "python",
   "nbconvert_exporter": "python",
   "pygments_lexer": "ipython3",
   "version": "3.11.7"
  }
 },
 "nbformat": 4,
 "nbformat_minor": 2
}
