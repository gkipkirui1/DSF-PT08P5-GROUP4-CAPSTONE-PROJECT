{
 "cells": [
  {
   "cell_type": "code",
   "execution_count": 1,
   "metadata": {},
   "outputs": [],
   "source": [
    "# Importing Libraries\n",
    "import pandas as pd\n",
    "import numpy as np\n",
    "import matplotlib.pyplot as plt\n",
    "import seaborn as sns\n",
    "from sklearn.pipeline import Pipeline\n",
    "from sklearn.compose import ColumnTransformer\n",
    "from sklearn.impute import SimpleImputer\n",
    "from sklearn.metrics import accuracy_score,  classification_report, confusion_matrix, roc_curve, auc, roc_auc_score\n",
    "from sklearn.ensemble import RandomForestClassifier\n",
    "from sklearn.preprocessing import MinMaxScaler, StandardScaler, OneHotEncoder, LabelEncoder\n",
    "from sklearn.model_selection import train_test_split, GridSearchCV\n",
    "# from imblearn.over_sampling import SMOTE\n",
    "import warnings \n",
    "warnings.filterwarnings(\"ignore\")\n",
    "\n"
   ]
  },
  {
   "cell_type": "markdown",
   "metadata": {},
   "source": [
    "# Case study..\n",
    "Equity bank was hit by 2.1 million USD debit card fraud.\n",
    "\n",
    "Here the \"card not present\" scam was used to steal from the victims. This uses stolen card details to shop online, the fraudsters often create websites for accessing the funds in those cards.\n",
    "\n",
    "These transactions are done in batches since most of the banks requires customers to disclose their information.\n",
    "\n",
    "Kenyan Banks lose about USD 130 million to cyber criminals yearly mostly through;\n",
    "loan stacking ... practice of getting approval for multiple loans or credits simultaneously within a very short period\n",
    "Identity theft "
   ]
  },
  {
   "cell_type": "markdown",
   "metadata": {},
   "source": [
    "# Here are the Objectives..\n",
    "1. Classify whether a transactions is fraudulent or non-fraudulent using patterns from historical data\n",
    "\n",
    "2. Identify unusual transactions patterns that may signal fraudulent activities, checking for outliers within the transactions.\n",
    "\n",
    "3. Train machine learning model which predicts fraudulent transactions based on historical data.\n",
    "\n",
    "4. Study how demographics including age and gender impact fraud risks.\n",
    "\n",
    "5. Identify peak fraud periods based on transactions date and transactions time."
   ]
  },
  {
   "cell_type": "markdown",
   "metadata": {},
   "source": [
    "# References \n",
    "https://techcabal.com/2024/04/24/equity-bank-employee-involved-in-fraud/"
   ]
  },
  {
   "cell_type": "code",
   "execution_count": 2,
   "metadata": {},
   "outputs": [
    {
     "data": {
      "application/vnd.microsoft.datawrangler.viewer.v0+json": {
       "columns": [
        {
         "name": "index",
         "rawType": "int64",
         "type": "integer"
        },
        {
         "name": "Customer_ID",
         "rawType": "object",
         "type": "string"
        },
        {
         "name": "Customer_Name",
         "rawType": "object",
         "type": "string"
        },
        {
         "name": "Gender",
         "rawType": "object",
         "type": "string"
        },
        {
         "name": "Age",
         "rawType": "int64",
         "type": "integer"
        },
        {
         "name": "State",
         "rawType": "object",
         "type": "string"
        },
        {
         "name": "City",
         "rawType": "object",
         "type": "string"
        },
        {
         "name": "Bank_Branch",
         "rawType": "object",
         "type": "string"
        },
        {
         "name": "Account_Type",
         "rawType": "object",
         "type": "string"
        },
        {
         "name": "Transaction_ID",
         "rawType": "object",
         "type": "string"
        },
        {
         "name": "Transaction_Date",
         "rawType": "object",
         "type": "string"
        },
        {
         "name": "Transaction_Time",
         "rawType": "object",
         "type": "string"
        },
        {
         "name": "Transaction_Amount",
         "rawType": "float64",
         "type": "float"
        },
        {
         "name": "Merchant_ID",
         "rawType": "object",
         "type": "string"
        },
        {
         "name": "Transaction_Type",
         "rawType": "object",
         "type": "string"
        },
        {
         "name": "Merchant_Category",
         "rawType": "object",
         "type": "string"
        },
        {
         "name": "Account_Balance",
         "rawType": "float64",
         "type": "float"
        },
        {
         "name": "Transaction_Device",
         "rawType": "object",
         "type": "string"
        },
        {
         "name": "Transaction_Location",
         "rawType": "object",
         "type": "string"
        },
        {
         "name": "Device_Type",
         "rawType": "object",
         "type": "string"
        },
        {
         "name": "Is_Fraud",
         "rawType": "int64",
         "type": "integer"
        },
        {
         "name": "Transaction_Currency",
         "rawType": "object",
         "type": "string"
        },
        {
         "name": "Customer_Contact",
         "rawType": "object",
         "type": "string"
        },
        {
         "name": "Transaction_Description",
         "rawType": "object",
         "type": "string"
        },
        {
         "name": "Customer_Email",
         "rawType": "object",
         "type": "string"
        }
       ],
       "conversionMethod": "pd.DataFrame",
       "ref": "e3e89405-422a-48bf-be12-2bc016c90d3a",
       "rows": [
        [
         "0",
         "d5f6ec07-d69e-4f47-b9b4-7c58ff17c19e",
         "Osha Tella",
         "Male",
         "60",
         "Kerala",
         "Thiruvananthapuram",
         "Thiruvananthapuram Branch",
         "Savings",
         "4fa3208f-9e23-42dc-b330-844829d0c12c",
         "23-01-2025",
         "16:04:07",
         "32415.45",
         "214e03c5-5c34-40d1-a66c-f440aa2bbd02",
         "Transfer",
         "Restaurant",
         "74557.27",
         "Voice Assistant",
         "Thiruvananthapuram, Kerala",
         "POS",
         "0",
         "INR",
         "+9198579XXXXXX",
         "Bitcoin transaction",
         "oshaXXXXX@XXXXX.com"
        ],
        [
         "1",
         "7c14ad51-781a-4db9-b7bd-67439c175262",
         "Hredhaan Khosla",
         "Female",
         "51",
         "Maharashtra",
         "Nashik",
         "Nashik Branch",
         "Business",
         "c9de0c06-2c4c-40a9-97ed-3c7b8f97c79c",
         "11-01-2025",
         "17:14:53",
         "43622.6",
         "f9e3f11f-28d3-4199-b0ca-f225a155ede6",
         "Bill Payment",
         "Restaurant",
         "74622.66",
         "POS Mobile Device",
         "Nashik, Maharashtra",
         "Desktop",
         "0",
         "INR",
         "+9191074XXXXXX",
         "Grocery delivery",
         "hredhaanXXXX@XXXXXX.com"
        ],
        [
         "2",
         "3a73a0e5-d4da-45aa-85f3-528413900a35",
         "Ekani Nazareth",
         "Male",
         "20",
         "Bihar",
         "Bhagalpur",
         "Bhagalpur Branch",
         "Savings",
         "e41c55f9-c016-4ff3-872b-cae72467c75c",
         "25-01-2025",
         "03:09:52",
         "63062.56",
         "97977d83-5486-4510-af1c-8dada3e1cfa0",
         "Bill Payment",
         "Groceries",
         "66817.99",
         "ATM",
         "Bhagalpur, Bihar",
         "Desktop",
         "0",
         "INR",
         "+9197745XXXXXX",
         "Mutual fund investment",
         "ekaniXXX@XXXXXX.com"
        ],
        [
         "3",
         "7902f4ef-9050-4a79-857d-9c2ea3181940",
         "Yamini Ramachandran",
         "Female",
         "57",
         "Tamil Nadu",
         "Chennai",
         "Chennai Branch",
         "Business",
         "7f7ee11b-ff2c-45a3-802a-49bc47c02ecb",
         "19-01-2025",
         "12:27:02",
         "14000.72",
         "f45cd6b3-5092-44d0-8afb-490894605184",
         "Debit",
         "Entertainment",
         "58177.08",
         "POS Mobile App",
         "Chennai, Tamil Nadu",
         "Mobile",
         "0",
         "INR",
         "+9195889XXXXXX",
         "Food delivery",
         "yaminiXXXXX@XXXXXXX.com"
        ],
        [
         "4",
         "3a4bba70-d9a9-4c5f-8b92-1735fd8c19e9",
         "Kritika Rege",
         "Female",
         "43",
         "Punjab",
         "Amritsar",
         "Amritsar Branch",
         "Savings",
         "f8e6ac6f-81a1-4985-bf12-f60967d852ef",
         "30-01-2025",
         "18:30:46",
         "18335.16",
         "70dd77dd-3b00-4b2c-8ebc-cfb8af5f6741",
         "Transfer",
         "Entertainment",
         "16108.56",
         "Virtual Card",
         "Amritsar, Punjab",
         "Mobile",
         "0",
         "INR",
         "+9195316XXXXXX",
         "Debt repayment",
         "kritikaXXXX@XXXXXX.com"
        ]
       ],
       "shape": {
        "columns": 24,
        "rows": 5
       }
      },
      "text/html": [
       "<div>\n",
       "<style scoped>\n",
       "    .dataframe tbody tr th:only-of-type {\n",
       "        vertical-align: middle;\n",
       "    }\n",
       "\n",
       "    .dataframe tbody tr th {\n",
       "        vertical-align: top;\n",
       "    }\n",
       "\n",
       "    .dataframe thead th {\n",
       "        text-align: right;\n",
       "    }\n",
       "</style>\n",
       "<table border=\"1\" class=\"dataframe\">\n",
       "  <thead>\n",
       "    <tr style=\"text-align: right;\">\n",
       "      <th></th>\n",
       "      <th>Customer_ID</th>\n",
       "      <th>Customer_Name</th>\n",
       "      <th>Gender</th>\n",
       "      <th>Age</th>\n",
       "      <th>State</th>\n",
       "      <th>City</th>\n",
       "      <th>Bank_Branch</th>\n",
       "      <th>Account_Type</th>\n",
       "      <th>Transaction_ID</th>\n",
       "      <th>Transaction_Date</th>\n",
       "      <th>...</th>\n",
       "      <th>Merchant_Category</th>\n",
       "      <th>Account_Balance</th>\n",
       "      <th>Transaction_Device</th>\n",
       "      <th>Transaction_Location</th>\n",
       "      <th>Device_Type</th>\n",
       "      <th>Is_Fraud</th>\n",
       "      <th>Transaction_Currency</th>\n",
       "      <th>Customer_Contact</th>\n",
       "      <th>Transaction_Description</th>\n",
       "      <th>Customer_Email</th>\n",
       "    </tr>\n",
       "  </thead>\n",
       "  <tbody>\n",
       "    <tr>\n",
       "      <th>0</th>\n",
       "      <td>d5f6ec07-d69e-4f47-b9b4-7c58ff17c19e</td>\n",
       "      <td>Osha Tella</td>\n",
       "      <td>Male</td>\n",
       "      <td>60</td>\n",
       "      <td>Kerala</td>\n",
       "      <td>Thiruvananthapuram</td>\n",
       "      <td>Thiruvananthapuram Branch</td>\n",
       "      <td>Savings</td>\n",
       "      <td>4fa3208f-9e23-42dc-b330-844829d0c12c</td>\n",
       "      <td>23-01-2025</td>\n",
       "      <td>...</td>\n",
       "      <td>Restaurant</td>\n",
       "      <td>74557.27</td>\n",
       "      <td>Voice Assistant</td>\n",
       "      <td>Thiruvananthapuram, Kerala</td>\n",
       "      <td>POS</td>\n",
       "      <td>0</td>\n",
       "      <td>INR</td>\n",
       "      <td>+9198579XXXXXX</td>\n",
       "      <td>Bitcoin transaction</td>\n",
       "      <td>oshaXXXXX@XXXXX.com</td>\n",
       "    </tr>\n",
       "    <tr>\n",
       "      <th>1</th>\n",
       "      <td>7c14ad51-781a-4db9-b7bd-67439c175262</td>\n",
       "      <td>Hredhaan Khosla</td>\n",
       "      <td>Female</td>\n",
       "      <td>51</td>\n",
       "      <td>Maharashtra</td>\n",
       "      <td>Nashik</td>\n",
       "      <td>Nashik Branch</td>\n",
       "      <td>Business</td>\n",
       "      <td>c9de0c06-2c4c-40a9-97ed-3c7b8f97c79c</td>\n",
       "      <td>11-01-2025</td>\n",
       "      <td>...</td>\n",
       "      <td>Restaurant</td>\n",
       "      <td>74622.66</td>\n",
       "      <td>POS Mobile Device</td>\n",
       "      <td>Nashik, Maharashtra</td>\n",
       "      <td>Desktop</td>\n",
       "      <td>0</td>\n",
       "      <td>INR</td>\n",
       "      <td>+9191074XXXXXX</td>\n",
       "      <td>Grocery delivery</td>\n",
       "      <td>hredhaanXXXX@XXXXXX.com</td>\n",
       "    </tr>\n",
       "    <tr>\n",
       "      <th>2</th>\n",
       "      <td>3a73a0e5-d4da-45aa-85f3-528413900a35</td>\n",
       "      <td>Ekani Nazareth</td>\n",
       "      <td>Male</td>\n",
       "      <td>20</td>\n",
       "      <td>Bihar</td>\n",
       "      <td>Bhagalpur</td>\n",
       "      <td>Bhagalpur Branch</td>\n",
       "      <td>Savings</td>\n",
       "      <td>e41c55f9-c016-4ff3-872b-cae72467c75c</td>\n",
       "      <td>25-01-2025</td>\n",
       "      <td>...</td>\n",
       "      <td>Groceries</td>\n",
       "      <td>66817.99</td>\n",
       "      <td>ATM</td>\n",
       "      <td>Bhagalpur, Bihar</td>\n",
       "      <td>Desktop</td>\n",
       "      <td>0</td>\n",
       "      <td>INR</td>\n",
       "      <td>+9197745XXXXXX</td>\n",
       "      <td>Mutual fund investment</td>\n",
       "      <td>ekaniXXX@XXXXXX.com</td>\n",
       "    </tr>\n",
       "    <tr>\n",
       "      <th>3</th>\n",
       "      <td>7902f4ef-9050-4a79-857d-9c2ea3181940</td>\n",
       "      <td>Yamini Ramachandran</td>\n",
       "      <td>Female</td>\n",
       "      <td>57</td>\n",
       "      <td>Tamil Nadu</td>\n",
       "      <td>Chennai</td>\n",
       "      <td>Chennai Branch</td>\n",
       "      <td>Business</td>\n",
       "      <td>7f7ee11b-ff2c-45a3-802a-49bc47c02ecb</td>\n",
       "      <td>19-01-2025</td>\n",
       "      <td>...</td>\n",
       "      <td>Entertainment</td>\n",
       "      <td>58177.08</td>\n",
       "      <td>POS Mobile App</td>\n",
       "      <td>Chennai, Tamil Nadu</td>\n",
       "      <td>Mobile</td>\n",
       "      <td>0</td>\n",
       "      <td>INR</td>\n",
       "      <td>+9195889XXXXXX</td>\n",
       "      <td>Food delivery</td>\n",
       "      <td>yaminiXXXXX@XXXXXXX.com</td>\n",
       "    </tr>\n",
       "    <tr>\n",
       "      <th>4</th>\n",
       "      <td>3a4bba70-d9a9-4c5f-8b92-1735fd8c19e9</td>\n",
       "      <td>Kritika Rege</td>\n",
       "      <td>Female</td>\n",
       "      <td>43</td>\n",
       "      <td>Punjab</td>\n",
       "      <td>Amritsar</td>\n",
       "      <td>Amritsar Branch</td>\n",
       "      <td>Savings</td>\n",
       "      <td>f8e6ac6f-81a1-4985-bf12-f60967d852ef</td>\n",
       "      <td>30-01-2025</td>\n",
       "      <td>...</td>\n",
       "      <td>Entertainment</td>\n",
       "      <td>16108.56</td>\n",
       "      <td>Virtual Card</td>\n",
       "      <td>Amritsar, Punjab</td>\n",
       "      <td>Mobile</td>\n",
       "      <td>0</td>\n",
       "      <td>INR</td>\n",
       "      <td>+9195316XXXXXX</td>\n",
       "      <td>Debt repayment</td>\n",
       "      <td>kritikaXXXX@XXXXXX.com</td>\n",
       "    </tr>\n",
       "  </tbody>\n",
       "</table>\n",
       "<p>5 rows × 24 columns</p>\n",
       "</div>"
      ],
      "text/plain": [
       "                            Customer_ID        Customer_Name  Gender  Age  \\\n",
       "0  d5f6ec07-d69e-4f47-b9b4-7c58ff17c19e           Osha Tella    Male   60   \n",
       "1  7c14ad51-781a-4db9-b7bd-67439c175262      Hredhaan Khosla  Female   51   \n",
       "2  3a73a0e5-d4da-45aa-85f3-528413900a35       Ekani Nazareth    Male   20   \n",
       "3  7902f4ef-9050-4a79-857d-9c2ea3181940  Yamini Ramachandran  Female   57   \n",
       "4  3a4bba70-d9a9-4c5f-8b92-1735fd8c19e9         Kritika Rege  Female   43   \n",
       "\n",
       "         State                City                Bank_Branch Account_Type  \\\n",
       "0       Kerala  Thiruvananthapuram  Thiruvananthapuram Branch      Savings   \n",
       "1  Maharashtra              Nashik              Nashik Branch     Business   \n",
       "2        Bihar           Bhagalpur           Bhagalpur Branch      Savings   \n",
       "3   Tamil Nadu             Chennai             Chennai Branch     Business   \n",
       "4       Punjab            Amritsar            Amritsar Branch      Savings   \n",
       "\n",
       "                         Transaction_ID Transaction_Date  ...  \\\n",
       "0  4fa3208f-9e23-42dc-b330-844829d0c12c       23-01-2025  ...   \n",
       "1  c9de0c06-2c4c-40a9-97ed-3c7b8f97c79c       11-01-2025  ...   \n",
       "2  e41c55f9-c016-4ff3-872b-cae72467c75c       25-01-2025  ...   \n",
       "3  7f7ee11b-ff2c-45a3-802a-49bc47c02ecb       19-01-2025  ...   \n",
       "4  f8e6ac6f-81a1-4985-bf12-f60967d852ef       30-01-2025  ...   \n",
       "\n",
       "  Merchant_Category  Account_Balance Transaction_Device  \\\n",
       "0        Restaurant         74557.27    Voice Assistant   \n",
       "1        Restaurant         74622.66  POS Mobile Device   \n",
       "2         Groceries         66817.99                ATM   \n",
       "3     Entertainment         58177.08     POS Mobile App   \n",
       "4     Entertainment         16108.56       Virtual Card   \n",
       "\n",
       "         Transaction_Location Device_Type  Is_Fraud Transaction_Currency  \\\n",
       "0  Thiruvananthapuram, Kerala         POS         0                  INR   \n",
       "1         Nashik, Maharashtra     Desktop         0                  INR   \n",
       "2            Bhagalpur, Bihar     Desktop         0                  INR   \n",
       "3         Chennai, Tamil Nadu      Mobile         0                  INR   \n",
       "4            Amritsar, Punjab      Mobile         0                  INR   \n",
       "\n",
       "  Customer_Contact Transaction_Description           Customer_Email  \n",
       "0   +9198579XXXXXX     Bitcoin transaction      oshaXXXXX@XXXXX.com  \n",
       "1   +9191074XXXXXX        Grocery delivery  hredhaanXXXX@XXXXXX.com  \n",
       "2   +9197745XXXXXX  Mutual fund investment      ekaniXXX@XXXXXX.com  \n",
       "3   +9195889XXXXXX           Food delivery  yaminiXXXXX@XXXXXXX.com  \n",
       "4   +9195316XXXXXX          Debt repayment   kritikaXXXX@XXXXXX.com  \n",
       "\n",
       "[5 rows x 24 columns]"
      ]
     },
     "execution_count": 2,
     "metadata": {},
     "output_type": "execute_result"
    }
   ],
   "source": [
    "data = pd.read_csv(\"data/Bank_Transaction_Fraud_Detection.csv\")\n",
    "data.head()"
   ]
  },
  {
   "cell_type": "code",
   "execution_count": 3,
   "metadata": {},
   "outputs": [
    {
     "data": {
      "text/plain": [
       "Customer_ID                0\n",
       "Customer_Name              0\n",
       "Gender                     0\n",
       "Age                        0\n",
       "State                      0\n",
       "City                       0\n",
       "Bank_Branch                0\n",
       "Account_Type               0\n",
       "Transaction_ID             0\n",
       "Transaction_Date           0\n",
       "Transaction_Time           0\n",
       "Transaction_Amount         0\n",
       "Merchant_ID                0\n",
       "Transaction_Type           0\n",
       "Merchant_Category          0\n",
       "Account_Balance            0\n",
       "Transaction_Device         0\n",
       "Transaction_Location       0\n",
       "Device_Type                0\n",
       "Is_Fraud                   0\n",
       "Transaction_Currency       0\n",
       "Customer_Contact           0\n",
       "Transaction_Description    0\n",
       "Customer_Email             0\n",
       "dtype: int64"
      ]
     },
     "execution_count": 3,
     "metadata": {},
     "output_type": "execute_result"
    }
   ],
   "source": [
    "# checking for missing value\n",
    "data.isna().sum()"
   ]
  },
  {
   "cell_type": "code",
   "execution_count": 4,
   "metadata": {},
   "outputs": [
    {
     "name": "stdout",
     "output_type": "stream",
     "text": [
      "Shape of the dataset: (200000, 24)\n"
     ]
    }
   ],
   "source": [
    "# check the shape of the dataset\n",
    "print(\"Shape of the dataset:\", data.shape)\n"
   ]
  },
  {
   "cell_type": "code",
   "execution_count": 5,
   "metadata": {},
   "outputs": [
    {
     "name": "stdout",
     "output_type": "stream",
     "text": [
      "<class 'pandas.core.frame.DataFrame'>\n",
      "RangeIndex: 200000 entries, 0 to 199999\n",
      "Data columns (total 24 columns):\n",
      " #   Column                   Non-Null Count   Dtype  \n",
      "---  ------                   --------------   -----  \n",
      " 0   Customer_ID              200000 non-null  object \n",
      " 1   Customer_Name            200000 non-null  object \n",
      " 2   Gender                   200000 non-null  object \n",
      " 3   Age                      200000 non-null  int64  \n",
      " 4   State                    200000 non-null  object \n",
      " 5   City                     200000 non-null  object \n",
      " 6   Bank_Branch              200000 non-null  object \n",
      " 7   Account_Type             200000 non-null  object \n",
      " 8   Transaction_ID           200000 non-null  object \n",
      " 9   Transaction_Date         200000 non-null  object \n",
      " 10  Transaction_Time         200000 non-null  object \n",
      " 11  Transaction_Amount       200000 non-null  float64\n",
      " 12  Merchant_ID              200000 non-null  object \n",
      " 13  Transaction_Type         200000 non-null  object \n",
      " 14  Merchant_Category        200000 non-null  object \n",
      " 15  Account_Balance          200000 non-null  float64\n",
      " 16  Transaction_Device       200000 non-null  object \n",
      " 17  Transaction_Location     200000 non-null  object \n",
      " 18  Device_Type              200000 non-null  object \n",
      " 19  Is_Fraud                 200000 non-null  int64  \n",
      " 20  Transaction_Currency     200000 non-null  object \n",
      " 21  Customer_Contact         200000 non-null  object \n",
      " 22  Transaction_Description  200000 non-null  object \n",
      " 23  Customer_Email           200000 non-null  object \n",
      "dtypes: float64(2), int64(2), object(20)\n",
      "memory usage: 36.6+ MB\n"
     ]
    }
   ],
   "source": [
    "# Here check for the column name and data types\n",
    "data.info()"
   ]
  },
  {
   "cell_type": "code",
   "execution_count": 6,
   "metadata": {},
   "outputs": [
    {
     "name": "stdout",
     "output_type": "stream",
     "text": [
      "                 Age  Transaction_Amount  Account_Balance       Is_Fraud\n",
      "count  200000.000000       200000.000000    200000.000000  200000.000000\n",
      "mean       44.015110        49538.015554     52437.988784       0.050440\n",
      "std        15.288774        28551.874004     27399.507128       0.218852\n",
      "min        18.000000           10.290000      5000.820000       0.000000\n",
      "25%        31.000000        24851.345000     28742.395000       0.000000\n",
      "50%        44.000000        49502.440000     52372.555000       0.000000\n",
      "75%        57.000000        74314.625000     76147.670000       0.000000\n",
      "max        70.000000        98999.980000     99999.950000       1.000000\n"
     ]
    }
   ],
   "source": [
    "# check for the summary statistics for the numerical columns\n",
    "print(data.describe())"
   ]
  },
  {
   "cell_type": "code",
   "execution_count": 7,
   "metadata": {},
   "outputs": [
    {
     "data": {
      "application/vnd.microsoft.datawrangler.viewer.v0+json": {
       "columns": [
        {
         "name": "index",
         "rawType": "object",
         "type": "string"
        },
        {
         "name": "Customer_ID",
         "rawType": "object",
         "type": "unknown"
        },
        {
         "name": "Customer_Name",
         "rawType": "object",
         "type": "unknown"
        },
        {
         "name": "Gender",
         "rawType": "object",
         "type": "unknown"
        },
        {
         "name": "State",
         "rawType": "object",
         "type": "unknown"
        },
        {
         "name": "City",
         "rawType": "object",
         "type": "unknown"
        },
        {
         "name": "Bank_Branch",
         "rawType": "object",
         "type": "unknown"
        },
        {
         "name": "Account_Type",
         "rawType": "object",
         "type": "unknown"
        },
        {
         "name": "Transaction_ID",
         "rawType": "object",
         "type": "unknown"
        },
        {
         "name": "Transaction_Date",
         "rawType": "object",
         "type": "unknown"
        },
        {
         "name": "Transaction_Time",
         "rawType": "object",
         "type": "unknown"
        },
        {
         "name": "Merchant_ID",
         "rawType": "object",
         "type": "unknown"
        },
        {
         "name": "Transaction_Type",
         "rawType": "object",
         "type": "unknown"
        },
        {
         "name": "Merchant_Category",
         "rawType": "object",
         "type": "unknown"
        },
        {
         "name": "Transaction_Device",
         "rawType": "object",
         "type": "unknown"
        },
        {
         "name": "Transaction_Location",
         "rawType": "object",
         "type": "unknown"
        },
        {
         "name": "Device_Type",
         "rawType": "object",
         "type": "unknown"
        },
        {
         "name": "Transaction_Currency",
         "rawType": "object",
         "type": "unknown"
        },
        {
         "name": "Customer_Contact",
         "rawType": "object",
         "type": "unknown"
        },
        {
         "name": "Transaction_Description",
         "rawType": "object",
         "type": "unknown"
        },
        {
         "name": "Customer_Email",
         "rawType": "object",
         "type": "unknown"
        }
       ],
       "conversionMethod": "pd.DataFrame",
       "ref": "68f7b45a-2c34-4727-9c07-85890dcc5d5e",
       "rows": [
        [
         "count",
         "200000",
         "200000",
         "200000",
         "200000",
         "200000",
         "200000",
         "200000",
         "200000",
         "200000",
         "200000",
         "200000",
         "200000",
         "200000",
         "200000",
         "200000",
         "200000",
         "200000",
         "200000",
         "200000",
         "200000"
        ],
        [
         "unique",
         "200000",
         "142699",
         "2",
         "34",
         "145",
         "145",
         "3",
         "200000",
         "31",
         "77856",
         "200000",
         "5",
         "6",
         "20",
         "148",
         "4",
         "1",
         "9000",
         "172",
         "4779"
        ],
        [
         "top",
         "d5f6ec07-d69e-4f47-b9b4-7c58ff17c19e",
         "Aahana Kala",
         "Male",
         "Nagaland",
         "Chandigarh",
         "Chandigarh Branch",
         "Checking",
         "4fa3208f-9e23-42dc-b330-844829d0c12c",
         "29-01-2025",
         "07:30:31",
         "214e03c5-5c34-40d1-a66c-f440aa2bbd02",
         "Credit",
         "Restaurant",
         "Self-service Banking Machine",
         "Kavaratti, Lakshadweep",
         "POS",
         "INR",
         "+9191471XXXXXX",
         "Sports ticket",
         "krishnaXXX@XXXXX.com"
        ],
        [
         "freq",
         "1",
         "8",
         "100452",
         "6031",
         "8135",
         "8135",
         "66924",
         "1",
         "6854",
         "11",
         "1",
         "40180",
         "33525",
         "21707",
         "5954",
         "50111",
         "200000",
         "41",
         "1268",
         "99"
        ]
       ],
       "shape": {
        "columns": 20,
        "rows": 4
       }
      },
      "text/html": [
       "<div>\n",
       "<style scoped>\n",
       "    .dataframe tbody tr th:only-of-type {\n",
       "        vertical-align: middle;\n",
       "    }\n",
       "\n",
       "    .dataframe tbody tr th {\n",
       "        vertical-align: top;\n",
       "    }\n",
       "\n",
       "    .dataframe thead th {\n",
       "        text-align: right;\n",
       "    }\n",
       "</style>\n",
       "<table border=\"1\" class=\"dataframe\">\n",
       "  <thead>\n",
       "    <tr style=\"text-align: right;\">\n",
       "      <th></th>\n",
       "      <th>Customer_ID</th>\n",
       "      <th>Customer_Name</th>\n",
       "      <th>Gender</th>\n",
       "      <th>State</th>\n",
       "      <th>City</th>\n",
       "      <th>Bank_Branch</th>\n",
       "      <th>Account_Type</th>\n",
       "      <th>Transaction_ID</th>\n",
       "      <th>Transaction_Date</th>\n",
       "      <th>Transaction_Time</th>\n",
       "      <th>Merchant_ID</th>\n",
       "      <th>Transaction_Type</th>\n",
       "      <th>Merchant_Category</th>\n",
       "      <th>Transaction_Device</th>\n",
       "      <th>Transaction_Location</th>\n",
       "      <th>Device_Type</th>\n",
       "      <th>Transaction_Currency</th>\n",
       "      <th>Customer_Contact</th>\n",
       "      <th>Transaction_Description</th>\n",
       "      <th>Customer_Email</th>\n",
       "    </tr>\n",
       "  </thead>\n",
       "  <tbody>\n",
       "    <tr>\n",
       "      <th>count</th>\n",
       "      <td>200000</td>\n",
       "      <td>200000</td>\n",
       "      <td>200000</td>\n",
       "      <td>200000</td>\n",
       "      <td>200000</td>\n",
       "      <td>200000</td>\n",
       "      <td>200000</td>\n",
       "      <td>200000</td>\n",
       "      <td>200000</td>\n",
       "      <td>200000</td>\n",
       "      <td>200000</td>\n",
       "      <td>200000</td>\n",
       "      <td>200000</td>\n",
       "      <td>200000</td>\n",
       "      <td>200000</td>\n",
       "      <td>200000</td>\n",
       "      <td>200000</td>\n",
       "      <td>200000</td>\n",
       "      <td>200000</td>\n",
       "      <td>200000</td>\n",
       "    </tr>\n",
       "    <tr>\n",
       "      <th>unique</th>\n",
       "      <td>200000</td>\n",
       "      <td>142699</td>\n",
       "      <td>2</td>\n",
       "      <td>34</td>\n",
       "      <td>145</td>\n",
       "      <td>145</td>\n",
       "      <td>3</td>\n",
       "      <td>200000</td>\n",
       "      <td>31</td>\n",
       "      <td>77856</td>\n",
       "      <td>200000</td>\n",
       "      <td>5</td>\n",
       "      <td>6</td>\n",
       "      <td>20</td>\n",
       "      <td>148</td>\n",
       "      <td>4</td>\n",
       "      <td>1</td>\n",
       "      <td>9000</td>\n",
       "      <td>172</td>\n",
       "      <td>4779</td>\n",
       "    </tr>\n",
       "    <tr>\n",
       "      <th>top</th>\n",
       "      <td>d5f6ec07-d69e-4f47-b9b4-7c58ff17c19e</td>\n",
       "      <td>Aahana Kala</td>\n",
       "      <td>Male</td>\n",
       "      <td>Nagaland</td>\n",
       "      <td>Chandigarh</td>\n",
       "      <td>Chandigarh Branch</td>\n",
       "      <td>Checking</td>\n",
       "      <td>4fa3208f-9e23-42dc-b330-844829d0c12c</td>\n",
       "      <td>29-01-2025</td>\n",
       "      <td>07:30:31</td>\n",
       "      <td>214e03c5-5c34-40d1-a66c-f440aa2bbd02</td>\n",
       "      <td>Credit</td>\n",
       "      <td>Restaurant</td>\n",
       "      <td>Self-service Banking Machine</td>\n",
       "      <td>Kavaratti, Lakshadweep</td>\n",
       "      <td>POS</td>\n",
       "      <td>INR</td>\n",
       "      <td>+9191471XXXXXX</td>\n",
       "      <td>Sports ticket</td>\n",
       "      <td>krishnaXXX@XXXXX.com</td>\n",
       "    </tr>\n",
       "    <tr>\n",
       "      <th>freq</th>\n",
       "      <td>1</td>\n",
       "      <td>8</td>\n",
       "      <td>100452</td>\n",
       "      <td>6031</td>\n",
       "      <td>8135</td>\n",
       "      <td>8135</td>\n",
       "      <td>66924</td>\n",
       "      <td>1</td>\n",
       "      <td>6854</td>\n",
       "      <td>11</td>\n",
       "      <td>1</td>\n",
       "      <td>40180</td>\n",
       "      <td>33525</td>\n",
       "      <td>21707</td>\n",
       "      <td>5954</td>\n",
       "      <td>50111</td>\n",
       "      <td>200000</td>\n",
       "      <td>41</td>\n",
       "      <td>1268</td>\n",
       "      <td>99</td>\n",
       "    </tr>\n",
       "  </tbody>\n",
       "</table>\n",
       "</div>"
      ],
      "text/plain": [
       "                                 Customer_ID Customer_Name  Gender     State  \\\n",
       "count                                 200000        200000  200000    200000   \n",
       "unique                                200000        142699       2        34   \n",
       "top     d5f6ec07-d69e-4f47-b9b4-7c58ff17c19e   Aahana Kala    Male  Nagaland   \n",
       "freq                                       1             8  100452      6031   \n",
       "\n",
       "              City        Bank_Branch Account_Type  \\\n",
       "count       200000             200000       200000   \n",
       "unique         145                145            3   \n",
       "top     Chandigarh  Chandigarh Branch     Checking   \n",
       "freq          8135               8135        66924   \n",
       "\n",
       "                              Transaction_ID Transaction_Date  \\\n",
       "count                                 200000           200000   \n",
       "unique                                200000               31   \n",
       "top     4fa3208f-9e23-42dc-b330-844829d0c12c       29-01-2025   \n",
       "freq                                       1             6854   \n",
       "\n",
       "       Transaction_Time                           Merchant_ID  \\\n",
       "count            200000                                200000   \n",
       "unique            77856                                200000   \n",
       "top            07:30:31  214e03c5-5c34-40d1-a66c-f440aa2bbd02   \n",
       "freq                 11                                     1   \n",
       "\n",
       "       Transaction_Type Merchant_Category            Transaction_Device  \\\n",
       "count            200000            200000                        200000   \n",
       "unique                5                 6                            20   \n",
       "top              Credit        Restaurant  Self-service Banking Machine   \n",
       "freq              40180             33525                         21707   \n",
       "\n",
       "          Transaction_Location Device_Type Transaction_Currency  \\\n",
       "count                   200000      200000               200000   \n",
       "unique                     148           4                    1   \n",
       "top     Kavaratti, Lakshadweep         POS                  INR   \n",
       "freq                      5954       50111               200000   \n",
       "\n",
       "       Customer_Contact Transaction_Description        Customer_Email  \n",
       "count            200000                  200000                200000  \n",
       "unique             9000                     172                  4779  \n",
       "top      +9191471XXXXXX           Sports ticket  krishnaXXX@XXXXX.com  \n",
       "freq                 41                    1268                    99  "
      ]
     },
     "execution_count": 7,
     "metadata": {},
     "output_type": "execute_result"
    }
   ],
   "source": [
    "# get the summary statistics for categorical columns\n",
    "data.describe(include = object)"
   ]
  },
  {
   "cell_type": "code",
   "execution_count": 8,
   "metadata": {},
   "outputs": [
    {
     "data": {
      "image/png": "[encoded data removed]",
      "text/plain": [
       "<Figure size 640x480 with 1 Axes>"
      ]
     },
     "metadata": {},
     "output_type": "display_data"
    }
   ],
   "source": [
    "# Analyzing the target variable by checking distribution \n",
    "data[\"Is_Fraud\"].value_counts(normalize = True)\n",
    "\n",
    "# visualizing the distribution\n",
    "sns.countplot(x = \"Is_Fraud\", data = data)\n",
    "plt.title(\"Distribution of the Fraudulent Transactions\")\n",
    "plt.show()"
   ]
  },
  {
   "cell_type": "code",
   "execution_count": 9,
   "metadata": {},
   "outputs": [
    {
     "data": {
      "application/vnd.microsoft.datawrangler.viewer.v0+json": {
       "columns": [
        {
         "name": "index",
         "rawType": "int64",
         "type": "integer"
        },
        {
         "name": "Customer_ID",
         "rawType": "object",
         "type": "string"
        },
        {
         "name": "Customer_Name",
         "rawType": "object",
         "type": "string"
        },
        {
         "name": "Gender",
         "rawType": "object",
         "type": "string"
        },
        {
         "name": "Age",
         "rawType": "int64",
         "type": "integer"
        },
        {
         "name": "State",
         "rawType": "object",
         "type": "string"
        },
        {
         "name": "City",
         "rawType": "object",
         "type": "string"
        },
        {
         "name": "Bank_Branch",
         "rawType": "object",
         "type": "string"
        },
        {
         "name": "Account_Type",
         "rawType": "object",
         "type": "string"
        },
        {
         "name": "Transaction_ID",
         "rawType": "object",
         "type": "string"
        },
        {
         "name": "Transaction_Date",
         "rawType": "object",
         "type": "string"
        },
        {
         "name": "Transaction_Time",
         "rawType": "object",
         "type": "string"
        },
        {
         "name": "Transaction_Amount",
         "rawType": "float64",
         "type": "float"
        },
        {
         "name": "Merchant_ID",
         "rawType": "object",
         "type": "string"
        },
        {
         "name": "Transaction_Type",
         "rawType": "object",
         "type": "string"
        },
        {
         "name": "Merchant_Category",
         "rawType": "object",
         "type": "string"
        },
        {
         "name": "Account_Balance",
         "rawType": "float64",
         "type": "float"
        },
        {
         "name": "Transaction_Device",
         "rawType": "object",
         "type": "string"
        },
        {
         "name": "Transaction_Location",
         "rawType": "object",
         "type": "string"
        },
        {
         "name": "Device_Type",
         "rawType": "object",
         "type": "string"
        },
        {
         "name": "Is_Fraud",
         "rawType": "int64",
         "type": "integer"
        },
        {
         "name": "Transaction_Currency",
         "rawType": "object",
         "type": "string"
        },
        {
         "name": "Customer_Contact",
         "rawType": "object",
         "type": "string"
        },
        {
         "name": "Transaction_Description",
         "rawType": "object",
         "type": "string"
        },
        {
         "name": "Customer_Email",
         "rawType": "object",
         "type": "string"
        }
       ],
       "conversionMethod": "pd.DataFrame",
       "ref": "d16eb7ef-82cc-4202-908d-5af79d416d14",
       "rows": [
        [
         "0",
         "d5f6ec07-d69e-4f47-b9b4-7c58ff17c19e",
         "Osha Tella",
         "Male",
         "60",
         "Kerala",
         "Thiruvananthapuram",
         "Thiruvananthapuram Branch",
         "Savings",
         "4fa3208f-9e23-42dc-b330-844829d0c12c",
         "23-01-2025",
         "16:04:07",
         "32415.45",
         "214e03c5-5c34-40d1-a66c-f440aa2bbd02",
         "Transfer",
         "Restaurant",
         "74557.27",
         "Voice Assistant",
         "Thiruvananthapuram, Kerala",
         "POS",
         "0",
         "INR",
         "+9198579XXXXXX",
         "Bitcoin transaction",
         "oshaXXXXX@XXXXX.com"
        ],
        [
         "1",
         "7c14ad51-781a-4db9-b7bd-67439c175262",
         "Hredhaan Khosla",
         "Female",
         "51",
         "Maharashtra",
         "Nashik",
         "Nashik Branch",
         "Business",
         "c9de0c06-2c4c-40a9-97ed-3c7b8f97c79c",
         "11-01-2025",
         "17:14:53",
         "43622.6",
         "f9e3f11f-28d3-4199-b0ca-f225a155ede6",
         "Bill Payment",
         "Restaurant",
         "74622.66",
         "POS Mobile Device",
         "Nashik, Maharashtra",
         "Desktop",
         "0",
         "INR",
         "+9191074XXXXXX",
         "Grocery delivery",
         "hredhaanXXXX@XXXXXX.com"
        ]
       ],
       "shape": {
        "columns": 24,
        "rows": 2
       }
      },
      "text/html": [
       "<div>\n",
       "<style scoped>\n",
       "    .dataframe tbody tr th:only-of-type {\n",
       "        vertical-align: middle;\n",
       "    }\n",
       "\n",
       "    .dataframe tbody tr th {\n",
       "        vertical-align: top;\n",
       "    }\n",
       "\n",
       "    .dataframe thead th {\n",
       "        text-align: right;\n",
       "    }\n",
       "</style>\n",
       "<table border=\"1\" class=\"dataframe\">\n",
       "  <thead>\n",
       "    <tr style=\"text-align: right;\">\n",
       "      <th></th>\n",
       "      <th>Customer_ID</th>\n",
       "      <th>Customer_Name</th>\n",
       "      <th>Gender</th>\n",
       "      <th>Age</th>\n",
       "      <th>State</th>\n",
       "      <th>City</th>\n",
       "      <th>Bank_Branch</th>\n",
       "      <th>Account_Type</th>\n",
       "      <th>Transaction_ID</th>\n",
       "      <th>Transaction_Date</th>\n",
       "      <th>...</th>\n",
       "      <th>Merchant_Category</th>\n",
       "      <th>Account_Balance</th>\n",
       "      <th>Transaction_Device</th>\n",
       "      <th>Transaction_Location</th>\n",
       "      <th>Device_Type</th>\n",
       "      <th>Is_Fraud</th>\n",
       "      <th>Transaction_Currency</th>\n",
       "      <th>Customer_Contact</th>\n",
       "      <th>Transaction_Description</th>\n",
       "      <th>Customer_Email</th>\n",
       "    </tr>\n",
       "  </thead>\n",
       "  <tbody>\n",
       "    <tr>\n",
       "      <th>0</th>\n",
       "      <td>d5f6ec07-d69e-4f47-b9b4-7c58ff17c19e</td>\n",
       "      <td>Osha Tella</td>\n",
       "      <td>Male</td>\n",
       "      <td>60</td>\n",
       "      <td>Kerala</td>\n",
       "      <td>Thiruvananthapuram</td>\n",
       "      <td>Thiruvananthapuram Branch</td>\n",
       "      <td>Savings</td>\n",
       "      <td>4fa3208f-9e23-42dc-b330-844829d0c12c</td>\n",
       "      <td>23-01-2025</td>\n",
       "      <td>...</td>\n",
       "      <td>Restaurant</td>\n",
       "      <td>74557.27</td>\n",
       "      <td>Voice Assistant</td>\n",
       "      <td>Thiruvananthapuram, Kerala</td>\n",
       "      <td>POS</td>\n",
       "      <td>0</td>\n",
       "      <td>INR</td>\n",
       "      <td>+9198579XXXXXX</td>\n",
       "      <td>Bitcoin transaction</td>\n",
       "      <td>oshaXXXXX@XXXXX.com</td>\n",
       "    </tr>\n",
       "    <tr>\n",
       "      <th>1</th>\n",
       "      <td>7c14ad51-781a-4db9-b7bd-67439c175262</td>\n",
       "      <td>Hredhaan Khosla</td>\n",
       "      <td>Female</td>\n",
       "      <td>51</td>\n",
       "      <td>Maharashtra</td>\n",
       "      <td>Nashik</td>\n",
       "      <td>Nashik Branch</td>\n",
       "      <td>Business</td>\n",
       "      <td>c9de0c06-2c4c-40a9-97ed-3c7b8f97c79c</td>\n",
       "      <td>11-01-2025</td>\n",
       "      <td>...</td>\n",
       "      <td>Restaurant</td>\n",
       "      <td>74622.66</td>\n",
       "      <td>POS Mobile Device</td>\n",
       "      <td>Nashik, Maharashtra</td>\n",
       "      <td>Desktop</td>\n",
       "      <td>0</td>\n",
       "      <td>INR</td>\n",
       "      <td>+9191074XXXXXX</td>\n",
       "      <td>Grocery delivery</td>\n",
       "      <td>hredhaanXXXX@XXXXXX.com</td>\n",
       "    </tr>\n",
       "  </tbody>\n",
       "</table>\n",
       "<p>2 rows × 24 columns</p>\n",
       "</div>"
      ],
      "text/plain": [
       "                            Customer_ID    Customer_Name  Gender  Age  \\\n",
       "0  d5f6ec07-d69e-4f47-b9b4-7c58ff17c19e       Osha Tella    Male   60   \n",
       "1  7c14ad51-781a-4db9-b7bd-67439c175262  Hredhaan Khosla  Female   51   \n",
       "\n",
       "         State                City                Bank_Branch Account_Type  \\\n",
       "0       Kerala  Thiruvananthapuram  Thiruvananthapuram Branch      Savings   \n",
       "1  Maharashtra              Nashik              Nashik Branch     Business   \n",
       "\n",
       "                         Transaction_ID Transaction_Date  ...  \\\n",
       "0  4fa3208f-9e23-42dc-b330-844829d0c12c       23-01-2025  ...   \n",
       "1  c9de0c06-2c4c-40a9-97ed-3c7b8f97c79c       11-01-2025  ...   \n",
       "\n",
       "  Merchant_Category  Account_Balance Transaction_Device  \\\n",
       "0        Restaurant         74557.27    Voice Assistant   \n",
       "1        Restaurant         74622.66  POS Mobile Device   \n",
       "\n",
       "         Transaction_Location Device_Type  Is_Fraud Transaction_Currency  \\\n",
       "0  Thiruvananthapuram, Kerala         POS         0                  INR   \n",
       "1         Nashik, Maharashtra     Desktop         0                  INR   \n",
       "\n",
       "  Customer_Contact Transaction_Description           Customer_Email  \n",
       "0   +9198579XXXXXX     Bitcoin transaction      oshaXXXXX@XXXXX.com  \n",
       "1   +9191074XXXXXX        Grocery delivery  hredhaanXXXX@XXXXXX.com  \n",
       "\n",
       "[2 rows x 24 columns]"
      ]
     },
     "execution_count": 9,
     "metadata": {},
     "output_type": "execute_result"
    }
   ],
   "source": [
    "data.head(2)"
   ]
  },
  {
   "cell_type": "code",
   "execution_count": 13,
   "metadata": {},
   "outputs": [
    {
     "data": {
      "image/png": "[encoded data removed]",
      "text/plain": [
       "<Figure size 600x400 with 1 Axes>"
      ]
     },
     "metadata": {},
     "output_type": "display_data"
    }
   ],
   "source": [
    "# get the transactions by gender..\n",
    "plt.figure(figsize = (6,4))\n",
    "sns.countplot(x = data[\"Gender\"])\n",
    "plt.title(\"Tranasction Distribution by Gender\")\n",
    "plt.show()\n",
    "\n",
    "# check for the fraud rate by gender\n",
    "\n",
    "\n",
    "# # Check fraud rate per gender\n",
    "# plt.figure(figsize=(6,4))\n",
    "# sns.barplot(x=data['gender'], y=data['fraud_label'])\n",
    "# plt.title(\"Fraud Rate by Gender\")\n",
    "# plt.show()\n"
   ]
  },
  {
   "cell_type": "code",
   "execution_count": 15,
   "metadata": {},
   "outputs": [
    {
     "data": {
      "image/png": "[encoded data removed]",
      "text/plain": [
       "<Figure size 800x500 with 1 Axes>"
      ]
     },
     "metadata": {},
     "output_type": "display_data"
    }
   ],
   "source": [
    "# Distribution of the transaction amounts\n",
    "plt.figure(figsize = (8, 5))\n",
    "sns.histplot(data[\"Transaction_Amount\"], bins = 50, kde = True)\n",
    "plt.title(\"Distribution for Transaction Amounts\")\n",
    "plt.show()"
   ]
  },
  {
   "cell_type": "code",
   "execution_count": 16,
   "metadata": {},
   "outputs": [
    {
     "data": {
      "image/png": "[encoded data removed]",
      "text/plain": [
       "<Figure size 800x500 with 1 Axes>"
      ]
     },
     "metadata": {},
     "output_type": "display_data"
    }
   ],
   "source": [
    "# here we visualize a Boxplot of the transaction amounts for fraud against non-fraud\n",
    "plt.figure(figsize = (8, 5))\n",
    "sns.boxplot(x = data[\"Is_Fraud\"], y = data[\"Transaction_Amount\"])\n",
    "plt.title(\"Transaction Amounts for the cases of Fraud and Non-Fraud Transactions\")\n",
    "plt.show()"
   ]
  },
  {
   "cell_type": "code",
   "execution_count": 17,
   "metadata": {},
   "outputs": [
    {
     "data": {
      "image/png": "[encoded data removed]",
      "text/plain": [
       "<Figure size 800x500 with 1 Axes>"
      ]
     },
     "metadata": {},
     "output_type": "display_data"
    }
   ],
   "source": [
    "# Analyze the transaction type based on Fraud cases.\n",
    "plt.figure(figsize = (8, 5))\n",
    "sns.countplot(x = data[\"Transaction_Type\"], hue = data[\"Is_Fraud\"])\n",
    "plt.xticks(rotation = 45)\n",
    "plt.title(\"Fraud Rate by Transaction Type\")\n",
    "plt.show()"
   ]
  },
  {
   "cell_type": "code",
   "execution_count": 24,
   "metadata": {},
   "outputs": [
    {
     "data": {
      "text/plain": [
       "Index(['Customer_ID', 'Customer_Name', 'Gender', 'Age', 'State', 'City',\n",
       "       'Bank_Branch', 'Account_Type', 'Transaction_ID', 'Transaction_Date',\n",
       "       'Transaction_Time', 'Transaction_Amount', 'Merchant_ID',\n",
       "       'Transaction_Type', 'Merchant_Category', 'Account_Balance',\n",
       "       'Transaction_Device', 'Transaction_Location', 'Device_Type', 'Is_Fraud',\n",
       "       'Transaction_Currency', 'Customer_Contact', 'Transaction_Description',\n",
       "       'Customer_Email'],\n",
       "      dtype='object')"
      ]
     },
     "execution_count": 24,
     "metadata": {},
     "output_type": "execute_result"
    }
   ],
   "source": [
    "data.columns"
   ]
  },
  {
   "cell_type": "code",
   "execution_count": 45,
   "metadata": {},
   "outputs": [
    {
     "name": "stdout",
     "output_type": "stream",
     "text": [
      "0        2025-03-13 16:04:07\n",
      "1        2025-03-13 17:14:53\n",
      "2        2025-03-13 03:09:52\n",
      "3        2025-03-13 12:27:02\n",
      "4        2025-03-13 18:30:46\n",
      "                 ...        \n",
      "199995   2025-03-13 18:42:09\n",
      "199996   2025-03-13 20:51:21\n",
      "199997   2025-03-13 10:47:40\n",
      "199998   2025-03-13 06:26:41\n",
      "199999   2025-03-13 15:26:19\n",
      "Name: Transaction_Time, Length: 200000, dtype: datetime64[ns]\n",
      "-----\n"
     ]
    },
    {
     "data": {
      "text/plain": [
       "0         False\n",
       "1         False\n",
       "2         False\n",
       "3         False\n",
       "4         False\n",
       "          ...  \n",
       "199995    False\n",
       "199996    False\n",
       "199997    False\n",
       "199998    False\n",
       "199999    False\n",
       "Name: Fraudulent, Length: 200000, dtype: bool"
      ]
     },
     "execution_count": 45,
     "metadata": {},
     "output_type": "execute_result"
    }
   ],
   "source": [
    "# Analyze the transaction patterns over time\n",
    "data[\"Transaction_Time\"] = pd.to_datetime(data[\"Transaction_Time\"])\n",
    "print(data[\"Transaction_Time\"])\n",
    "\n",
    "print(\"-----\")\n",
    "\n",
    "# create a new column to identify whether the transaction is Fraudulent\n",
    "data[\"Fraudulent\"] = data[\"Is_Fraud\"] == 1\n",
    "data[\"Fraudulent\"] \n",
    "\n",
    "# group the data by the time intervals then count the number of fraudulent transactions\n",
    "# fraudulent_activities = data[data[\"Is_Fraud\"]].resample('D', on = \"Transaction_Time\").size()\n",
    "\n"
   ]
  },
  {
   "cell_type": "markdown",
   "metadata": {},
   "source": [
    "Ensemble Methods\n",
    "Balanced Random Forest: Modifies the random forest algorithm to handle class imbalance by undersampling the majority class at each tree.\n",
    "AdaBoost: Adjusts the weights of incorrectly classified instances, which can help in focusing on the minority class."
   ]
  },
  {
   "cell_type": "code",
   "execution_count": null,
   "metadata": {},
   "outputs": [],
   "source": []
  },
  {
   "cell_type": "code",
   "execution_count": null,
   "metadata": {},
   "outputs": [],
   "source": []
  },
  {
   "cell_type": "code",
   "execution_count": null,
   "metadata": {},
   "outputs": [],
   "source": []
  },
  {
   "cell_type": "code",
   "execution_count": null,
   "metadata": {},
   "outputs": [],
   "source": []
  },
  {
   "cell_type": "code",
   "execution_count": null,
   "metadata": {},
   "outputs": [],
   "source": []
  },
  {
   "cell_type": "code",
   "execution_count": null,
   "metadata": {},
   "outputs": [],
   "source": []
  },
  {
   "cell_type": "code",
   "execution_count": null,
   "metadata": {},
   "outputs": [],
   "source": []
  }
 ],
 "metadata": {
  "kernelspec": {
   "display_name": "learn-env",
   "language": "python",
   "name": "python3"
  },
  "language_info": {
   "codemirror_mode": {
    "name": "ipython",
    "version": 3
   },
   "file_extension": ".py",
   "mimetype": "text/x-python",
   "name": "python",
   "nbconvert_exporter": "python",
   "pygments_lexer": "ipython3",
   "version": "3.8.5"
  }
 },
 "nbformat": 4,
 "nbformat_minor": 2
}
